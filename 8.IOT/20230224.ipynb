{
 "cells": [
  {
   "attachments": {},
   "cell_type": "markdown",
   "metadata": {},
   "source": [
    "# File System"
   ]
  },
  {
   "attachments": {},
   "cell_type": "markdown",
   "metadata": {},
   "source": [
    "- ~ : root\n",
    "- /home/`username` 에서 주로 작업\n",
    "- usb 등 연결 시 /var/ 내에 마운트됨"
   ]
  },
  {
   "attachments": {},
   "cell_type": "markdown",
   "metadata": {},
   "source": [
    "- 절대경로 : /\n",
    "- 상대경로 : ../../"
   ]
  },
  {
   "attachments": {},
   "cell_type": "markdown",
   "metadata": {},
   "source": [
    "## 리눅스 기본 명령어"
   ]
  },
  {
   "attachments": {},
   "cell_type": "markdown",
   "metadata": {},
   "source": [
    "- ls : 현재 디렉토리에 있는 파일의 목록을 나열\n",
    "- cd : 디렉토리 이동\n",
    "- pwd : 현재 경로 출력\n",
    "- mkdir : 폴더 생성\n",
    "- touch : 파일 생성"
   ]
  },
  {
   "attachments": {},
   "cell_type": "markdown",
   "metadata": {},
   "source": [
    "- cp : 파일이나 디텍토리를 복사\n",
    "- rm : 파일이나 디렉토리를 삭제\n",
    "- mv : 파일이나 디렉토리의 이름을 바꾸거나 위치를 변경"
   ]
  },
  {
   "attachments": {},
   "cell_type": "markdown",
   "metadata": {},
   "source": [
    "- rmdir : 디렉토리를 삭제(단, 비어 있어야 함)\n",
    "- cat : 텍스트로 작성된 파일을 화면에 출력  \n",
    "    ```linux\n",
    "    cat a.txt b.txt\n",
    "    ```\n"
   ]
  },
  {
   "attachments": {},
   "cell_type": "markdown",
   "metadata": {},
   "source": [
    "- head, tail : 텍스트로 작성된 파일의 head, tail을 화면에 출력\n",
    "- more : 텍스트 파일을 스크롤하며 확인\n",
    "- less : more와 유사하지만 확장된 기능\n",
    "- file : 텍스트 파일의 타입을 확인"
   ]
  },
  {
   "attachments": {},
   "cell_type": "markdown",
   "metadata": {},
   "source": [
    "- find [경로][옵션][조건][action] : 기본 파일 찾기\n",
    "  - [옵션] : -name, -user(소유자), -newer(전후)"
   ]
  },
  {
   "attachments": {},
   "cell_type": "markdown",
   "metadata": {},
   "source": [
    "- cron\n",
    "  - 주기적으로 반복되는 일을 자동적으로 실행될 수 있도록 설정\n",
    "  - 관련된 데몬(서비스)은 \"croud\"\n",
    "\n",
    "  - cron table의 각 필드  \n",
    "      |분|시간|날짜|달|요일|사용자|명령|\n",
    "  - 각 필드\n",
    "    - * : everytime | - : 범위지정 | , : 구분 | */x : 매 x분/시/일...\n",
    "  - crontab\n",
    "    - crontab -l : 리스트 확인\n",
    "    - crontab -e : 에디터\n",
    "    - crontab ?????"
   ]
  }
 ],
 "metadata": {
  "kernelspec": {
   "display_name": "CV",
   "language": "python",
   "name": "python3"
  },
  "language_info": {
   "name": "python",
   "version": "3.9.16"
  },
  "orig_nbformat": 4,
  "vscode": {
   "interpreter": {
    "hash": "8c52f7cfaa563a0ecb00d3b656d8da84993683de9d08bbaf570c34e50e32eacc"
   }
  }
 },
 "nbformat": 4,
 "nbformat_minor": 2
}
