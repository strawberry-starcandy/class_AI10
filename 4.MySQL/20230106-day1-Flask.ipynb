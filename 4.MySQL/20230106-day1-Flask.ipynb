{
 "cells": [
  {
   "cell_type": "code",
   "execution_count": 3,
   "id": "f5f3fa80",
   "metadata": {},
   "outputs": [],
   "source": [
    "from flask import Flask, render_template, request\n",
    "import datetime"
   ]
  },
  {
   "cell_type": "code",
   "execution_count": 4,
   "id": "406f9f6e",
   "metadata": {},
   "outputs": [
    {
     "name": "stdout",
     "output_type": "stream",
     "text": [
      " * Serving Flask app '__main__'\n",
      " * Debug mode: on\n"
     ]
    },
    {
     "name": "stderr",
     "output_type": "stream",
     "text": [
      "WARNING: This is a development server. Do not use it in a production deployment. Use a production WSGI server instead.\n",
      " * Running on http://127.0.0.1:5000\n",
      "Press CTRL+C to quit\n",
      " * Restarting with stat\n"
     ]
    },
    {
     "ename": "SystemExit",
     "evalue": "1",
     "output_type": "error",
     "traceback": [
      "An exception has occurred, use %tb to see the full traceback.\n",
      "\u001b[1;31mSystemExit\u001b[0m\u001b[1;31m:\u001b[0m 1\n"
     ]
    },
    {
     "name": "stderr",
     "output_type": "stream",
     "text": [
      "C:\\Users\\YGL\\YGL\\myproject\\venv\\Lib\\site-packages\\IPython\\core\\interactiveshell.py:3441: UserWarning: To exit: use 'exit', 'quit', or Ctrl-D.\n",
      "  warn(\"To exit: use 'exit', 'quit', or Ctrl-D.\", stacklevel=1)\n"
     ]
    }
   ],
   "source": [
    "app = Flask(__name__)\n",
    "\n",
    "@app.route('/', methods=['GET', 'POST'])\n",
    "def home():\n",
    "    return '''<table> \n",
    "            <tr>\n",
    "                <td> contents1 </td>\n",
    "                <td> contents2 </td>\n",
    "                <td> contents3 </td>\n",
    "            </tr>\n",
    "            <tr>\n",
    "                <td> contents4 </td>\n",
    "                <td> contents5 </td>\n",
    "                <td> contents6 </td>\n",
    "            </tr>\n",
    "        </table>\n",
    "<body>\n",
    "    <h3> 표 만들기 연습 </h3>\n",
    "        <table border=“1”> \n",
    "            <caption> 학생별 식단표 </caption>\n",
    "            <thead>\n",
    "                <tr>\n",
    "                    <th> 번호 </th>\n",
    "                    <th> 학생명 </th>\n",
    "                    <th> 좋아하는 메뉴 </th>\n",
    "                </tr>\n",
    "            </thead>\n",
    "            <tbody>\n",
    "                <tr>\n",
    "                    <td> 1 </td>\n",
    "                    <td> 홍길동 </td>\n",
    "                    <td> 파스타 </td>\n",
    "                </tr>\n",
    "            </tbody>\n",
    "            <tfoot>\n",
    "                <tr>\n",
    "                    <td> 합계 </td>\n",
    "                    <td> 1 명 </td>\n",
    "                    <td> 8,000원 </td>\n",
    "                </tr>\n",
    "            </tfoot>\n",
    "        </table>\n",
    "    </body>'''\n",
    "\n",
    "if __name__ == '__main__':\n",
    "    app.run(debug=True)"
   ]
  },
  {
   "cell_type": "code",
   "execution_count": null,
   "id": "2974472a",
   "metadata": {},
   "outputs": [],
   "source": []
  },
  {
   "cell_type": "code",
   "execution_count": 1,
   "id": "eec02b69",
   "metadata": {},
   "outputs": [],
   "source": [
    "from flask_mysqldb import MySQL"
   ]
  },
  {
   "cell_type": "code",
   "execution_count": null,
   "id": "72196da6",
   "metadata": {},
   "outputs": [],
   "source": []
  }
 ],
 "metadata": {
  "kernelspec": {
   "display_name": "python3.8",
   "language": "python",
   "name": "python3.8"
  },
  "language_info": {
   "codemirror_mode": {
    "name": "ipython",
    "version": 3
   },
   "file_extension": ".py",
   "mimetype": "text/x-python",
   "name": "python",
   "nbconvert_exporter": "python",
   "pygments_lexer": "ipython3",
   "version": "3.11.0"
  }
 },
 "nbformat": 4,
 "nbformat_minor": 5
}
