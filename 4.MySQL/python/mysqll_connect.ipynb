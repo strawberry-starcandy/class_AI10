{
 "cells": [
  {
   "cell_type": "code",
   "execution_count": 2,
   "id": "35befc04",
   "metadata": {},
   "outputs": [],
   "source": [
    "# create table\n",
    "from select import select\n",
    "import pymysql\n",
    "\n",
    "db = pymysql.connect(host='localhost', user='root',\n",
    "                     db='sqldb', password='1234', charset='utf8')\n",
    "curs = db.cursor()"
   ]
  },
  {
   "cell_type": "code",
   "execution_count": 3,
   "id": "4804b8f9",
   "metadata": {},
   "outputs": [],
   "source": [
    "sql = '''create table sample (\n",
    "    column01 varchar(50), \n",
    "    column02 varchar(50), \n",
    "    column03 varchar(50))\n",
    "'''\n",
    "\n",
    "curs.execute(sql)\n",
    "\n",
    "# sql = \"select * from sample\";\n",
    "# curs.execute(sql)\n",
    "\n",
    "# rows = curs.fetchall()\n",
    "# print(rows)\n",
    "\n",
    "# db.commit()\n",
    "db.close()"
   ]
  },
  {
   "cell_type": "code",
   "execution_count": 10,
   "id": "a3164af2",
   "metadata": {},
   "outputs": [
    {
     "name": "stdout",
     "output_type": "stream",
     "text": [
      "(('BBK', '바비킴', 1973, '서울', '010', '0000000', 176, datetime.date(2013, 5, 5)), ('EJW', '은지원', 1972, '경북', '011', '8888888', 174, datetime.date(2014, 3, 3)), ('JKW', '조관우', 1965, '경기', '018', '9999999', 172, datetime.date(2010, 10, 10)), ('JYP', '조용필', 1950, '경기', '011', '4444444', 166, datetime.date(2009, 4, 4)), ('KBS', '김범수', 1979, '경남', '011', '2222222', 173, datetime.date(2012, 4, 4)), ('KKH', '김경호', 1971, '전남', '019', '3333333', 177, datetime.date(2007, 7, 7)), ('LJB', '임재범', 1963, '서울', '016', '6666666', 182, datetime.date(2009, 9, 9)), ('LSG', '이승기', 1987, '서울', '011', '1111111', 182, datetime.date(2008, 8, 8)), ('SSK', '성시경', 1979, '서울', None, None, 186, datetime.date(2013, 12, 12)), ('YJS', '윤종신', 1969, '경남', None, None, 170, datetime.date(2005, 5, 5)))\n",
      "\n",
      "('BBK', '바비킴', 1973, '서울', '010', '0000000', 176, datetime.date(2013, 5, 5))\n",
      "('EJW', '은지원', 1972, '경북', '011', '8888888', 174, datetime.date(2014, 3, 3))\n",
      "('JKW', '조관우', 1965, '경기', '018', '9999999', 172, datetime.date(2010, 10, 10))\n",
      "('JYP', '조용필', 1950, '경기', '011', '4444444', 166, datetime.date(2009, 4, 4))\n",
      "('KBS', '김범수', 1979, '경남', '011', '2222222', 173, datetime.date(2012, 4, 4))\n",
      "('KKH', '김경호', 1971, '전남', '019', '3333333', 177, datetime.date(2007, 7, 7))\n",
      "('LJB', '임재범', 1963, '서울', '016', '6666666', 182, datetime.date(2009, 9, 9))\n",
      "('LSG', '이승기', 1987, '서울', '011', '1111111', 182, datetime.date(2008, 8, 8))\n",
      "('SSK', '성시경', 1979, '서울', None, None, 186, datetime.date(2013, 12, 12))\n",
      "('YJS', '윤종신', 1969, '경남', None, None, 170, datetime.date(2005, 5, 5))\n"
     ]
    }
   ],
   "source": [
    "db = pymysql.connect(host='localhost', user='root',\n",
    "                     db='sqldb', password='1234', charset='utf8')\n",
    "curs = db.cursor()\n",
    "\n",
    "sql = 'select * from usertbl'\n",
    "\n",
    "curs.execute(sql)\n",
    "\n",
    "rows = curs.fetchall()\n",
    "print(rows)\n",
    "print()\n",
    "for row in rows:\n",
    "    print(row)\n",
    "\n",
    "db.close()"
   ]
  },
  {
   "cell_type": "code",
   "execution_count": null,
   "id": "53d97a86",
   "metadata": {},
   "outputs": [],
   "source": []
  },
  {
   "cell_type": "code",
   "execution_count": null,
   "id": "7882052c",
   "metadata": {},
   "outputs": [],
   "source": []
  },
  {
   "cell_type": "code",
   "execution_count": null,
   "id": "5ca7a17e",
   "metadata": {},
   "outputs": [],
   "source": []
  },
  {
   "cell_type": "code",
   "execution_count": 2,
   "id": "bcdd9cda",
   "metadata": {},
   "outputs": [
    {
     "name": "stdout",
     "output_type": "stream",
     "text": [
      "()\n"
     ]
    }
   ],
   "source": [
    "db = pymysql.connect(host='localhost', user='root',\n",
    "                     db='sqldb', password='1234', charset='utf8')\n",
    "curs = db.cursor()\n",
    "\n",
    "sql = \"select * from sample\";\n",
    "curs.execute(sql)\n",
    "\n",
    "rows = curs.fetchall()\n",
    "print(rows)\n",
    "\n",
    "db.commit()\n",
    "db.close()"
   ]
  },
  {
   "cell_type": "code",
   "execution_count": 14,
   "id": "7165efff",
   "metadata": {},
   "outputs": [
    {
     "name": "stdout",
     "output_type": "stream",
     "text": [
      "(('aa12', 'bb12', 'cc12'), ('aa12', 'bb12', 'cc12'), ('aa12', 'bb12', 'cc12'))\n"
     ]
    }
   ],
   "source": [
    "# insert\n",
    "import pymysql\n",
    "\n",
    "db = pymysql.connect(host='localhost', user='root', db='sqldb', \n",
    "                     password='1234', charset='utf8')\n",
    "curs = db.cursor()\n",
    "\n",
    "sql='''insert into sample (column01, column02, column03) \n",
    "        values ('aa12' ,'bb12','cc12')\n",
    "    '''\n",
    "\n",
    "curs.execute(sql)\n",
    "\n",
    "sql = \"select * from sample\";\n",
    "curs.execute(sql)\n",
    "\n",
    "rows = curs.fetchall()\n",
    "print(rows)\n",
    "\n",
    "db.commit()\n",
    "db.close()\n"
   ]
  },
  {
   "cell_type": "code",
   "execution_count": 12,
   "id": "d04649be",
   "metadata": {},
   "outputs": [
    {
     "name": "stdout",
     "output_type": "stream",
     "text": [
      "('aa', 'bb', 'cc')\n"
     ]
    }
   ],
   "source": [
    "# 여러개의 row 검색 : select\n",
    "db = pymysql.connect(host='localhost', user='root', db='python', \n",
    "                     password='passwd', charset='utf8')\n",
    "curs = db.cursor()\n",
    "\n",
    "# sql = \"select * from sample\";\n",
    "sql = \"select * from sample where column01 = 'aa' \";\n",
    "\n",
    "curs.execute(sql)\n",
    "\n",
    "rows = curs.fetchall()\n",
    "for row in rows:\n",
    "    print(row)\n",
    "\n",
    "db.commit()\n",
    "db.close()"
   ]
  },
  {
   "cell_type": "code",
   "execution_count": 13,
   "id": "cd9bbdad",
   "metadata": {},
   "outputs": [
    {
     "name": "stdout",
     "output_type": "stream",
     "text": [
      "(('cc', 'bb', 'cc'), ('aa12', 'bb12', 'cc12'))\n"
     ]
    }
   ],
   "source": [
    "# update\n",
    "import pymysql\n",
    "\n",
    "db = pymysql.connect(host='localhost', user='root', \n",
    "                     db='python', password='passwd', charset='utf8')\n",
    "curs = db.cursor()\n",
    "\n",
    "sql = '''\n",
    "update sample set column01 = 'cc', column02 = 'bb'\n",
    "where column01 = 'aa';\n",
    "'''\n",
    "\n",
    "curs.execute(sql)\n",
    "\n",
    "sql = \"select * from sample\";\n",
    "curs.execute(sql)\n",
    "\n",
    "rows = curs.fetchall()\n",
    "print(rows)\n",
    "\n",
    "db.commit()\n",
    "db.close()"
   ]
  },
  {
   "cell_type": "code",
   "execution_count": 16,
   "id": "169c1198",
   "metadata": {},
   "outputs": [
    {
     "name": "stdout",
     "output_type": "stream",
     "text": [
      "rollback before \n",
      " (('aa12', 'bb12', 'cc12'), ('aa', 'bb12', 'cc12'))\n",
      "rollback  after \n",
      " (('cc', 'bb', 'cc'), ('aa12', 'bb12', 'cc12'), ('aa', 'bb12', 'cc12'))\n",
      "(('cc', 'bb', 'cc'), ('aa12', 'bb12', 'cc12'), ('aa', 'bb12', 'cc12'), ('dd', 'bb12', 'cc12'))\n"
     ]
    }
   ],
   "source": [
    "# delete\n",
    "import pymysql\n",
    "\n",
    "db = pymysql.connect(host='localhost', user='root', \n",
    "                     db='python', password='passwd', charset='utf8')\n",
    "curs = db.cursor()\n",
    "\n",
    "sql = '''\n",
    "delete from sample \n",
    "where column01 = 'cc'\n",
    "'''\n",
    "curs.execute(sql)\n",
    "\n",
    "sql = \"select * from sample\";\n",
    "curs.execute(sql)\n",
    "\n",
    "rows = curs.fetchall()\n",
    "print('rollback before \\n', rows)\n",
    "\n",
    "db.rollback()   #  작업 원 위치\n",
    "\n",
    "sql = \"select * from sample\";\n",
    "curs.execute(sql)\n",
    "\n",
    "rows = curs.fetchall()\n",
    "print('rollback  after \\n', rows)\n",
    "\n",
    "sql='''insert into sample (column01, column02, column03) \n",
    "        values ('dd' ,'bb12','cc12')\n",
    "    '''\n",
    "curs.execute(sql)\n",
    "\n",
    "sql = \"select * from sample\";\n",
    "curs.execute(sql)\n",
    "\n",
    "rows = curs.fetchall()\n",
    "print(rows)\n",
    "\n",
    "db.commit()\n",
    "db.close()"
   ]
  }
 ],
 "metadata": {
  "kernelspec": {
   "display_name": "python3.8",
   "language": "python",
   "name": "python3.8"
  },
  "language_info": {
   "codemirror_mode": {
    "name": "ipython",
    "version": 3
   },
   "file_extension": ".py",
   "mimetype": "text/x-python",
   "name": "python",
   "nbconvert_exporter": "python",
   "pygments_lexer": "ipython3",
   "version": "3.11.0"
  }
 },
 "nbformat": 4,
 "nbformat_minor": 5
}
