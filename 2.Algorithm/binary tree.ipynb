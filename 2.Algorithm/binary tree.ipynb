{
 "cells": [
  {
   "cell_type": "code",
   "execution_count": null,
   "id": "70462116",
   "metadata": {},
   "outputs": [],
   "source": [
    "# 이진 트리 구성"
   ]
  },
  {
   "cell_type": "code",
   "execution_count": 3,
   "id": "5dd8de42",
   "metadata": {},
   "outputs": [],
   "source": [
    "class TreeNode:\n",
    "    def __init__(self):\n",
    "        self.left = None\n",
    "        self.data = None\n",
    "        self.right = None\n",
    "        \n",
    "        "
   ]
  },
  {
   "cell_type": "code",
   "execution_count": 4,
   "id": "1793c244",
   "metadata": {},
   "outputs": [],
   "source": [
    "# 처음 노드 생성\n",
    "node1 = TreeNode()  # 빈 노드 생성\n",
    "node1.data = '화사'\n",
    "\n",
    "# 두번째 노드 -> 처음 노드의 왼쪽 child로 연결\n",
    "node2 = TreeNode()\n",
    "node2.data = '솔라'\n",
    "node1.left = node2\n",
    "\n",
    "# 세번째 노드 -> 처음 노드의 오른쪽 child로 연결\n",
    "node3 = TreeNode()\n",
    "node3.data = '문별'\n",
    "node1.right = node3\n",
    "\n",
    "# 네번째 노드 -> node2 노드의 왼쪽 child로 연결\n",
    "node4 = TreeNode()\n",
    "node4.data = '휘인'\n",
    "node2.left = node4\n",
    "\n",
    "# 다섯번째 노드 -> node2 노드의 오른쪽 child로 연결\n",
    "node5 = TreeNode()\n",
    "node5.data = '쯔위'\n",
    "node2.right = node5\n",
    "\n",
    "# 여섯번째 노드 -> node3 노드의 왼쪽 child로 연결\n",
    "node6 = TreeNode()\n",
    "node6.data = '선미'\n",
    "node3.left = node6"
   ]
  },
  {
   "cell_type": "code",
   "execution_count": 7,
   "id": "46fecc55",
   "metadata": {},
   "outputs": [
    {
     "name": "stdout",
     "output_type": "stream",
     "text": [
      "화사 \n",
      "솔라 문별 \n",
      "휘인 쯔위 선미 \n"
     ]
    }
   ],
   "source": [
    "print(node1.data, end=' ')    # 화사\n",
    "print()\n",
    "print(node1.left.data, node1.right.data, end=' ')    # 솔라 문별\n",
    "print()\n",
    "print(node1.left.left.data, node1.left.right.data, node1.right.left.data, end=' ')    # 휘인 쯔위 선미\n",
    "print()"
   ]
  },
  {
   "cell_type": "code",
   "execution_count": 22,
   "id": "7125f1be",
   "metadata": {},
   "outputs": [],
   "source": [
    "def print_tree_preorder(node):\n",
    "    if node == None:\n",
    "        return\n",
    "    print(node.data, end=' -> ')\n",
    "    print_tree_preorder(node.left)\n",
    "    print_tree_preorder(node.right)\n",
    "        \n",
    "def print_tree_inorder(node):\n",
    "    if node == None:\n",
    "        return\n",
    "    print_tree_inorder(node.left)\n",
    "    print(node.data, end=' -> ')\n",
    "    print_tree_inorder(node.right)\n",
    "        \n",
    "def print_tree_postorder(node):\n",
    "    if node == None:\n",
    "        return\n",
    "    print_tree_postorder(node.left)\n",
    "    print_tree_postorder(node.right)\n",
    "    print(node.data, end=' -> ')"
   ]
  },
  {
   "cell_type": "code",
   "execution_count": 24,
   "id": "7ac6359a",
   "metadata": {},
   "outputs": [
    {
     "name": "stdout",
     "output_type": "stream",
     "text": [
      "화사 -> 솔라 -> 휘인 -> 쯔위 -> 문별 -> 선미 -> end\n",
      "휘인 -> 솔라 -> 쯔위 -> 화사 -> 선미 -> 문별 -> end\n",
      "휘인 -> 쯔위 -> 솔라 -> 선미 -> 문별 -> 화사 -> end\n"
     ]
    }
   ],
   "source": [
    "print_tree_preorder(node1)\n",
    "print('end')\n",
    "print_tree_inorder(node1)\n",
    "print('end')\n",
    "print_tree_postorder(node1)\n",
    "print('end')"
   ]
  },
  {
   "cell_type": "code",
   "execution_count": 35,
   "id": "f74db0d8",
   "metadata": {},
   "outputs": [
    {
     "name": "stdout",
     "output_type": "stream",
     "text": [
      "이진 트리 자료 입력 -> test\n",
      "이진 트리 자료 입력 -> z\n",
      "이진 트리 자료 입력 -> x\n",
      "이진 트리 자료 입력 -> aa\n",
      "이진 트리 자료 입력 -> dd\n",
      "이진 트리 자료 입력 -> q\n",
      "입력된 자료 출력 : \n",
      "test -> aa -> dd -> z -> x -> "
     ]
    }
   ],
   "source": [
    "# node 생성\n",
    "# root = None\n",
    "# left data right\n",
    "# 자료 입력 -> 트리 생성, 입력의 끝은 자료에 'q'가 입력되면 트리 생성 종료\n",
    "# 트리의 내용 출력 -> preorder 형식으로 출력\n",
    "\n",
    "class TreeNode:\n",
    "    def __init__(self):\n",
    "        self.left = None\n",
    "        self.data = None\n",
    "        self.right = None\n",
    "        \n",
    "    def insert_data(self, node):\n",
    "        if self.data == None:\n",
    "            self.data = node.data\n",
    "        elif node.data == self.data:\n",
    "            return\n",
    "        elif node.data < self.data:\n",
    "            if self.left == None:\n",
    "                self.left = node\n",
    "            else:\n",
    "                self.left.insert_data(node)\n",
    "        elif node.data > self.data:\n",
    "            if self.right == None:\n",
    "                self.right = node\n",
    "            else:\n",
    "                self.right.insert_data(node)\n",
    "            \n",
    "def print_tree_preorder(node):\n",
    "    if node == None:\n",
    "        return\n",
    "    print(node.data, end=' -> ')\n",
    "    print_tree_preorder(node.left)\n",
    "    print_tree_preorder(node.right)\n",
    "        \n",
    "root = TreeNode()\n",
    "\n",
    "while True:\n",
    "    node = TreeNode()\n",
    "    node.data = input('이진 트리 자료 입력 -> ')\n",
    "    if node.data == 'q':\n",
    "        break\n",
    "    root.insert_data(node)\n",
    "print('입력된 자료 출력 : ')\n",
    "print_tree_preorder(root)"
   ]
  },
  {
   "cell_type": "code",
   "execution_count": null,
   "id": "ae5b7c8f",
   "metadata": {},
   "outputs": [],
   "source": [
    "search_node(node)\n",
    "delete_node(node)"
   ]
  },
  {
   "cell_type": "code",
   "execution_count": null,
   "id": "bd9595ac",
   "metadata": {},
   "outputs": [],
   "source": []
  }
 ],
 "metadata": {
  "kernelspec": {
   "display_name": "Python 3 (ipykernel)",
   "language": "python",
   "name": "python3"
  },
  "language_info": {
   "codemirror_mode": {
    "name": "ipython",
    "version": 3
   },
   "file_extension": ".py",
   "mimetype": "text/x-python",
   "name": "python",
   "nbconvert_exporter": "python",
   "pygments_lexer": "ipython3",
   "version": "3.9.13"
  }
 },
 "nbformat": 4,
 "nbformat_minor": 5
}
