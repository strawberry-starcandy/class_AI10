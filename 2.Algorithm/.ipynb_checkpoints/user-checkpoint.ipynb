{
 "cells": [
  {
   "cell_type": "code",
   "execution_count": null,
   "id": "938a07c7",
   "metadata": {},
   "outputs": [],
   "source": [
    "class User:\n",
    "    def __init__(self):\n",
    "        self.data = []\n",
    "        self.link = None\n"
   ]
  },
  {
   "cell_type": "code",
   "execution_count": null,
   "id": "ab8661e8",
   "metadata": {},
   "outputs": [],
   "source": [
    "def insert_userData(new_user):\n",
    "    global head\n",
    "    if head == None:\n",
    "        # 기존 데이터가 없을 경우\n",
    "        head = new_user\n",
    "        return\n",
    "    \n",
    "    curr = head\n",
    "    prev = curr\n",
    "    \n",
    "    while curr:\n",
    "        if new_user.data[1] < curr.data[1]: # 현재 데이터보다 작을 경우\n",
    "            if curr == head:                # 현재 데이터가 처음일 경우\n",
    "                new_user.link = curr\n",
    "                head = new_user\n",
    "                break\n",
    "            else:                # 중간 위치\n",
    "                new_user.link = prev.link\n",
    "                prev.link = new_user\n",
    "                break\n",
    "        else:                   # 다음 노드 탐색\n",
    "            if curr.link:       # 다음 노드가 존재할 경우\n",
    "                prev = curr\n",
    "                curr = curr.link\n",
    "            else:                # 다음 노드가 없을 경우\n",
    "                curr.link = new_user\n",
    "                break\n",
    "            \n",
    "def print_all_node():\n",
    "    curr = head\n",
    "    while curr:\n",
    "        print(curr.data, end=' ')\n",
    "        curr = curr.link\n",
    "    print()"
   ]
  },
  {
   "cell_type": "code",
   "execution_count": null,
   "id": "b43208a3",
   "metadata": {},
   "outputs": [],
   "source": [
    "head = None"
   ]
  },
  {
   "cell_type": "code",
   "execution_count": null,
   "id": "39632dd6",
   "metadata": {},
   "outputs": [],
   "source": [
    "while True:\n",
    "    name = input('이름--> ')\n",
    "    if name == '':\n",
    "        print('end')\n",
    "        break\n",
    "    else:\n",
    "        addr = input('이메일--> ')\n",
    "        user = User()\n",
    "        user.data.append(name)\n",
    "        user.data.append(addr)\n",
    "        insert_userData(user)\n",
    "        print_all_node()"
   ]
  }
 ],
 "metadata": {
  "kernelspec": {
   "display_name": "Python 3 (ipykernel)",
   "language": "python",
   "name": "python3"
  },
  "language_info": {
   "codemirror_mode": {
    "name": "ipython",
    "version": 3
   },
   "file_extension": ".py",
   "mimetype": "text/x-python",
   "name": "python",
   "nbconvert_exporter": "python",
   "pygments_lexer": "ipython3",
   "version": "3.9.13"
  }
 },
 "nbformat": 4,
 "nbformat_minor": 5
}
