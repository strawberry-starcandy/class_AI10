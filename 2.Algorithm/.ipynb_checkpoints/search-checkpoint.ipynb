{
 "cells": [
  {
   "cell_type": "code",
   "execution_count": 2,
   "id": "f50cac42",
   "metadata": {},
   "outputs": [],
   "source": [
    "# 순차 처리 (처음부터 끝까지 검색 )\n",
    "def seqSearch(arr, data):\n",
    "    pos = -1\n",
    "    size = len(arr)\n",
    "    for i in range(size):\n",
    "        if arr[i] == data:\n",
    "            pos = i\n",
    "            break\n",
    "    return pos"
   ]
  },
  {
   "cell_type": "code",
   "execution_count": 3,
   "id": "bf95c046",
   "metadata": {},
   "outputs": [
    {
     "name": "stdout",
     "output_type": "stream",
     "text": [
      "검색할 자료는 ->  10\n",
      "검색한 위치는 ->  0\n"
     ]
    }
   ],
   "source": [
    "arr = [10, 20, 11, 5, 6, 20]\n",
    "data = 10\n",
    "print('검색할 자료는 -> ', data)\n",
    "pos = seqSearch(arr, 10)\n",
    "if pos == -1:\n",
    "    print('해당 자료 없음')\n",
    "else:\n",
    "    print('검색한 위치는 -> ', pos)"
   ]
  },
  {
   "cell_type": "code",
   "execution_count": 12,
   "id": "16eff08a",
   "metadata": {},
   "outputs": [],
   "source": [
    "def seqSearchAll(arr, data):\n",
    "    pos = []\n",
    "    size = len(arr)\n",
    "    for i in range(size):\n",
    "        if arr[i] == data:\n",
    "            pos.append(i)\n",
    "    return pos"
   ]
  },
  {
   "cell_type": "code",
   "execution_count": 13,
   "id": "a35a45d0",
   "metadata": {},
   "outputs": [
    {
     "name": "stdout",
     "output_type": "stream",
     "text": [
      "배열 -->  [188, 50, 150, 168, 50, 162, 105, 120, 177, 50]\n",
      "50 (은)는 [1, 4, 9] 위치에 있음\n"
     ]
    }
   ],
   "source": [
    "dataAry = [188, 50, 150, 168, 50, 162, 105, 120, 177, 50]\n",
    "print('배열 --> ', dataAry)\n",
    "data = 50\n",
    "pos = seqSearchAll(dataAry, data)\n",
    "if pos == []:\n",
    "    print('해당 자료 없음')\n",
    "else:\n",
    "    print(f'{data} (은)는 {pos} 위치에 있음')"
   ]
  },
  {
   "cell_type": "code",
   "execution_count": 33,
   "id": "ecb0bd77",
   "metadata": {},
   "outputs": [],
   "source": [
    "def QuickSort_ex(arr, start, end):\n",
    "    if start >= end:\n",
    "        return\n",
    "    low = start\n",
    "    high = end\n",
    "\n",
    "    pivot = arr[(low + high) // 2]\n",
    "    while low <= high:\n",
    "        while arr[low] < pivot:\n",
    "            low += 1\n",
    "        while arr[high] > pivot:\n",
    "            high -= 1\n",
    "        if low <= high:\n",
    "            arr[low], arr[high] = arr[high], arr[low]\n",
    "            low += 1\n",
    "            high -= 1\n",
    "    mid = low\n",
    "    QuickSort_ex(arr, start, mid - 1)\n",
    "    QuickSort_ex(arr, mid, end)"
   ]
  },
  {
   "cell_type": "code",
   "execution_count": 34,
   "id": "3a62e673",
   "metadata": {},
   "outputs": [],
   "source": [
    "# 이진 검색 (정렬이 되어 있을 경우)\n",
    "def binSearch(arr, data):\n",
    "    cnt = 0\n",
    "    start = 0\n",
    "    end = len(arr) - 1\n",
    "    while start <= end:\n",
    "        cnt += 1\n",
    "        mid = (start + end) // 2\n",
    "        if data == arr[mid]:\n",
    "            return mid, cnt\n",
    "        if data > arr[mid]:\n",
    "            start = mid + 1\n",
    "        else:\n",
    "            end = mid - 1\n",
    "    return -1, cnt"
   ]
  },
  {
   "cell_type": "code",
   "execution_count": null,
   "id": "2a2acb35",
   "metadata": {},
   "outputs": [],
   "source": [
    "dataAry = [188, 50, 150, 168, 50, 162, 105, 120, 177, 50]\n",
    "print('배열 --> ', dataAry)\n",
    "QuickSort_ex(dataAry, 0, len(dataAry) - 1)"
   ]
  },
  {
   "cell_type": "code",
   "execution_count": 30,
   "id": "244ea6a6",
   "metadata": {},
   "outputs": [
    {
     "name": "stdout",
     "output_type": "stream",
     "text": [
      "배열 -->  [50, 50, 50, 105, 120, 150, 162, 168, 177, 188]\n",
      "검색한 위치는 ->  6\n"
     ]
    }
   ],
   "source": [
    "fData = 162\n",
    "print('배열 --> ', dataAry)\n",
    "pos = binSearch(dataAry, fData)\n",
    "if pos == -1:\n",
    "    print('해당 자료 없음')\n",
    "else:\n",
    "    print('검색한 위치는 -> ', pos)"
   ]
  },
  {
   "cell_type": "code",
   "execution_count": 35,
   "id": "ae4b6851",
   "metadata": {},
   "outputs": [
    {
     "name": "stderr",
     "output_type": "stream",
     "text": [
      "IOPub data rate exceeded.\n",
      "The notebook server will temporarily stop sending output\n",
      "to the client in order to avoid crashing it.\n",
      "To change this limit, set the config variable\n",
      "`--NotebookApp.iopub_data_rate_limit`.\n",
      "\n",
      "Current values:\n",
      "NotebookApp.iopub_data_rate_limit=1000000.0 (bytes/sec)\n",
      "NotebookApp.rate_limit_window=3.0 (secs)\n",
      "\n"
     ]
    }
   ],
   "source": [
    "import random\n",
    "dataAry = [ random.randrange(1,1000000) for _ in range(1000000) ]\n",
    "\n",
    "print('배열 --> ', dataAry)\n",
    "QuickSort_ex(dataAry, 0, len(dataAry) - 1)\n",
    "print('배열 --> ', dataAry)\n",
    "\n",
    "fData = random.randrange(1,1000000)\n",
    "pos, cnt = binSearch(dataAry, fData)\n",
    "if pos == -1:\n",
    "    print('해당 자료 없음')\n",
    "else:\n",
    "    print('검색한 위치는 -> ', pos)\n",
    "print(f'cnt -> {cnt}')"
   ]
  },
  {
   "cell_type": "code",
   "execution_count": 36,
   "id": "5da0691d",
   "metadata": {},
   "outputs": [
    {
     "ename": "NameError",
     "evalue": "name 'NotebookApp' is not defined",
     "output_type": "error",
     "traceback": [
      "\u001b[1;31m---------------------------------------------------------------------------\u001b[0m",
      "\u001b[1;31mNameError\u001b[0m                                 Traceback (most recent call last)",
      "\u001b[1;32m~\\AppData\\Local\\Temp\\ipykernel_3740\\1567207777.py\u001b[0m in \u001b[0;36m<module>\u001b[1;34m\u001b[0m\n\u001b[1;32m----> 1\u001b[1;33m \u001b[1;33m-\u001b[0m\u001b[1;33m-\u001b[0m\u001b[0mNotebookApp\u001b[0m\u001b[1;33m.\u001b[0m\u001b[0miopub_data_rate_limit\u001b[0m\u001b[1;33m\u001b[0m\u001b[1;33m\u001b[0m\u001b[0m\n\u001b[0m",
      "\u001b[1;31mNameError\u001b[0m: name 'NotebookApp' is not defined"
     ]
    }
   ],
   "source": []
  },
  {
   "cell_type": "code",
   "execution_count": null,
   "id": "57e83655",
   "metadata": {},
   "outputs": [],
   "source": []
  }
 ],
 "metadata": {
  "kernelspec": {
   "display_name": "Python 3 (ipykernel)",
   "language": "python",
   "name": "python3"
  },
  "language_info": {
   "codemirror_mode": {
    "name": "ipython",
    "version": 3
   },
   "file_extension": ".py",
   "mimetype": "text/x-python",
   "name": "python",
   "nbconvert_exporter": "python",
   "pygments_lexer": "ipython3",
   "version": "3.9.13"
  }
 },
 "nbformat": 4,
 "nbformat_minor": 5
}
