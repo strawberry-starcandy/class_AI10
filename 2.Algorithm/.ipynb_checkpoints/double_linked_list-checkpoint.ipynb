{
 "cells": [
  {
   "cell_type": "code",
   "execution_count": 1,
   "id": "57e51720",
   "metadata": {},
   "outputs": [],
   "source": [
    "class Student:\n",
    "    def __init__(self):\n",
    "        self.data = {'name':'', 'score':0}\n",
    "        self.prev = None\n",
    "        self.next = None"
   ]
  },
  {
   "cell_type": "code",
   "execution_count": null,
   "id": "27ba55aa",
   "metadata": {},
   "outputs": [],
   "source": [
    "def menu_prt():\n",
    "    print(' 1. 자료입력 -> ')\n",
    "    print(' 2. 자료삭제 ')\n",
    "    print(' 3. 자료 조회  ')  \n",
    "    print(' 4. 자료 조회 - 역으로')  \n",
    "    print(' 9. 프로그램 종료 ')  \n",
    "    print('==================================')    \n",
    "    print('선택 > ',end='')\n",
    "    menu = input()\n",
    "    return menu\n",
    "\n",
    "def insert_node(node):\n",
    "    global HEAD, TAIL\n",
    "    # 기존 데이터 x\n",
    "    if not HEAD:\n",
    "        HEAD = node\n",
    "        TAIL = node\n",
    "        return\n",
    "    \n",
    "    # 처음\n",
    "    if node.data['score'] > HEAD.data['score']:\n",
    "        node.next = HEAD\n",
    "        HEAD.prev = node\n",
    "        HEAD = node\n",
    "        return\n",
    "        \n",
    "    # 중간\n",
    "    curr = HEAD.next\n",
    "    while curr:\n",
    "        if node.data['score'] > curr.data['score']:\n",
    "            node.prev = curr.prev\n",
    "            node.prev.next = node\n",
    "            node.next = curr\n",
    "            node.next.prev = node\n",
    "            return\n",
    "        curr = curr.next\n",
    "    \n",
    "    # 끝\n",
    "    if node.data['score'] <=TAIL.data['score']:\n",
    "        TAIL.next = node\n",
    "        node.prev = TAIL\n",
    "        \n",
    "        \n",
    "            \n",
    "    \n",
    "def del_node():\n",
    "    global HEAD, TAIL\n",
    "    name = input('삭제할 자료  입력 -> ')\n",
    "    \n",
    "    # 처음\n",
    "    if name == HEAD.data['name']:\n",
    "        HEAD = HEAD.next\n",
    "        HEAD.prev = None\n",
    "        return\n",
    "    \n",
    "    # 중간\n",
    "    curr = HEAD.next\n",
    "    while curr.next:\n",
    "        if name == curr.data['name']:\n",
    "            curr.prev.next = curr.next\n",
    "            curr.next.prev = curr.prev\n",
    "            return\n",
    "        curr = curr.next\n",
    "    \n",
    "    # 끝\n",
    "    if name == TAIL.data['name']:\n",
    "        TAIL = TAIL.prev\n",
    "        TAIL.next = None\n",
    "        \n",
    "            "
   ]
  },
  {
   "cell_type": "code",
   "execution_count": null,
   "id": "62b8ea31",
   "metadata": {},
   "outputs": [],
   "source": [
    "HEAD = None\n",
    "TAIL = None"
   ]
  },
  {
   "cell_type": "code",
   "execution_count": null,
   "id": "9d989cdb",
   "metadata": {},
   "outputs": [],
   "source": []
  },
  {
   "cell_type": "code",
   "execution_count": null,
   "id": "b68d53c3",
   "metadata": {},
   "outputs": [],
   "source": []
  },
  {
   "cell_type": "code",
   "execution_count": null,
   "id": "5c275446",
   "metadata": {},
   "outputs": [],
   "source": []
  },
  {
   "cell_type": "code",
   "execution_count": null,
   "id": "e1eacf0f",
   "metadata": {},
   "outputs": [],
   "source": []
  }
 ],
 "metadata": {
  "kernelspec": {
   "display_name": "Python 3 (ipykernel)",
   "language": "python",
   "name": "python3"
  },
  "language_info": {
   "codemirror_mode": {
    "name": "ipython",
    "version": 3
   },
   "file_extension": ".py",
   "mimetype": "text/x-python",
   "name": "python",
   "nbconvert_exporter": "python",
   "pygments_lexer": "ipython3",
   "version": "3.9.13"
  }
 },
 "nbformat": 4,
 "nbformat_minor": 5
}
