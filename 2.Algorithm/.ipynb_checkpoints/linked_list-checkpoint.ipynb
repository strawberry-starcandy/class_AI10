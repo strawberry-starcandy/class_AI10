{
 "cells": [
  {
   "cell_type": "markdown",
   "id": "94672ff0",
   "metadata": {},
   "source": [
    "# 단순 링크드 리스트 구현\n",
    "    - 학생들의 이름과 성적을 입력 받아 성적 순으로 클래스의 data에 딕셔너리로 저장"
   ]
  },
  {
   "cell_type": "code",
   "execution_count": 38,
   "id": "11328cda",
   "metadata": {},
   "outputs": [],
   "source": [
    "# node Class 정의\n",
    "class Student:\n",
    "    def __init__(self, name=None, score=None, link):\n",
    "        self.name = name\n",
    "        self.score = score\n",
    "        self.link = link\n",
    "        return\n",
    "    \n",
    "    def __str__(self):\n",
    "        return f'{self.name} : {self.score}'\n",
    "    \n",
    "    def print_node(self):\n",
    "        print(self, end = '')\n",
    "        if self.link:\n",
    "#             print(end=', ')\n",
    "            print(end=' ')\n",
    "            self.link.print_node()\n",
    "        else:\n",
    "            print()\n",
    "        return\n",
    "    "
   ]
  },
  {
   "cell_type": "code",
   "execution_count": 39,
   "id": "4329f4f9",
   "metadata": {},
   "outputs": [],
   "source": [
    "# 메뉴 출력 함수\n",
    "def menu_print():\n",
    "    print('================================')\n",
    "    print('        학생 관리 프로그램')\n",
    "    print('  1. 학생 정보 입력')\n",
    "    print('  2. 학생 정보 삭제')\n",
    "    print('  3. 학생 정보 검색')\n",
    "    print('  4. 학생 정보 조회')\n",
    "    print('  9. 학생 정보 입력')\n",
    "    \n",
    "    return input('    메뉴 입력> ')"
   ]
  },
  {
   "cell_type": "code",
   "execution_count": 48,
   "id": "2f12883f",
   "metadata": {},
   "outputs": [],
   "source": [
    "def add_node():\n",
    "    global head, tail\n",
    "    name = input('이름 입력 : ')\n",
    "    score = int(input('성적 입력 : '))\n",
    "    node = Student()\n",
    "    node.data = {name: score}\n",
    "    if not head:\n",
    "        head = node\n",
    "        tail = node\n",
    "        return\n",
    "    curr_node = head\n",
    "    prev_node = curr_node\n",
    "    while curr_node.link:\n",
    "        if list(curr_node.data.values())[0] > node.data[name]:\n",
    "            node.link = curr_node\n",
    "            if curr_node == prev_node:    # 처음 자료 앞에 삽입\n",
    "                head = node\n",
    "                break\n",
    "            else:\n",
    "                prev_node.link = node\n",
    "                break\n",
    "        else:\n",
    "            prev_node = curr_node\n",
    "            curr_node = curr_node.link\n",
    "    print('curr_node> ', curr_node)\n",
    "    if list(curr_node.data.values())[0] > node.data[name]:\n",
    "            prev_node = curr_node\n",
    "            curr_node = curr_node.link\n",
    "    else:\n",
    "        curr_node.link = node\n",
    "    return"
   ]
  },
  {
   "cell_type": "code",
   "execution_count": null,
   "id": "dd92578a",
   "metadata": {
    "scrolled": false
   },
   "outputs": [
    {
     "name": "stdout",
     "output_type": "stream",
     "text": [
      "================================\n",
      "        학생 관리 프로그램\n",
      "  1. 학생 정보 입력\n",
      "  2. 학생 정보 삭제\n",
      "  3. 학생 정보 검색\n",
      "  4. 학생 정보 조회\n",
      "  9. 학생 정보 입력\n",
      "    메뉴 입력> 1\n",
      "이름 입력 : qq\n",
      "성적 입력 : 44\n",
      "{'qq': 44}\n",
      "================================\n",
      "        학생 관리 프로그램\n",
      "  1. 학생 정보 입력\n",
      "  2. 학생 정보 삭제\n",
      "  3. 학생 정보 검색\n",
      "  4. 학생 정보 조회\n",
      "  9. 학생 정보 입력\n",
      "    메뉴 입력> 1\n",
      "이름 입력 : qw\n",
      "성적 입력 : 12\n",
      "curr_node>  {'qq': 44}\n",
      "{'qq': 44}\n",
      "================================\n",
      "        학생 관리 프로그램\n",
      "  1. 학생 정보 입력\n",
      "  2. 학생 정보 삭제\n",
      "  3. 학생 정보 검색\n",
      "  4. 학생 정보 조회\n",
      "  9. 학생 정보 입력\n",
      "    메뉴 입력> 1\n",
      "이름 입력 : ww\n",
      "성적 입력 : 55\n",
      "curr_node>  {'qq': 44}\n",
      "{'qq': 44} {'ww': 55}\n",
      "================================\n",
      "        학생 관리 프로그램\n",
      "  1. 학생 정보 입력\n",
      "  2. 학생 정보 삭제\n",
      "  3. 학생 정보 검색\n",
      "  4. 학생 정보 조회\n",
      "  9. 학생 정보 입력\n"
     ]
    }
   ],
   "source": [
    "head = None\n",
    "tail = None\n",
    "\n",
    "while True:\n",
    "    menu = menu_print()\n",
    "    \n",
    "    if menu == '1':\n",
    "        add_node()\n",
    "    elif menu == '2':\n",
    "        pass\n",
    "    elif menu == '3':\n",
    "        pass\n",
    "    elif menu == '4':\n",
    "        pass\n",
    "    elif menu == '9':\n",
    "        break\n",
    "    \n",
    "    if head:\n",
    "        head.print_node()"
   ]
  },
  {
   "cell_type": "code",
   "execution_count": null,
   "id": "b0450ed6",
   "metadata": {},
   "outputs": [],
   "source": []
  },
  {
   "cell_type": "code",
   "execution_count": null,
   "id": "30bf758c",
   "metadata": {},
   "outputs": [],
   "source": []
  },
  {
   "cell_type": "code",
   "execution_count": null,
   "id": "4ffd3ac7",
   "metadata": {},
   "outputs": [],
   "source": []
  },
  {
   "cell_type": "code",
   "execution_count": null,
   "id": "c245a9bc",
   "metadata": {},
   "outputs": [],
   "source": []
  },
  {
   "cell_type": "code",
   "execution_count": null,
   "id": "cd54aa85",
   "metadata": {},
   "outputs": [],
   "source": []
  }
 ],
 "metadata": {
  "kernelspec": {
   "display_name": "Python 3 (ipykernel)",
   "language": "python",
   "name": "python3"
  },
  "language_info": {
   "codemirror_mode": {
    "name": "ipython",
    "version": 3
   },
   "file_extension": ".py",
   "mimetype": "text/x-python",
   "name": "python",
   "nbconvert_exporter": "python",
   "pygments_lexer": "ipython3",
   "version": "3.9.13"
  }
 },
 "nbformat": 4,
 "nbformat_minor": 5
}
