{
 "cells": [
  {
   "cell_type": "code",
   "execution_count": 1,
   "id": "56a8f9f0",
   "metadata": {},
   "outputs": [],
   "source": [
    "def bubble(func, array):\n",
    "    for i in range(len(array) - 1):\n",
    "        for j in range(len(array) - i - 1):\n",
    "            if func(array[j], array[j + 1]):\n",
    "                array[j], array[j + 1] = array[j + 1], array[j]"
   ]
  },
  {
   "cell_type": "code",
   "execution_count": 2,
   "id": "37a7e0d2",
   "metadata": {},
   "outputs": [],
   "source": [
    "scoreAry = [['선미', 88], ['초아', 99], ['화사', 71], ['영탁', 78], ['영웅', 67], ['민호', 92]]"
   ]
  },
  {
   "cell_type": "code",
   "execution_count": 3,
   "id": "ce709320",
   "metadata": {},
   "outputs": [
    {
     "name": "stdout",
     "output_type": "stream",
     "text": [
      "1조 : ['초아', 99], ['영웅', 67]\n",
      "2조 : ['민호', 92], ['화사', 71]\n",
      "3조 : ['선미', 88], ['영탁', 78]\n"
     ]
    }
   ],
   "source": [
    "# 성적순으로 정렬 후 2인 1조를 생성 -> 결과 출력, 가장 작은 값과 가장 큰 성적 1조\n",
    "# 조 편성 후 조별 이름 출력\n",
    "sortArr = scoreAry.copy()\n",
    "bubble(lambda x,y:x[1]<y[1], sortArr)\n",
    "\n",
    "pairs =[]\n",
    "\n",
    "for i in range(len(sortArr) // 2 ):\n",
    "    pairs.append([i+1, sortArr[i], sortArr[len(sortArr) - i - 1]])\n",
    "\n",
    "for pair in pairs:\n",
    "    print(f'{pair[0]}조 : {pair[1]}, {pair[2]}')"
   ]
  },
  {
   "cell_type": "code",
   "execution_count": 4,
   "id": "655f4546",
   "metadata": {},
   "outputs": [],
   "source": [
    "array = [[55, 33, 250, 44],\n",
    "         [88,  1,  67, 23],\n",
    "         [199,222, 38, 47],\n",
    "         [155,145, 20, 99]]"
   ]
  },
  {
   "cell_type": "code",
   "execution_count": 5,
   "id": "e5c4c344",
   "metadata": {},
   "outputs": [],
   "source": [
    "# 이차원 배열의 중앙값을 추출\n",
    "# 이차원을 1차원으로 변경 후 중앙값 추출"
   ]
  },
  {
   "cell_type": "code",
   "execution_count": 6,
   "id": "d102dcd4",
   "metadata": {},
   "outputs": [
    {
     "name": "stdout",
     "output_type": "stream",
     "text": [
      "[55, 33, 250, 44, 88, 1, 67, 23, 199, 222, 38, 47, 155, 145, 20, 99]\n",
      "[1, 20, 23, 33, 38, 44, 47, 55, 67, 88, 99, 145, 155, 199, 222, 250]\n",
      "중앙값: 67\n"
     ]
    }
   ],
   "source": [
    "new_arr = [i for item in array for i in item]\n",
    "print(new_arr)\n",
    "bubble(lambda x,y:x>y,new_arr)\n",
    "print(new_arr)\n",
    "print(f'중앙값: {new_arr[len(new_arr)//2]}')"
   ]
  },
  {
   "cell_type": "code",
   "execution_count": null,
   "id": "84161b12",
   "metadata": {},
   "outputs": [],
   "source": []
  }
 ],
 "metadata": {
  "kernelspec": {
   "display_name": "Python 3 (ipykernel)",
   "language": "python",
   "name": "python3"
  },
  "language_info": {
   "codemirror_mode": {
    "name": "ipython",
    "version": 3
   },
   "file_extension": ".py",
   "mimetype": "text/x-python",
   "name": "python",
   "nbconvert_exporter": "python",
   "pygments_lexer": "ipython3",
   "version": "3.9.13"
  }
 },
 "nbformat": 4,
 "nbformat_minor": 5
}
