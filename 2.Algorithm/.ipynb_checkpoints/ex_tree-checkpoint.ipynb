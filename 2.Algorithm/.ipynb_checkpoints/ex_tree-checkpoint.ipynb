{
 "cells": [
  {
   "cell_type": "code",
   "execution_count": 1,
   "id": "a2f75c94",
   "metadata": {},
   "outputs": [],
   "source": [
    "# 1. 책이름, 작가명을 tree 구조로 생성, 책이름 순서로\n",
    "# 2. 책이름 입력 : 작가명 검색\n",
    "# 3. 책이름 입력 : 해당 자료  삭제\n",
    "books = [ ['어린왕자', '쌩떽쥐베리'],['이방인', '까뮈'], ['부활', '톨스토이'],\n",
    " ['신곡', '단테'], ['돈키호테', '세브반테스'], ['동물농장', '조지오웰'],\n",
    " ['데미안','헤르만헤세'], ['파우스트', '괴테'], ['대지', '펄벅'] ]"
   ]
  },
  {
   "cell_type": "code",
   "execution_count": 41,
   "id": "941c5e3c",
   "metadata": {},
   "outputs": [],
   "source": [
    "\n",
    "class TreeNode:\n",
    "    def __init__(self):\n",
    "        self.left = None\n",
    "        self.data = None\n",
    "        self.right = None\n",
    "        \n",
    "    def insert_data(self, func, node):\n",
    "        if self.data == None:\n",
    "            self.data = node.data\n",
    "        elif node.data == self.data:\n",
    "            return\n",
    "        elif func(node, self):\n",
    "            if self.left == None:\n",
    "                self.left = node\n",
    "            else:\n",
    "                self.left.insert_data(func, node)\n",
    "        else:\n",
    "            if self.right == None:\n",
    "                self.right = node\n",
    "            else:\n",
    "                self.right.insert_data(func, node)\n",
    "    \n",
    "    def search_node(self, data):\n",
    "        result = None\n",
    "        #print('    -', self.data)\n",
    "        if not self:\n",
    "            return result\n",
    "        elif not self.data:\n",
    "            return result\n",
    "        elif data == self.data[0]:\n",
    "            #print('        Data Here')\n",
    "            result = self.data[1]\n",
    "            return result\n",
    "        else:\n",
    "            if self.left:\n",
    "                #print('        Search Left')\n",
    "                result = self.left.search_node(data)\n",
    "                if result:\n",
    "                    return result\n",
    "            if self.right:\n",
    "                #print('        Search Right')\n",
    "                result = self.right.search_node(data)\n",
    "                if result:\n",
    "                    return result\n",
    "                \n",
    "        #print('        Search Failed')\n",
    "    \n",
    "        "
   ]
  },
  {
   "cell_type": "code",
   "execution_count": 42,
   "id": "b7975bfa",
   "metadata": {},
   "outputs": [],
   "source": [
    "\n",
    "def print_tree_preorder(node):\n",
    "    if node == None:\n",
    "        return\n",
    "    print(node.data, end=' -> ')\n",
    "    print_tree_preorder(node.left)\n",
    "    print_tree_preorder(node.right)\n",
    "        "
   ]
  },
  {
   "cell_type": "code",
   "execution_count": 43,
   "id": "bf61a61e",
   "metadata": {},
   "outputs": [
    {
     "name": "stdout",
     "output_type": "stream",
     "text": [
      "['어린왕자', '쌩떽쥐베리'] -> ['부활', '톨스토이'] -> ['돈키호테', '세브반테스'] -> ['데미안', '헤르만헤세'] -> ['대지', '펄벅'] -> ['동물농장', '조지오웰'] -> ['신곡', '단테'] -> ['이방인', '까뮈'] -> ['파우스트', '괴테'] -> "
     ]
    }
   ],
   "source": [
    "root = TreeNode()\n",
    "\n",
    "for book in books:\n",
    "    node = TreeNode()\n",
    "    node.data = book\n",
    "    root.insert_data(lambda x,y:x.data[0]<y.data[0], node)\n",
    "    \n",
    "print_tree_preorder(root)"
   ]
  },
  {
   "cell_type": "code",
   "execution_count": 44,
   "id": "f2298190",
   "metadata": {},
   "outputs": [
    {
     "name": "stdout",
     "output_type": "stream",
     "text": [
      "괴테\n"
     ]
    }
   ],
   "source": [
    "print(root.search_node('파우스트'))"
   ]
  },
  {
   "cell_type": "code",
   "execution_count": null,
   "id": "bccb6030",
   "metadata": {},
   "outputs": [],
   "source": []
  }
 ],
 "metadata": {
  "kernelspec": {
   "display_name": "Python 3 (ipykernel)",
   "language": "python",
   "name": "python3"
  },
  "language_info": {
   "codemirror_mode": {
    "name": "ipython",
    "version": 3
   },
   "file_extension": ".py",
   "mimetype": "text/x-python",
   "name": "python",
   "nbconvert_exporter": "python",
   "pygments_lexer": "ipython3",
   "version": "3.9.13"
  }
 },
 "nbformat": 4,
 "nbformat_minor": 5
}
