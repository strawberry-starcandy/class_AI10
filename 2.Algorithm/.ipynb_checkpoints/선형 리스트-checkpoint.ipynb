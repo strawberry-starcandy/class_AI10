{
 "cells": [
  {
   "cell_type": "markdown",
   "id": "59bd63c2",
   "metadata": {},
   "source": [
    "- 선형 리스트\n",
    "    - 데이터 추가\n",
    "    - 데이터 삽입\n",
    "    - 데이터 삭제"
   ]
  },
  {
   "cell_type": "code",
   "execution_count": 32,
   "id": "b59f38fb",
   "metadata": {},
   "outputs": [
    {
     "name": "stdout",
     "output_type": "stream",
     "text": [
      "['다현', '정연', '쯔위', '사나', '지효', '모모']\n"
     ]
    }
   ],
   "source": [
    "# 선형 리스트 -> 마지막에 자료 추가\n",
    "\n",
    "kakao = []    # 빈 리스트 생성\n",
    "def add_data(friend):\n",
    "    kakao.append(None)    # 리스트의 빈 칸 추가\n",
    "    kakao[len(kakao) - 1] = friend    # 데이터 저장\n",
    "    return\n",
    "\n",
    "\n",
    "add_data('다현')\n",
    "add_data('정연')\n",
    "add_data('쯔위')\n",
    "add_data('사나')\n",
    "add_data('지효')\n",
    "add_data('모모')\n",
    "\n",
    "print(kakao)"
   ]
  },
  {
   "cell_type": "code",
   "execution_count": 33,
   "id": "4d48a5c7",
   "metadata": {},
   "outputs": [
    {
     "name": "stdout",
     "output_type": "stream",
     "text": [
      "before>  ['다현', '정연', '쯔위', '사나', '지효', '모모']\n",
      "after >  ['다현', '정연', '솔라', '쯔위', '사나', '지효', '모모']\n"
     ]
    }
   ],
   "source": [
    "# 선형리스트 -> insert(위치, 데이터)\n",
    "def insert_data(position, friend):\n",
    "    if position < 0 or position > len(kakao):\n",
    "        print('리스트의 범위를 벗어남')\n",
    "        raise IndexError\n",
    "        \n",
    "    kakao.append(None)    # 리스트의 빈 칸 추가\n",
    "    for i in range(len(kakao) - 1, position, -1):\n",
    "        kakao[i] = kakao[i - 1]\n",
    "        kakao[i - 1] = None\n",
    "    kakao[position] = friend    # 원하는 위치에 자료 추가\n",
    "    return\n",
    "\n",
    "print('before> ',kakao)\n",
    "insert_data(2,'솔라')\n",
    "print('after > ',kakao)"
   ]
  },
  {
   "cell_type": "code",
   "execution_count": 34,
   "id": "1a7e835e",
   "metadata": {},
   "outputs": [
    {
     "name": "stdout",
     "output_type": "stream",
     "text": [
      "before>  ['다현', '정연', '솔라', '쯔위', '사나', '지효', '모모']\n",
      "after >  ['다현', '솔라', '쯔위', '사나', '지효', '모모']\n"
     ]
    }
   ],
   "source": [
    "# 선형 리스트 -> delete_data(위치)\n",
    "def delete_data(position):\n",
    "    if position < 0 or position > len(kakao):\n",
    "        print('리스트의 범위를 벗어남')\n",
    "        raise IndexError\n",
    "    \n",
    "    kakao[position] = None    # 데이터 삭제\n",
    "    for i in range(position, len(kakao) - 1):\n",
    "        kakao[i] = kakao[i + 1]\n",
    "        kakao[i + 1] = None\n",
    "    del(kakao[-1])\n",
    "    return\n",
    "\n",
    "print('before> ',kakao)\n",
    "delete_data(1)\n",
    "print('after > ',kakao)"
   ]
  },
  {
   "cell_type": "code",
   "execution_count": null,
   "id": "b1763aef",
   "metadata": {},
   "outputs": [],
   "source": []
  },
  {
   "cell_type": "markdown",
   "id": "0724ee31",
   "metadata": {},
   "source": [
    "- linked list -> 단순 연결 리스트\n",
    "    - 물리적으로 떨어져 있는 리스트를 동적 연결\n",
    "    - 삽입 or 삭제 시 연결된 링크만 수정하면 가능<br>\n"
   ]
  },
  {
   "cell_type": "code",
   "execution_count": 88,
   "id": "3920fd3e",
   "metadata": {},
   "outputs": [
    {
     "name": "stdout",
     "output_type": "stream",
     "text": [
      "다현\n",
      "정연\n",
      "쯔위\n",
      "\n"
     ]
    }
   ],
   "source": [
    "#single_linked_list : data, link 가 필요\n",
    "class Node:\n",
    "    def __init__(self, data=None, link=None):\n",
    "        self.data = data\n",
    "        self.link = link\n",
    "    def __str__(self):\n",
    "        return self.data\n",
    "\n",
    "node1 = Node()\n",
    "node1.data = '다현'\n",
    "\n",
    "node2 = Node()\n",
    "node2.data = '정연'\n",
    "node1.link = node2\n",
    "\n",
    "node3 = Node()\n",
    "node3.data = '쯔위'\n",
    "node2.link = node3\n",
    "\n",
    "node = node1\n",
    "while node:\n",
    "    #print(node.data)\n",
    "    print(node)\n",
    "    node = node.link\n",
    "print()"
   ]
  },
  {
   "cell_type": "code",
   "execution_count": 180,
   "id": "7e89fed3",
   "metadata": {},
   "outputs": [
    {
     "name": "stdout",
     "output_type": "stream",
     "text": [
      "['다현', '솔라', '쯔위', '솔라2', '사나', '지효', '모모']\n",
      "['다현', '솔라', '쯔위', '솔라2', '사나', '지효', '모모']\n"
     ]
    }
   ],
   "source": [
    "print(kakao_bk)\n",
    "print(kakao)"
   ]
  },
  {
   "cell_type": "code",
   "execution_count": 181,
   "id": "4097af74",
   "metadata": {},
   "outputs": [
    {
     "name": "stdout",
     "output_type": "stream",
     "text": [
      "    - Node('지혜) Destroyed.\n",
      "    - Node('지혜) Destroyed.\n",
      "    - Node('솔라) Destroyed.\n",
      "    - Node('쯔위) Destroyed.\n",
      "    - Node('사나) Destroyed.\n",
      "    - Node('지효) Destroyed.\n",
      "['다현', '솔라', '쯔위', '솔라2', '사나', '지효', '모모']\n",
      "\n",
      "'다현' '솔라' '쯔위' '솔라2' '사나' '지효' '모모'\n",
      "'다현' '지혜' '솔라' '쯔위' '솔라2' '사나' '지효' '모모' \n",
      "\n",
      "'다현' '지혜' '지혜' '솔라' '쯔위' '솔라2' '사나' '지효' '모모'\n",
      "\n",
      "    - Node('솔라2) Destroyed.\n",
      "'다현' '지혜' '지혜' '솔라' '쯔위' '사나' '지효' '모모' \n",
      "\n",
      "    - Node('다현) Destroyed.\n",
      "'지혜' '지혜' '솔라' '쯔위' '사나' '지효' '모모' \n",
      "\n",
      "    - Node('모모) Destroyed.\n",
      "'지혜' '지혜' '솔라' '쯔위' '사나' '지효' \n",
      "\n"
     ]
    }
   ],
   "source": [
    "# 단순 연결 리스트 : 삽입, 삭제\n",
    "# 직접한 소스코드\n",
    "class Node:\n",
    "    def __init__(self, data=None, link=None):\n",
    "        self.data = data\n",
    "        self.link = link\n",
    "        \n",
    "    def __del__(self):\n",
    "        print(f'    - Node(\\'{self.data}) Destroyed.')\n",
    "        return\n",
    "    \n",
    "    def __str__(self):\n",
    "        return f'\\'{self.data}\\''\n",
    "    \n",
    "    def print_node(self):\n",
    "        print(self, end = '')\n",
    "        if self.link:\n",
    "#             print(end=', ')\n",
    "            print(end=' ')\n",
    "            self.link.print_node()\n",
    "        else:\n",
    "            print()\n",
    "        return\n",
    "    \n",
    "    # 재귀\n",
    "    def insert(self, new_data, find_data=''):\n",
    "        if find_data == None:\n",
    "            self == Node(new_data, self)\n",
    "        elif self.data == None:\n",
    "            self.data = new_data\n",
    "        elif self.data == find_data:\n",
    "            self.link = Node(new_data, self.link)\n",
    "        elif self.link == None:\n",
    "            self.link = Node(new_data)\n",
    "        else:\n",
    "            self.link.insert(new_data, find_data)\n",
    "        return self\n",
    "\n",
    "    # while 사용\n",
    "#     def insert(self, find_data, new_data):    \n",
    "#         current = self\n",
    "#         while current:\n",
    "#             if current.data == None:\n",
    "#                 current.data = new_data\n",
    "#                 break\n",
    "#             elif current.data == find_data:\n",
    "#                 current.link = Node(new_data, current.link)\n",
    "#                 break\n",
    "#             elif current.link == None:\n",
    "#                 current.link = Node(new_data)\n",
    "#                 break\n",
    "#             current = current.link\n",
    "#         return\n",
    "\n",
    "def insert_node(find_data, new_data):\n",
    "    n = node\n",
    "    while n:\n",
    "        if n.data == None and n.link == None:\n",
    "            n.data = new_data\n",
    "            break\n",
    "        elif n.data == find_data:\n",
    "            n.link = Node(new_data, n.link)\n",
    "            break\n",
    "        elif n.link == None:\n",
    "            n.link = Node(new_data)\n",
    "            break\n",
    "        n = n.link\n",
    "    return\n",
    "            \n",
    "\n",
    "def delete_node(data):\n",
    "    global node\n",
    "    n = node\n",
    "    n_prev = node\n",
    "    \n",
    "    while n:\n",
    "        if n.data == data:\n",
    "            if n_prev  == n:\n",
    "                node = n.link\n",
    "            else:\n",
    "                n_prev.link = n.link\n",
    "            break\n",
    "        n_prev = n\n",
    "        n = n.link\n",
    "    return\n",
    "\n",
    "def print_node(node):\n",
    "    n = node\n",
    "    while n:\n",
    "        print(n, end=' ')\n",
    "        n = n.link\n",
    "    print()\n",
    "    return\n",
    "\n",
    "node = Node()\n",
    "\n",
    "print(kakao)\n",
    "print()\n",
    "\n",
    "for data in kakao:\n",
    "#     insert_node(None, data)\n",
    "    node = node.insert(data)\n",
    "node.print_node()\n",
    "\n",
    "insert_node('다현', '지혜')    # 다현 뒤에 지혜 추가\n",
    "print_node(node)\n",
    "print()\n",
    "\n",
    "node.insert('지혜', '다현')    # 다현 뒤에 지혜 추가\n",
    "node = node.print_node()\n",
    "print()\n",
    "\n",
    "delete_node('솔라2')    # 중간 노드 제거\n",
    "print_node(node)\n",
    "print()\n",
    "\n",
    "delete_node('다현')    # 처음 노드 제거\n",
    "print_node(node)\n",
    "print()\n",
    "\n",
    "delete_node('모모')    # 마지막 노드 제거\n",
    "print_node(node)\n",
    "print()\n",
    "\n",
    "# node.delete('지효')\n",
    "# node.print_node()\n",
    "# print()\n"
   ]
  },
  {
   "cell_type": "code",
   "execution_count": null,
   "id": "36c38a97",
   "metadata": {},
   "outputs": [],
   "source": []
  },
  {
   "cell_type": "code",
   "execution_count": null,
   "id": "c42ee17a",
   "metadata": {},
   "outputs": [],
   "source": []
  },
  {
   "cell_type": "code",
   "execution_count": null,
   "id": "3aedec0b",
   "metadata": {},
   "outputs": [],
   "source": []
  },
  {
   "cell_type": "code",
   "execution_count": null,
   "id": "77edf51e",
   "metadata": {},
   "outputs": [],
   "source": []
  }
 ],
 "metadata": {
  "kernelspec": {
   "display_name": "Python 3 (ipykernel)",
   "language": "python",
   "name": "python3"
  },
  "language_info": {
   "codemirror_mode": {
    "name": "ipython",
    "version": 3
   },
   "file_extension": ".py",
   "mimetype": "text/x-python",
   "name": "python",
   "nbconvert_exporter": "python",
   "pygments_lexer": "ipython3",
   "version": "3.9.13"
  }
 },
 "nbformat": 4,
 "nbformat_minor": 5
}
