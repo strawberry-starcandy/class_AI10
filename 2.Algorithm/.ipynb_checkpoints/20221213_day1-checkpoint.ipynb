{
 "cells": [
  {
   "cell_type": "code",
   "execution_count": 16,
   "id": "19a49297",
   "metadata": {},
   "outputs": [
    {
     "name": "stdout",
     "output_type": "stream",
     "text": [
      "생성 개수 입력> 5\n",
      "18    11    45     7    24    29    \n",
      "33     2     8    31    20    16    \n",
      "22    16    14    27     5    45    \n",
      " 9    38     8    28    32    11    \n",
      "26     6    23    40     3    42    \n"
     ]
    }
   ],
   "source": [
    "# 1~45 숫자 중에서 6개를 고르는 로또 번호 자동 생성\n",
    "# 사용자가 입력한 개수만큼 로또 번호 생성\n",
    "# 1. 사용자가 입력한 수 확인\n",
    "# 2. 로또 번호 6개 자동 생성 : 반복 -> 1에서 입력한 수 만큼\n",
    "# 3. 생성된 로또번호 출력\n",
    "\n",
    "import random\n",
    "lottos = []\n",
    "# 1. 사용자가 입력한 수 확인\n",
    "count = int(input('생성 개수 입력> '))\n",
    "\n",
    "# 2. 로또 번호 6개 자동 생성 : 반복 -> 1에서 입력한 수 만큼\n",
    "for n in range(count):\n",
    "    lotto = []\n",
    "    for nn in range(6):\n",
    "        while True:\n",
    "            #new_number = random.choice(range(1,45 + 1))\n",
    "            new_number = random.randint(1,45)\n",
    "            if new_number not in lotto:\n",
    "                lotto.append(new_number)\n",
    "                break\n",
    "    lottos.append(lotto)\n",
    "\n",
    "# 3. 생성된 로또번호 출력\n",
    "for lotto in lottos:\n",
    "    for num in lotto:\n",
    "        print(f'{num:2d}', end='    ')\n",
    "    print()\n",
    "\n"
   ]
  },
  {
   "cell_type": "code",
   "execution_count": 25,
   "id": "c6a7fa49",
   "metadata": {},
   "outputs": [
    {
     "name": "stdout",
     "output_type": "stream",
     "text": [
      "{'다', '\\n', '산', '려', '사', '고', '눈', '약', '흘', '어', '이', '길', '물', '뿐', '달', '시', '말', '히', '내', '기', '걸', '니', '워', '뿌', '름', '옵', '실', '놓', '그', '없', '죽', '보', '소', '인', '변', '가', ' ', '진', '는', '오', '에', '때', '따', '서', '나', '영', '밟', '즈', '도', '드', '을', '아', '역', '겨', '음', '래', '리', '꽃'}\n",
      "{'다': 4, '가': 7, '에': 4, '리': 6}\n"
     ]
    }
   ],
   "source": [
    "# 김소월의 진달래꽃 시에서 4회 이상 나온 글자를 출력\n",
    "# 단, 영문/한글만 해당, 그외는 세지않음\n",
    "\n",
    "poet = '''\n",
    "나 보기가 역겨워 가실 때에는 말없이 고이 보내 드리오리다\n",
    "영변에 약산 진달래꽃 아름 따다 가실 길에 뿌리오리다\n",
    "가시는 걸음 걸음 놓인 그 꽃을 사뿐히 즈려 밟고 가시옵소서\n",
    "나 보기가 역겨워 가실 때에는 죽어도 아니 눈물 흘리오리다\n",
    " '''\n",
    "#글자가 처음 나오면 딕셔너리에 글자를 키로 나온횟수는 1로 저장\n",
    "# 딕셔너리에 키에 글자가 존재하면 기존 횟수에 증가시킴\n",
    "# 4회 이상 나온 글자와 횟수 출력\n",
    "text_count = {}\n",
    "\n",
    "for ch in set(poet):\n",
    "    if ch.isalpha():\n",
    "        count = poet.count(ch)\n",
    "        if count >= 4:\n",
    "            text_count[ch] = count\n",
    "print(text_count)"
   ]
  },
  {
   "cell_type": "code",
   "execution_count": null,
   "id": "ba6dc41d",
   "metadata": {},
   "outputs": [],
   "source": []
  }
 ],
 "metadata": {
  "kernelspec": {
   "display_name": "Python 3 (ipykernel)",
   "language": "python",
   "name": "python3"
  },
  "language_info": {
   "codemirror_mode": {
    "name": "ipython",
    "version": 3
   },
   "file_extension": ".py",
   "mimetype": "text/x-python",
   "name": "python",
   "nbconvert_exporter": "python",
   "pygments_lexer": "ipython3",
   "version": "3.9.13"
  }
 },
 "nbformat": 4,
 "nbformat_minor": 5
}
