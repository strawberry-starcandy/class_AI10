{
 "cells": [
  {
   "cell_type": "code",
   "execution_count": 1,
   "id": "1fe9741c",
   "metadata": {},
   "outputs": [],
   "source": [
    "# queue : FIFO\n",
    "# 먼저 들어간 데이터를 먼저 꺼냄\n",
    "# 데이터 삽입 -> enQueue\n",
    "# 데이터 추출 -> deQueue\n",
    "# 데이터 시작 위치 -> front\n",
    "# 데이터 끝 위치 -> rear"
   ]
  },
  {
   "cell_type": "code",
   "execution_count": 2,
   "id": "5b9e0f7b",
   "metadata": {},
   "outputs": [],
   "source": [
    "# Queue size 입력 받음\n",
    "# Queue size 만큼 빈 리스트 생성\n",
    "# 1. enQueue()    -> Queue 에 넣을 자료 입력하는 함수 생성\n",
    "# 2. deQueue()    -> Queue 에 가장 처음에 넣은 자료 꺼냄, 꺼낸 위치의 자료에는 None 입력\n",
    "# 3. peQueue()    -> Queue 에서 빼낼 자료 확인\n",
    "# Queue 의 가장 처음 위치는 front, 마지막 위치는 rear 으로 설정 -> 초기값은 front = rear = -1"
   ]
  },
  {
   "cell_type": "code",
   "execution_count": 12,
   "id": "187c00d4",
   "metadata": {},
   "outputs": [],
   "source": [
    "class Queue:\n",
    "    def __init__(self, size):\n",
    "        self.front = 0\n",
    "        self.rear = 0\n",
    "        self.size = size + 1\n",
    "        self.data = [None for _ in range(self.size)]\n",
    "        return\n",
    "    \n",
    "    def calcIdx(self, num):\n",
    "        if num >= self.size:\n",
    "            num -= self.size\n",
    "        elif num < 0:\n",
    "            num + self.size\n",
    "        return num\n",
    "    \n",
    "    def isFull(self):\n",
    "        return self.calcIdx(self.front) == self.calcIdx(self.rear + 1)\n",
    "    \n",
    "    def isEmpty(self):\n",
    "        return self.calcIdx(self.front) == self.calcIdx(self.rear)\n",
    "    \n",
    "    def enQueue(self, data):\n",
    "        if self.isFull():\n",
    "            print('큐가 가득 참')\n",
    "            return\n",
    "        self.data[self.rear] = data\n",
    "        self.rear = self.calcIdx(self.rear + 1)\n",
    "        return\n",
    "    \n",
    "    def deQueue(self):\n",
    "        if self.isEmpty():\n",
    "            print('큐에 데이터 없음')\n",
    "            return None\n",
    "        data = self.data[self.front]\n",
    "        self.data[self.front] = None\n",
    "        self.front = self.calcIdx(self.front + 1)\n",
    "        return data\n",
    "        \n",
    "    def peQueue(self):\n",
    "        if self.isEmpty():\n",
    "            print('큐에 데이터 없음')\n",
    "            return None\n",
    "        data = self.data[self.front]\n",
    "        return data\n",
    "    \n",
    "    def info(self):\n",
    "        return f'{self.data}, Front:{self.front}, Rear:{self.rear}'"
   ]
  },
  {
   "cell_type": "code",
   "execution_count": 4,
   "id": "25440259",
   "metadata": {},
   "outputs": [],
   "source": [
    "def menu_prt():\n",
    "    print(' 1. 큐 자료 입력')\n",
    "    print(' 2. 큐 자료 추출')\n",
    "    print(' 3. 큐 자료 조회')\n",
    "    print(' 4. 큐 상태 확인')\n",
    "    print(' 9. 프로그램 정보')\n",
    "    print('=' * 32)\n",
    "    menu = input('선택 > ')\n",
    "    return menu"
   ]
  },
  {
   "cell_type": "code",
   "execution_count": 5,
   "id": "13cf21ac",
   "metadata": {},
   "outputs": [
    {
     "name": "stdout",
     "output_type": "stream",
     "text": [
      "큐  사이즈 입력 (정수)> 10\n"
     ]
    }
   ],
   "source": [
    "size = int(input('큐  사이즈 입력 (정수)> '))\n",
    "queue = Queue(size)"
   ]
  },
  {
   "cell_type": "code",
   "execution_count": 7,
   "id": "4b6c9616",
   "metadata": {
    "scrolled": true
   },
   "outputs": [
    {
     "name": "stdout",
     "output_type": "stream",
     "text": [
      " 1. 큐 자료 입력\n",
      " 2. 큐 자료 추출\n",
      " 3. 큐 자료 조회\n",
      " 4. 큐 상태 확인\n",
      " 9. 프로그램 정보\n",
      "================================\n",
      "선택 > 2\n",
      "deQueue: 22222\n",
      "\n",
      " 1. 큐 자료 입력\n",
      " 2. 큐 자료 추출\n",
      " 3. 큐 자료 조회\n",
      " 4. 큐 상태 확인\n",
      " 9. 프로그램 정보\n",
      "================================\n",
      "선택 > 4\n",
      "queue info: ['123333', None, None, None, None, None, None, None, None, None, None], Front:0, Rear:1\n",
      "\n",
      " 1. 큐 자료 입력\n",
      " 2. 큐 자료 추출\n",
      " 3. 큐 자료 조회\n",
      " 4. 큐 상태 확인\n",
      " 9. 프로그램 정보\n",
      "================================\n",
      "선택 > 2\n",
      "deQueue: 123333\n",
      "\n",
      " 1. 큐 자료 입력\n",
      " 2. 큐 자료 추출\n",
      " 3. 큐 자료 조회\n",
      " 4. 큐 상태 확인\n",
      " 9. 프로그램 정보\n",
      "================================\n",
      "선택 > 4\n",
      "queue info: [None, None, None, None, None, None, None, None, None, None, None], Front:1, Rear:1\n",
      "\n",
      " 1. 큐 자료 입력\n",
      " 2. 큐 자료 추출\n",
      " 3. 큐 자료 조회\n",
      " 4. 큐 상태 확인\n",
      " 9. 프로그램 정보\n",
      "================================\n",
      "선택 > 2\n",
      "큐에 데이터 없음\n",
      "\n",
      " 1. 큐 자료 입력\n",
      " 2. 큐 자료 추출\n",
      " 3. 큐 자료 조회\n",
      " 4. 큐 상태 확인\n",
      " 9. 프로그램 정보\n",
      "================================\n",
      "선택 > 9\n"
     ]
    }
   ],
   "source": [
    "while True:\n",
    "    menu = menu_prt()\n",
    "    \n",
    "    if menu == '1':\n",
    "        data = input('저장할 데이터> ')\n",
    "        queue.enQueue(data)\n",
    "    elif menu == '2':\n",
    "        data = queue.deQueue()\n",
    "        if data:\n",
    "            print(f'deQueue: {data}')\n",
    "    elif menu == '3':\n",
    "        data = queue.peQueue()\n",
    "        if data:\n",
    "            print(f'peQueue: {data}')\n",
    "    elif menu == '4':\n",
    "        print(f'queue info: {queue.info()}')\n",
    "    elif menu == '9':\n",
    "        break\n",
    "    print()"
   ]
  },
  {
   "cell_type": "code",
   "execution_count": 13,
   "id": "0a9011f2",
   "metadata": {},
   "outputs": [
    {
     "name": "stdout",
     "output_type": "stream",
     "text": [
      "현재 대기 콜은 0분입니다.\n",
      "[None, None, None, None, None, None], Front:0, Rear:0\n",
      ">>> 고장\n",
      "현재 대기 콜은 3분입니다.\n",
      "[('고장', 3), None, None, None, None, None], Front:0, Rear:1\n",
      ">>> 고장\n",
      "현재 대기 콜은 6분입니다.\n",
      "[('고장', 3), ('고장', 3), None, None, None, None], Front:0, Rear:2\n",
      ">>> 고장\n",
      "현재 대기 콜은 9분입니다.\n",
      "[('고장', 3), ('고장', 3), ('고장', 3), None, None, None], Front:0, Rear:3\n",
      ">>> 고장\n",
      "현재 대기 콜은 12분입니다.\n",
      "[('고장', 3), ('고장', 3), ('고장', 3), ('고장', 3), None, None], Front:0, Rear:4\n",
      ">>> \n",
      "최종 대기 콜은 12분입니다.\n",
      "[('고장', 3), ('고장', 3), ('고장', 3), ('고장', 3), None, None], Front:0, Rear:4\n"
     ]
    }
   ],
   "source": [
    "call_wait =Queue(5)\n",
    "\n",
    "call_type = {'사용':9, '고장':3, '환불':4, '기타':1}\n",
    "# call_list = [('사용', 9), ('고장', 3), ('환불', 4), ('환불', 4),  ('고장', 3)]\n",
    "wait_time = 0\n",
    "\n",
    "while True:\n",
    "    print(f'현재 대기 콜은 {wait_time}분입니다.')\n",
    "    print(call_wait.info())\n",
    "    call = input('>>> ')\n",
    "    if call in call_type:\n",
    "        wait_time +=call_type[call]\n",
    "        call_wait.enQueue((call, call_type[call]))\n",
    "    elif call == '종료':\n",
    "        end_call = call_wait.deQueue()\n",
    "        wait_time -= end_call[1]\n",
    "    elif not call:\n",
    "        break\n",
    "    \n",
    "print(f'최종 대기 콜은 {wait_time}분입니다.')\n",
    "print(call_wait.info())\n",
    "    "
   ]
  },
  {
   "cell_type": "code",
   "execution_count": null,
   "id": "27178090",
   "metadata": {},
   "outputs": [],
   "source": []
  },
  {
   "cell_type": "code",
   "execution_count": null,
   "id": "0782bc60",
   "metadata": {},
   "outputs": [],
   "source": []
  },
  {
   "cell_type": "code",
   "execution_count": null,
   "id": "9300e0e7",
   "metadata": {},
   "outputs": [],
   "source": []
  }
 ],
 "metadata": {
  "kernelspec": {
   "display_name": "Python 3 (ipykernel)",
   "language": "python",
   "name": "python3"
  },
  "language_info": {
   "codemirror_mode": {
    "name": "ipython",
    "version": 3
   },
   "file_extension": ".py",
   "mimetype": "text/x-python",
   "name": "python",
   "nbconvert_exporter": "python",
   "pygments_lexer": "ipython3",
   "version": "3.9.13"
  }
 },
 "nbformat": 4,
 "nbformat_minor": 5
}
