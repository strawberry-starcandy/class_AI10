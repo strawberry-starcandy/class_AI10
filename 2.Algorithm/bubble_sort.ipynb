{
 "cells": [
  {
   "cell_type": "code",
   "execution_count": null,
   "id": "fdcdf6a6",
   "metadata": {},
   "outputs": [],
   "source": [
    "array = []\n",
    "for i in range(10):\n",
    "    array.append(random.randint(1,100) )"
   ]
  },
  {
   "cell_type": "code",
   "execution_count": 24,
   "id": "5437253e",
   "metadata": {},
   "outputs": [],
   "source": [
    "import random\n",
    "array = [ random.randint(1,100) for _ in range(100) ]\n",
    "# array"
   ]
  },
  {
   "cell_type": "code",
   "execution_count": 14,
   "id": "2c477e32",
   "metadata": {},
   "outputs": [],
   "source": [
    "def bubble_sort(array):\n",
    "    n = len(array)\n",
    "    cnt = 0\n",
    "    for end in range(n-1, 0, -1):   # 반복 횟수\n",
    "        for cur in range(0, end):\n",
    "            cnt += 1\n",
    "            if array[cur] > array[cur + 1]:\n",
    "                array[cur], array[cur+1] = array[cur+1], array[cur]\n",
    "    return array, cnt"
   ]
  },
  {
   "cell_type": "code",
   "execution_count": 26,
   "id": "91cdf871",
   "metadata": {},
   "outputs": [
    {
     "name": "stdout",
     "output_type": "stream",
     "text": [
      "bubble sort before -->  [1, 4, 8, 9, 9, 10, 10, 14, 15, 16, 17, 17, 18, 21, 21, 22, 22, 22, 23, 23, 24, 27, 28, 28, 31, 32, 32, 32, 33, 34, 34, 34, 35, 35, 36, 36, 37, 38, 38, 38, 39, 39, 40, 41, 42, 42, 42, 43, 44, 45, 45, 46, 46, 47, 47, 48, 49, 49, 50, 52, 52, 54, 54, 55, 56, 58, 58, 59, 60, 61, 62, 64, 65, 66, 66, 68, 68, 71, 72, 74, 74, 77, 78, 80, 82, 82, 85, 86, 87, 87, 89, 90, 91, 91, 91, 92, 95, 96, 98, 100]\n",
      "bubble sort after -->  [1, 4, 8, 9, 9, 10, 10, 14, 15, 16, 17, 17, 18, 21, 21, 22, 22, 22, 23, 23, 24, 27, 28, 28, 31, 32, 32, 32, 33, 34, 34, 34, 35, 35, 36, 36, 37, 38, 38, 38, 39, 39, 40, 41, 42, 42, 42, 43, 44, 45, 45, 46, 46, 47, 47, 48, 49, 49, 50, 52, 52, 54, 54, 55, 56, 58, 58, 59, 60, 61, 62, 64, 65, 66, 66, 68, 68, 71, 72, 74, 74, 77, 78, 80, 82, 82, 85, 86, 87, 87, 89, 90, 91, 91, 91, 92, 95, 96, 98, 100] 4950\n"
     ]
    }
   ],
   "source": [
    "print('bubble sort before --> ', array)\n",
    "array, cnt = bubble_sort(array)\n",
    "print('bubble sort after --> ', array, cnt)"
   ]
  },
  {
   "cell_type": "code",
   "execution_count": 12,
   "id": "edf52880",
   "metadata": {},
   "outputs": [],
   "source": [
    "def bubble_sort_1(array):\n",
    "    n = len(array)\n",
    "    cnt = 0\n",
    "    for end in range(n-1, 0, -1):   # 반복 횟수\n",
    "        sw = False\n",
    "        for cur in range(0, end):\n",
    "            cnt += 1\n",
    "            if array[cur] > array[cur + 1]:\n",
    "                array[cur], array[cur+1] = array[cur+1], array[cur]\n",
    "                sw = True\n",
    "#         if sw == False:\n",
    "        if not sw:            \n",
    "            break\n",
    "    return array, cnt"
   ]
  },
  {
   "cell_type": "code",
   "execution_count": 27,
   "id": "fe8749b3",
   "metadata": {},
   "outputs": [
    {
     "name": "stdout",
     "output_type": "stream",
     "text": [
      "bubble sort before -->  [1, 4, 8, 9, 9, 10, 10, 14, 15, 16, 17, 17, 18, 21, 21, 22, 22, 22, 23, 23, 24, 27, 28, 28, 31, 32, 32, 32, 33, 34, 34, 34, 35, 35, 36, 36, 37, 38, 38, 38, 39, 39, 40, 41, 42, 42, 42, 43, 44, 45, 45, 46, 46, 47, 47, 48, 49, 49, 50, 52, 52, 54, 54, 55, 56, 58, 58, 59, 60, 61, 62, 64, 65, 66, 66, 68, 68, 71, 72, 74, 74, 77, 78, 80, 82, 82, 85, 86, 87, 87, 89, 90, 91, 91, 91, 92, 95, 96, 98, 100]\n",
      "bubble sort after -->  [1, 4, 8, 9, 9, 10, 10, 14, 15, 16, 17, 17, 18, 21, 21, 22, 22, 22, 23, 23, 24, 27, 28, 28, 31, 32, 32, 32, 33, 34, 34, 34, 35, 35, 36, 36, 37, 38, 38, 38, 39, 39, 40, 41, 42, 42, 42, 43, 44, 45, 45, 46, 46, 47, 47, 48, 49, 49, 50, 52, 52, 54, 54, 55, 56, 58, 58, 59, 60, 61, 62, 64, 65, 66, 66, 68, 68, 71, 72, 74, 74, 77, 78, 80, 82, 82, 85, 86, 87, 87, 89, 90, 91, 91, 91, 92, 95, 96, 98, 100] 99\n"
     ]
    }
   ],
   "source": [
    "print('bubble sort before --> ', array)\n",
    "array, cnt = bubble_sort_1(array)\n",
    "print('bubble sort after --> ', array, cnt)"
   ]
  },
  {
   "cell_type": "code",
   "execution_count": null,
   "id": "3f45398a",
   "metadata": {},
   "outputs": [],
   "source": []
  },
  {
   "cell_type": "code",
   "execution_count": null,
   "id": "8dc9d7f3",
   "metadata": {},
   "outputs": [],
   "source": []
  },
  {
   "cell_type": "code",
   "execution_count": null,
   "id": "479ff01c",
   "metadata": {},
   "outputs": [],
   "source": []
  },
  {
   "cell_type": "code",
   "execution_count": null,
   "id": "c53e7e7a",
   "metadata": {},
   "outputs": [],
   "source": []
  },
  {
   "cell_type": "code",
   "execution_count": null,
   "id": "802d54c8",
   "metadata": {},
   "outputs": [],
   "source": []
  }
 ],
 "metadata": {
  "kernelspec": {
   "display_name": "Python 3 (ipykernel)",
   "language": "python",
   "name": "python3"
  },
  "language_info": {
   "codemirror_mode": {
    "name": "ipython",
    "version": 3
   },
   "file_extension": ".py",
   "mimetype": "text/x-python",
   "name": "python",
   "nbconvert_exporter": "python",
   "pygments_lexer": "ipython3",
   "version": "3.9.13"
  }
 },
 "nbformat": 4,
 "nbformat_minor": 5
}
