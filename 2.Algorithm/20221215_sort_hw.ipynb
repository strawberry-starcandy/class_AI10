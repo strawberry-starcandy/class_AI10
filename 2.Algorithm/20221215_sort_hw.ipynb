{
 "cells": [
  {
   "cell_type": "code",
   "execution_count": 1,
   "id": "c0bb922a",
   "metadata": {},
   "outputs": [],
   "source": [
    "def bubble(func, array):\n",
    "    for i in range(len(array) - 1):\n",
    "        for j in range(len(array) - i - 1):\n",
    "            if func(array[j], array[j + 1]):\n",
    "                array[j], array[j + 1] = array[j + 1], array[j]"
   ]
  },
  {
   "cell_type": "code",
   "execution_count": 2,
   "id": "923bd3e9",
   "metadata": {},
   "outputs": [],
   "source": [
    "scoreAry = [['선미', 88], ['초아', 99], ['화사', 71], ['영탁', 78], ['영웅', 67], ['민호', 92]]"
   ]
  },
  {
   "cell_type": "code",
   "execution_count": 3,
   "id": "3594508a",
   "metadata": {},
   "outputs": [
    {
     "name": "stdout",
     "output_type": "stream",
     "text": [
      "1조 : ['초아', 99], ['영웅', 67]\n",
      "2조 : ['민호', 92], ['화사', 71]\n",
      "3조 : ['선미', 88], ['영탁', 78]\n"
     ]
    }
   ],
   "source": [
    "# 성적순으로 정렬 후 2인 1조를 생성 -> 결과 출력, 가장 작은 값과 가장 큰 성적 1조\n",
    "# 조 편성 후 조별 이름 출력\n",
    "sortArr = scoreAry.copy()\n",
    "bubble(lambda x,y:x[1]<y[1], sortArr)\n",
    "\n",
    "pairs =[]\n",
    "\n",
    "for i in range(len(sortArr) // 2 ):\n",
    "    pairs.append([i+1, sortArr[i], sortArr[len(sortArr) - i - 1]])\n",
    "\n",
    "for pair in pairs:\n",
    "    print(f'{pair[0]}조 : {pair[1]}, {pair[2]}')"
   ]
  },
  {
   "cell_type": "code",
   "execution_count": 4,
   "id": "e281cff0",
   "metadata": {},
   "outputs": [],
   "source": [
    "array = [[55, 33, 250, 44],\n",
    "         [88,  1,  67, 23],\n",
    "         [199,222, 38, 47],\n",
    "         [155,145, 20, 99]]"
   ]
  },
  {
   "cell_type": "code",
   "execution_count": 5,
   "id": "cd584abc",
   "metadata": {},
   "outputs": [],
   "source": [
    "# 이차원 배열의 중앙값을 추출\n",
    "# 이차원을 1차원으로 변경 후 중앙값 추출"
   ]
  },
  {
   "cell_type": "code",
   "execution_count": 6,
   "id": "41481502",
   "metadata": {},
   "outputs": [
    {
     "name": "stdout",
     "output_type": "stream",
     "text": [
      "[55, 33, 250, 44, 88, 1, 67, 23, 199, 222, 38, 47, 155, 145, 20, 99]\n",
      "[1, 20, 23, 33, 38, 44, 47, 55, 67, 88, 99, 145, 155, 199, 222, 250]\n",
      "중앙값: 67\n"
     ]
    }
   ],
   "source": [
    "new_arr = [i for item in array for i in item]\n",
    "print(new_arr)\n",
    "bubble(lambda x,y:x>y,new_arr)\n",
    "print(new_arr)\n",
    "print(f'중앙값: {new_arr[len(new_arr)//2]}')"
   ]
  },
  {
   "cell_type": "markdown",
   "id": "342fb6e1",
   "metadata": {},
   "source": [
    "# 마방진 만들기 (n은 홀수)\n",
    "1. n x n 마방진 만들기 (n 은 홀수)\n",
    "2. 첫번째 열의 가운데 행을 1로 채움\n",
    "3. 규칙대로 숫자 채우기<br>\n",
    "    3-1. 해당 위치에서 한 칸 왼쪽, 한 칸 위쪽으로 이동<br>\n",
    "    3-2. 칸을 벗어나면 그 줄의 반대쪽으로 이동<br>\n",
    "    3-3. 이동할 위치에 숫자가 이미 있으면 한 칸 아래에 채움<br>\n",
    "    3-4. 이동할 위치에 숫자가 없으면 이동해서 숫자를 채움<br>\n",
    "    위 과정을 반복\n",
    "4. 만약 5 x 5 마방진이면 1 부터 25 까지의 숫자로 채움"
   ]
  },
  {
   "cell_type": "code",
   "execution_count": 42,
   "id": "e40266a3",
   "metadata": {
    "scrolled": false
   },
   "outputs": [
    {
     "name": "stdout",
     "output_type": "stream",
     "text": [
      "마방진 숫자 입력 (홀수) -> 5\n",
      "\n",
      "┼────┼────┼────┼────┼────┼  sum\n",
      "│ 15 │  8 │  1 │ 24 │ 17 │   65\n",
      "┼────┼────┼────┼────┼────┼\n",
      "│ 16 │ 14 │  7 │  5 │ 23 │   65\n",
      "┼────┼────┼────┼────┼────┼\n",
      "│ 22 │ 20 │ 13 │  6 │  4 │   65\n",
      "┼────┼────┼────┼────┼────┼\n",
      "│  3 │ 21 │ 19 │ 12 │ 10 │   65\n",
      "┼────┼────┼────┼────┼────┼\n",
      "│  9 │  2 │ 25 │ 18 │ 11 │   65\n",
      "┼────┼────┼────┼────┼────┼\n",
      "  65   65   65   65   65 "
     ]
    }
   ],
   "source": [
    "def print_magic_squere(array, n):\n",
    "    row_sum = [0 for _ in range(n)]\n",
    "    print()\n",
    "    print('┼────' * n + '┼  sum')\n",
    "    for i in range(n):\n",
    "        for j in range(n):\n",
    "            print(f'│ {array[i][j]:2d} ', end='')\n",
    "            row_sum[j] += array[i][j]\n",
    "        print(f'│  {sum(array[i]):3d}')\n",
    "        print('┼────' * n + '┼')\n",
    "    for i in range(n):\n",
    "        print(f'{row_sum[i]:4d} ', end='')\n",
    "\n",
    "    \n",
    "n = int(input('마방진 숫자 입력 (홀수) -> '))\n",
    "magic_squere = [[0 for _ in range(n)] for _ in range(n)]\n",
    "i = 0\n",
    "j = n // 2\n",
    "magic_squere[i][j] = 1\n",
    "if n % 2:\n",
    "    for x in range(2, n * n + 1):\n",
    "        if magic_squere[i - 1][j - 1]:\n",
    "            i += 1\n",
    "            if i >= n:\n",
    "                i -= n\n",
    "            magic_squere[i][j] = x\n",
    "        else:\n",
    "            i -= 1\n",
    "            j -= 1\n",
    "            if i < 0:\n",
    "                i += n\n",
    "            if j < 0:\n",
    "                j += n\n",
    "            magic_squere[i][j] = x\n",
    "    print_magic_squere(magic_squere, n)\n",
    "else:\n",
    "    print('홀수 입력 필요')\n"
   ]
  },
  {
   "cell_type": "code",
   "execution_count": null,
   "id": "c156f4fb",
   "metadata": {},
   "outputs": [],
   "source": []
  }
 ],
 "metadata": {
  "kernelspec": {
   "display_name": "Python 3 (ipykernel)",
   "language": "python",
   "name": "python3"
  },
  "language_info": {
   "codemirror_mode": {
    "name": "ipython",
    "version": 3
   },
   "file_extension": ".py",
   "mimetype": "text/x-python",
   "name": "python",
   "nbconvert_exporter": "python",
   "pygments_lexer": "ipython3",
   "version": "3.9.13"
  }
 },
 "nbformat": 4,
 "nbformat_minor": 5
}
