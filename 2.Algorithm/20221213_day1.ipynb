{
 "cells": [
  {
   "cell_type": "code",
   "execution_count": 16,
   "id": "ef6f74d8",
   "metadata": {},
   "outputs": [
    {
     "name": "stdout",
     "output_type": "stream",
     "text": [
      "생성 개수 입력> 5\n",
      "18    11    45     7    24    29    \n",
      "33     2     8    31    20    16    \n",
      "22    16    14    27     5    45    \n",
      " 9    38     8    28    32    11    \n",
      "26     6    23    40     3    42    \n"
     ]
    }
   ],
   "source": [
    "# 1~45 숫자 중에서 6개를 고르는 로또 번호 자동 생성\n",
    "# 사용자가 입력한 개수만큼 로또 번호 생성\n",
    "# 1. 사용자가 입력한 수 확인\n",
    "# 2. 로또 번호 6개 자동 생성 : 반복 -> 1에서 입력한 수 만큼\n",
    "# 3. 생성된 로또번호 출력\n",
    "\n",
    "import random\n",
    "lottos = []\n",
    "# 1. 사용자가 입력한 수 확인\n",
    "count = int(input('생성 개수 입력> '))\n",
    "\n",
    "# 2. 로또 번호 6개 자동 생성 : 반복 -> 1에서 입력한 수 만큼\n",
    "for n in range(count):\n",
    "    lotto = []\n",
    "    for nn in range(6):\n",
    "        while True:\n",
    "            #new_number = random.choice(range(1,45 + 1))\n",
    "            new_number = random.randint(1,45)\n",
    "            if new_number not in lotto:\n",
    "                lotto.append(new_number)\n",
    "                break\n",
    "    lottos.append(lotto)\n",
    "\n",
    "# 3. 생성된 로또번호 출력\n",
    "for lotto in lottos:\n",
    "    for num in lotto:\n",
    "        print(f'{num:2d}', end='    ')\n",
    "    print()\n",
    "\n"
   ]
  },
  {
   "cell_type": "code",
   "execution_count": 40,
   "id": "c14c9083",
   "metadata": {},
   "outputs": [
    {
     "name": "stdout",
     "output_type": "stream",
     "text": [
      "가는 7회 나옴(반복문)\n",
      "에는 4회 나옴(반복문)\n",
      "리는 6회 나옴(반복문)\n",
      "다는 4회 나옴(반복문)\n",
      "\n",
      "\n",
      "가는 7회 나옴(딕셔너리 내포)\n",
      "에는 4회 나옴(딕셔너리 내포)\n",
      "리는 6회 나옴(딕셔너리 내포)\n",
      "다는 4회 나옴(딕셔너리 내포)\n",
      "\n",
      "\n",
      "가는 7회 나옴(filter)\n",
      "에는 4회 나옴(filter)\n",
      "리는 6회 나옴(filter)\n",
      "다는 4회 나옴(filter)\n",
      "\n",
      "\n",
      "다는 4회 나옴(count)\n",
      "가는 7회 나옴(count)\n",
      "에는 4회 나옴(count)\n",
      "리는 6회 나옴(count)\n"
     ]
    }
   ],
   "source": [
    "# 김소월의 진달래꽃 시에서 4회 이상 나온 글자를 출력\n",
    "# 단, 영문/한글만 해당, 그외는 세지않음\n",
    "\n",
    "poet = '''\n",
    "나 보기가 역겨워 가실 때에는 말없이 고이 보내 드리오리다\n",
    "영변에 약산 진달래꽃 아름 따다 가실 길에 뿌리오리다\n",
    "가시는 걸음 걸음 놓인 그 꽃을 사뿐히 즈려 밟고 가시옵소서\n",
    "나 보기가 역겨워 가실 때에는 죽어도 아니 눈물 흘리오리다\n",
    " '''\n",
    "#글자가 처음 나오면 딕셔너리에 글자를 키로 나온횟수는 1로 저장\n",
    "# 딕셔너리에 키에 글자가 존재하면 기존 횟수에 증가시킴\n",
    "char_cnt = {}\n",
    "for char in poet:\n",
    "    if char.isalpha():\n",
    "        if char in char_cnt:\n",
    "            char_cnt[char] += 1\n",
    "        else:\n",
    "            char_cnt[char] = 1\n",
    "\n",
    "# 4회 이상 나온 글자와 횟수 출력\n",
    "# 반복문\n",
    "for key, value in char_cnt.items():\n",
    "    if value >= 4:\n",
    "        print(f'{key}는 {value}회 나옴(반복문)')\n",
    "print()\n",
    "print()\n",
    "\n",
    "# 딕셔너리 내포\n",
    "prt_data = {key:value for key, value in char_cnt.items() if value >= 4}\n",
    "for key, value in prt_data.items():\n",
    "    print(f'{key}는 {value}회 나옴(딕셔너리 내포)')\n",
    "print()\n",
    "print()\n",
    "\n",
    "# filter\n",
    "ld_data = dict(filter(lambda x:x[1] >= 4, char_cnt.items()))\n",
    "for key, value in ld_data.items():\n",
    "    print(f'{key}는 {value}회 나옴(filter)')\n",
    "print()\n",
    "print()\n",
    "              \n",
    "text_count = {}\n",
    "\n",
    "for ch in set(poet):\n",
    "    if ch.isalpha():\n",
    "        count = poet.count(ch)\n",
    "        if count >= 4:\n",
    "            text_count[ch] = count\n",
    "\n",
    "for key, value in text_count.items():\n",
    "    print(f'{key}는 {value}회 나옴(count)')"
   ]
  },
  {
   "cell_type": "markdown",
   "id": "ffd30676",
   "metadata": {},
   "source": [
    "- 선형 리스트의 원리\n",
    "    - 데이터 삽입<br>"
   ]
  },
  {
   "cell_type": "code",
   "execution_count": 52,
   "id": "e915ba3e",
   "metadata": {},
   "outputs": [
    {
     "name": "stdout",
     "output_type": "stream",
     "text": [
      "['다현', '정연', '쯔위', '사나', '지효', '모모']\n"
     ]
    }
   ],
   "source": [
    "# 선형 리스트 -> 정렬해서 삽입\n",
    "\n",
    "kakao = []    # 빈 리스트 생성\n",
    "def add_data(friend):\n",
    "    kakao.append(None)\n",
    "    kakao[len(kakao) - 1] = friend\n",
    "    return\n",
    "\n",
    "\n",
    "add_data('다현')\n",
    "add_data('정연')\n",
    "add_data('쯔위')\n",
    "add_data('사나')\n",
    "add_data('지효')\n",
    "add_data('모모')\n",
    "\n",
    "print(kakao)"
   ]
  },
  {
   "cell_type": "code",
   "execution_count": null,
   "id": "27d04e61",
   "metadata": {},
   "outputs": [],
   "source": []
  },
  {
   "cell_type": "code",
   "execution_count": null,
   "id": "30b2109c",
   "metadata": {},
   "outputs": [],
   "source": []
  },
  {
   "cell_type": "code",
   "execution_count": null,
   "id": "2a9db66a",
   "metadata": {},
   "outputs": [],
   "source": []
  }
 ],
 "metadata": {
  "kernelspec": {
   "display_name": "Python 3 (ipykernel)",
   "language": "python",
   "name": "python3"
  },
  "language_info": {
   "codemirror_mode": {
    "name": "ipython",
    "version": 3
   },
   "file_extension": ".py",
   "mimetype": "text/x-python",
   "name": "python",
   "nbconvert_exporter": "python",
   "pygments_lexer": "ipython3",
   "version": "3.9.13"
  }
 },
 "nbformat": 4,
 "nbformat_minor": 5
}
