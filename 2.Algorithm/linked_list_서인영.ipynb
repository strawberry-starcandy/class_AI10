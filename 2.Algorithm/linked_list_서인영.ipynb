{
 "cells": [
  {
   "cell_type": "code",
   "execution_count": 1,
   "metadata": {},
   "outputs": [],
   "source": [
    "# 단순 링크드 리스트\n",
    "# 학생들의 이름과 성적을 입력 받아 성적순으로 클래스의 data에 딕셔너리로 저장\n",
    "class Student:\n",
    "    def __init__(self) -> None:\n",
    "        self.data = {}\n",
    "        self.link = None\n",
    "\n",
    "# 성적순으로 링크드 리스트 작성\n",
    "# insert_node() 수정\n",
    "# 1. 학생 정보 입력\n",
    "# 2. 학생 정보 삭제(이름 입력)\n",
    "# 3. 학생 정보 검색(이름 입력)\n",
    "# 4. 전체 학생의 정보 출력(등수도 출력)\n",
    "# 5. 프로그램 종료"
   ]
  },
  {
   "cell_type": "code",
   "execution_count": 101,
   "metadata": {},
   "outputs": [],
   "source": [
    "def menu():\n",
    "    print()\n",
    "    print()\n",
    "    print('%17s'% ('학생 관리 프로그램'))\n",
    "    print('='*30)\n",
    "    print('1. 학생 정보 입력')\n",
    "    print('2. 학생 정보 삭제')\n",
    "    print('3. 학생 정보 검색')\n",
    "    print('4. 전체 학생 정보 출력')\n",
    "    print('5. 프로그램 종료')\n",
    "    print('='*30)\n",
    "    \n",
    "    menu_btn = int(input('선택> '))\n",
    "    return menu_btn"
   ]
  },
  {
   "cell_type": "code",
   "execution_count": 102,
   "metadata": {},
   "outputs": [],
   "source": [
    "def insert_student():\n",
    "    global head\n",
    "    name = input('이름 입력> ')\n",
    "    score = int(input('점수 입력> '))\n",
    "    node = Student()\n",
    "    node.data[name] = score\n",
    "\n",
    "    # 비어있을 때 가장 앞에 넣음\n",
    "    if not head:\n",
    "        head = node\n",
    "        return\n",
    "\n",
    "    temp = head\n",
    "    # 비어있지 않을때\n",
    "    while True:\n",
    "        # 마자막 노드 뒤에 삽입할 때\n",
    "        if not temp.link:\n",
    "            if node.data[name] < temp.data[list(temp.data.keys())[0]]:\n",
    "                head = node\n",
    "                node.link = temp\n",
    "            else:\n",
    "                temp.link = node\n",
    "            return\n",
    "\n",
    "        # 중간에 삽입할 때\n",
    "        # 새로 추가할 학생의 성적이 기존의 학생 성적보다 크다면(다음 비교)\n",
    "        if node.data[name] > temp.data[list(temp.data.keys())[0]]:\n",
    "            prev = temp\n",
    "            temp = temp.link\n",
    "        # 성적이 같다면(뒤에 삽입)\n",
    "        elif node.data[name] == temp.data[list(temp.data.keys())[0]]:\n",
    "            node.link = temp.link\n",
    "            temp.link = node\n",
    "            return\n",
    "        # 기존 학생의 성적이 더 크다(앞에 삽입)\n",
    "        else:\n",
    "            prev.link = node\n",
    "            node.link = temp\n",
    "    print(f'{name} 추가 완료')"
   ]
  },
  {
   "cell_type": "code",
   "execution_count": 103,
   "metadata": {},
   "outputs": [],
   "source": [
    "def delete_student():\n",
    "    global head\n",
    "    name = input('삭제할 학생 이름을 입력하세요> ')\n",
    "\n",
    "    temp = head\n",
    "    \n",
    "    while True:\n",
    "        # 검색한 이름을 찾으면\n",
    "        if name == list(temp.data.keys())[0]:\n",
    "            # 가장 앞에 있을 경우\n",
    "            if head == temp:\n",
    "                head = temp.link\n",
    "                del(temp)\n",
    "                return\n",
    "            # 마지막에 있을 경우\n",
    "            elif not temp.link:\n",
    "                prev.link = None\n",
    "                del(temp)\n",
    "                return\n",
    "            # 중간에 있을 경우\n",
    "            else:\n",
    "                prev.link = temp.link\n",
    "                del(temp)\n",
    "                return\n",
    "            \n",
    "        prev = temp\n",
    "        temp = temp.link\n",
    "    print(f'{name} 삭제 완료')"
   ]
  },
  {
   "cell_type": "code",
   "execution_count": 104,
   "metadata": {},
   "outputs": [],
   "source": [
    "def find_student():\n",
    "    global head\n",
    "    name = input('검색할 학생의 이름을 입력하세요> ')\n",
    "\n",
    "    temp = head\n",
    "    \n",
    "    while head:\n",
    "        # 학생 찾음\n",
    "        if name == list(head.data.keys())[0]:\n",
    "            # 학생 출력\n",
    "            print(head.data)\n",
    "        head = head.link\n",
    "    head = temp"
   ]
  },
  {
   "cell_type": "code",
   "execution_count": 105,
   "metadata": {},
   "outputs": [],
   "source": [
    "def print_student():\n",
    "    global head\n",
    "    temp = head\n",
    "    while head:\n",
    "        print(head.data)\n",
    "        head = head.link\n",
    "    head = temp"
   ]
  },
  {
   "cell_type": "code",
   "execution_count": 106,
   "metadata": {},
   "outputs": [
    {
     "name": "stdout",
     "output_type": "stream",
     "text": [
      "\n",
      "\n",
      "       학생 관리 프로그램\n",
      "==============================\n",
      "1. 학생 정보 입력\n",
      "2. 학생 정보 삭제\n",
      "3. 학생 정보 검색\n",
      "4. 전체 학생 정보 출력\n",
      "5. 프로그램 종료\n",
      "==============================\n",
      "프로그램 종료\n"
     ]
    }
   ],
   "source": [
    "head = None\n",
    "while True:\n",
    "    btn = menu()\n",
    "    if btn == 1:\n",
    "        insert_student()\n",
    "    elif btn == 2:\n",
    "        delete_student()\n",
    "    elif btn == 3:\n",
    "        find_student()\n",
    "    elif btn == 4:\n",
    "        print_student()\n",
    "    else:\n",
    "        print('프로그램 종료')\n",
    "        break"
   ]
  }
 ],
 "metadata": {
  "kernelspec": {
   "display_name": "Python 3 (ipykernel)",
   "language": "python",
   "name": "python3"
  },
  "language_info": {
   "codemirror_mode": {
    "name": "ipython",
    "version": 3
   },
   "file_extension": ".py",
   "mimetype": "text/x-python",
   "name": "python",
   "nbconvert_exporter": "python",
   "pygments_lexer": "ipython3",
   "version": "3.9.13"
  },
  "vscode": {
   "interpreter": {
    "hash": "90f72c19a37653bfcc01785d15bf6524585b4ca0d2b4dd9336d4b33b4586c52e"
   }
  }
 },
 "nbformat": 4,
 "nbformat_minor": 2
}
