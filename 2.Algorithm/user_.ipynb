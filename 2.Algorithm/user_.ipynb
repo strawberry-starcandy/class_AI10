{
 "cells": [
  {
   "cell_type": "code",
   "execution_count": 1,
   "id": "d0b94000",
   "metadata": {},
   "outputs": [],
   "source": [
    "class User:\n",
    "    def __init__(self, data=[], link=None):\n",
    "        self.data = data\n",
    "        self.link = link\n",
    "        return\n",
    "    \n",
    "    def __str__(self):\n",
    "        return str(self.data)\n",
    "    \n",
    "    def insert_data(self, data):\n",
    "        curr = self\n",
    "        prev = curr\n",
    "        while curr:\n",
    "            # 최초 데이터\n",
    "            if curr.data ==[]:\n",
    "                print('1')\n",
    "                curr.data = data\n",
    "                return self\n",
    "            # 현재 위치보다 앞에 추가\n",
    "            elif data[1] < curr.data[1]:\n",
    "                # 가장 앞일때\n",
    "                if curr == self:\n",
    "                    print('2')\n",
    "                    self = User(data, curr)\n",
    "                    return self\n",
    "                # 중간 위치\n",
    "                else:\n",
    "                    print('3')\n",
    "                    prev.link = User(data, curr)\n",
    "                    return self\n",
    "            # 다음 노드로 진행\n",
    "            else:\n",
    "                # 다음 노드가 있을 경우\n",
    "                if curr.link:\n",
    "                    print('4', data[1], curr.data[1] ,data[1] < curr.data[1])\n",
    "                    prev = curr\n",
    "                    curr = curr.link\n",
    "                # 다음 노드가 없을 경우\n",
    "                else:\n",
    "                    print('5')\n",
    "                    curr.link = User(data)\n",
    "                    return self\n",
    "        return self\n",
    "    \n",
    "    def print_node(self):\n",
    "        print(self, end = ' ')\n",
    "        if self.link:\n",
    "            self.link.print_node()\n",
    "        else:\n",
    "            print()\n",
    "        return\n",
    "    "
   ]
  },
  {
   "cell_type": "code",
   "execution_count": 5,
   "id": "ad980cd7",
   "metadata": {},
   "outputs": [],
   "source": [
    "# Data 초기화\n",
    "user = User()"
   ]
  },
  {
   "cell_type": "code",
   "execution_count": 6,
   "id": "6b6f8a9a",
   "metadata": {
    "scrolled": false
   },
   "outputs": [
    {
     "name": "stdout",
     "output_type": "stream",
     "text": [
      "이름--> bbb\n",
      "이메일--> bbb\n",
      "1\n",
      "['bbb', 'bbb'] \n",
      "이름--> ccc\n",
      "이메일--> ccc\n",
      "5\n",
      "['bbb', 'bbb'] ['ccc', 'ccc'] \n",
      "이름--> aaa\n",
      "이메일--> aaa\n",
      "2\n",
      "['aaa', 'aaa'] ['bbb', 'bbb'] ['ccc', 'ccc'] \n",
      "이름--> aab\n",
      "이메일--> aab\n",
      "4 aab aaa False\n",
      "3\n",
      "['aaa', 'aaa'] ['aab', 'aab'] ['bbb', 'bbb'] ['ccc', 'ccc'] \n",
      "이름--> ddd\n",
      "이메일--> ddd\n",
      "4 ddd aaa False\n",
      "4 ddd aab False\n",
      "4 ddd bbb False\n",
      "5\n",
      "['aaa', 'aaa'] ['aab', 'aab'] ['bbb', 'bbb'] ['ccc', 'ccc'] ['ddd', 'ddd'] \n"
     ]
    },
    {
     "ename": "KeyboardInterrupt",
     "evalue": "Interrupted by user",
     "output_type": "error",
     "traceback": [
      "\u001b[1;31m---------------------------------------------------------------------------\u001b[0m",
      "\u001b[1;31mKeyboardInterrupt\u001b[0m                         Traceback (most recent call last)",
      "\u001b[1;32m~\\AppData\\Local\\Temp\\ipykernel_7184\\169898930.py\u001b[0m in \u001b[0;36m<module>\u001b[1;34m\u001b[0m\n\u001b[0;32m      1\u001b[0m \u001b[1;31m# 실행\u001b[0m\u001b[1;33m\u001b[0m\u001b[1;33m\u001b[0m\u001b[0m\n\u001b[0;32m      2\u001b[0m \u001b[1;32mwhile\u001b[0m \u001b[1;32mTrue\u001b[0m\u001b[1;33m:\u001b[0m\u001b[1;33m\u001b[0m\u001b[1;33m\u001b[0m\u001b[0m\n\u001b[1;32m----> 3\u001b[1;33m     \u001b[0mname\u001b[0m \u001b[1;33m=\u001b[0m \u001b[0minput\u001b[0m\u001b[1;33m(\u001b[0m\u001b[1;34m'이름--> '\u001b[0m\u001b[1;33m)\u001b[0m\u001b[1;33m\u001b[0m\u001b[1;33m\u001b[0m\u001b[0m\n\u001b[0m\u001b[0;32m      4\u001b[0m     \u001b[1;32mif\u001b[0m \u001b[0mname\u001b[0m \u001b[1;33m==\u001b[0m \u001b[1;34m''\u001b[0m\u001b[1;33m:\u001b[0m\u001b[1;33m\u001b[0m\u001b[1;33m\u001b[0m\u001b[0m\n\u001b[0;32m      5\u001b[0m         \u001b[0mprint\u001b[0m\u001b[1;33m(\u001b[0m\u001b[1;34m'종료'\u001b[0m\u001b[1;33m)\u001b[0m\u001b[1;33m\u001b[0m\u001b[1;33m\u001b[0m\u001b[0m\n",
      "\u001b[1;32mC:\\ProgramData\\Anaconda3\\lib\\site-packages\\ipykernel\\kernelbase.py\u001b[0m in \u001b[0;36mraw_input\u001b[1;34m(self, prompt)\u001b[0m\n\u001b[0;32m   1175\u001b[0m                 \u001b[1;34m\"raw_input was called, but this frontend does not support input requests.\"\u001b[0m\u001b[1;33m\u001b[0m\u001b[1;33m\u001b[0m\u001b[0m\n\u001b[0;32m   1176\u001b[0m             )\n\u001b[1;32m-> 1177\u001b[1;33m         return self._input_request(\n\u001b[0m\u001b[0;32m   1178\u001b[0m             \u001b[0mstr\u001b[0m\u001b[1;33m(\u001b[0m\u001b[0mprompt\u001b[0m\u001b[1;33m)\u001b[0m\u001b[1;33m,\u001b[0m\u001b[1;33m\u001b[0m\u001b[1;33m\u001b[0m\u001b[0m\n\u001b[0;32m   1179\u001b[0m             \u001b[0mself\u001b[0m\u001b[1;33m.\u001b[0m\u001b[0m_parent_ident\u001b[0m\u001b[1;33m[\u001b[0m\u001b[1;34m\"shell\"\u001b[0m\u001b[1;33m]\u001b[0m\u001b[1;33m,\u001b[0m\u001b[1;33m\u001b[0m\u001b[1;33m\u001b[0m\u001b[0m\n",
      "\u001b[1;32mC:\\ProgramData\\Anaconda3\\lib\\site-packages\\ipykernel\\kernelbase.py\u001b[0m in \u001b[0;36m_input_request\u001b[1;34m(self, prompt, ident, parent, password)\u001b[0m\n\u001b[0;32m   1217\u001b[0m             \u001b[1;32mexcept\u001b[0m \u001b[0mKeyboardInterrupt\u001b[0m\u001b[1;33m:\u001b[0m\u001b[1;33m\u001b[0m\u001b[1;33m\u001b[0m\u001b[0m\n\u001b[0;32m   1218\u001b[0m                 \u001b[1;31m# re-raise KeyboardInterrupt, to truncate traceback\u001b[0m\u001b[1;33m\u001b[0m\u001b[1;33m\u001b[0m\u001b[0m\n\u001b[1;32m-> 1219\u001b[1;33m                 \u001b[1;32mraise\u001b[0m \u001b[0mKeyboardInterrupt\u001b[0m\u001b[1;33m(\u001b[0m\u001b[1;34m\"Interrupted by user\"\u001b[0m\u001b[1;33m)\u001b[0m \u001b[1;32mfrom\u001b[0m \u001b[1;32mNone\u001b[0m\u001b[1;33m\u001b[0m\u001b[1;33m\u001b[0m\u001b[0m\n\u001b[0m\u001b[0;32m   1220\u001b[0m             \u001b[1;32mexcept\u001b[0m \u001b[0mException\u001b[0m\u001b[1;33m:\u001b[0m\u001b[1;33m\u001b[0m\u001b[1;33m\u001b[0m\u001b[0m\n\u001b[0;32m   1221\u001b[0m                 \u001b[0mself\u001b[0m\u001b[1;33m.\u001b[0m\u001b[0mlog\u001b[0m\u001b[1;33m.\u001b[0m\u001b[0mwarning\u001b[0m\u001b[1;33m(\u001b[0m\u001b[1;34m\"Invalid Message:\"\u001b[0m\u001b[1;33m,\u001b[0m \u001b[0mexc_info\u001b[0m\u001b[1;33m=\u001b[0m\u001b[1;32mTrue\u001b[0m\u001b[1;33m)\u001b[0m\u001b[1;33m\u001b[0m\u001b[1;33m\u001b[0m\u001b[0m\n",
      "\u001b[1;31mKeyboardInterrupt\u001b[0m: Interrupted by user"
     ]
    }
   ],
   "source": [
    "# 실행\n",
    "while True:\n",
    "    name = input('이름--> ')\n",
    "    if name == '':\n",
    "        print('종료')\n",
    "        break\n",
    "    else:\n",
    "        addr = input('이메일--> ')\n",
    "        user = user.insert_data([name, addr])\n",
    "        user.print_node()"
   ]
  },
  {
   "cell_type": "code",
   "execution_count": 37,
   "id": "98b8ded5",
   "metadata": {},
   "outputs": [
    {
     "name": "stdout",
     "output_type": "stream",
     "text": [
      "bbbc bbbbbbbbbb False\n"
     ]
    }
   ],
   "source": [
    "a=user.link.data[1]\n",
    "b=user.link.link.data[1]\n",
    "\n",
    "a = 'bbbc'\n",
    "b = 'bbbbbbbbbb'\n",
    "print(a, b, a < b)"
   ]
  },
  {
   "cell_type": "code",
   "execution_count": null,
   "id": "55276293",
   "metadata": {},
   "outputs": [],
   "source": []
  }
 ],
 "metadata": {
  "kernelspec": {
   "display_name": "Python 3 (ipykernel)",
   "language": "python",
   "name": "python3"
  },
  "language_info": {
   "codemirror_mode": {
    "name": "ipython",
    "version": 3
   },
   "file_extension": ".py",
   "mimetype": "text/x-python",
   "name": "python",
   "nbconvert_exporter": "python",
   "pygments_lexer": "ipython3",
   "version": "3.9.13"
  }
 },
 "nbformat": 4,
 "nbformat_minor": 5
}
