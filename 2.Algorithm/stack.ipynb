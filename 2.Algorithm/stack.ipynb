{
 "cells": [
  {
   "cell_type": "code",
   "execution_count": 33,
   "id": "6f1186a7",
   "metadata": {},
   "outputs": [],
   "source": [
    "# stack size 입력 받음\n",
    "# stack size 만큼 빈 리스트 생성\n",
    "# 1. push() -> 스택에 넣을 자료 입력하는 함수 생성\n",
    "# 2. pop()  -> 스택에 가장 나중에 넣은 자료 꺼냄, 꺼낸 위치의 자료에는 None 입력\n",
    "# 3. stack_list() -> 스택 자료 출력\n",
    "# 스택에 가장 마지막 위치는 top으로 설정 -> 초기값은 top = -1"
   ]
  },
  {
   "cell_type": "code",
   "execution_count": 34,
   "id": "480e4139",
   "metadata": {},
   "outputs": [],
   "source": [
    "def stack_is_empty():\n",
    "    return TOP < 0\n",
    "\n",
    "def stack_is_full():\n",
    "    return TOP >= SIZE - 1"
   ]
  },
  {
   "cell_type": "code",
   "execution_count": 35,
   "id": "c92a5a2b",
   "metadata": {},
   "outputs": [],
   "source": [
    "def menu_prt():\n",
    "    print('=' * 32)\n",
    "    print('1. 스택 자료 입력')\n",
    "    print('2. 스택 마지막 자료 추출')\n",
    "    print('3. 스택 마지막 자료 조회')\n",
    "    print('4. 스택 전체 자료 조회')\n",
    "    print('9. 프로그램 종료')\n",
    "    print('=' * 32)\n",
    "    menu = input('선택 > ')\n",
    "    return menu"
   ]
  },
  {
   "cell_type": "code",
   "execution_count": 42,
   "id": "750669b9",
   "metadata": {},
   "outputs": [],
   "source": [
    "def push():\n",
    "    global TOP\n",
    "    if stack_is_full():\n",
    "        print('!!!!스택에 넣을 위치 없음')\n",
    "        return\n",
    "    TOP += 1\n",
    "    STACK[TOP] = input('넣을 자료 입력> ')\n",
    "    return"
   ]
  },
  {
   "cell_type": "code",
   "execution_count": 43,
   "id": "75b26bb4",
   "metadata": {},
   "outputs": [],
   "source": [
    "def pop():\n",
    "    global TOP\n",
    "    if stack_is_empty():\n",
    "        print('!!!!스택에 남은 자료 없음')\n",
    "        return\n",
    "    data = STACK[TOP]\n",
    "    STACK[TOP] = None\n",
    "    TOP -= 1\n",
    "    print(f'스택의 pop 자료 : {data}')\n",
    "    return data\n",
    "\n",
    "def peek():\n",
    "    global TOP\n",
    "    if stack_is_empty():\n",
    "        print('!!!!스택에 남은 자료 없음')\n",
    "        return\n",
    "    data = STACK[TOP]\n",
    "    print(f'스택의 peek 자료 : {data}')\n",
    "    return data"
   ]
  },
  {
   "cell_type": "code",
   "execution_count": 44,
   "id": "8ad69511",
   "metadata": {},
   "outputs": [],
   "source": [
    "def stack_list():\n",
    "    if stack_is_empty():\n",
    "        print('!!!!스택에 남은 자료 없음')\n",
    "        return\n",
    "    for i in range(TOP + 1):\n",
    "        print(f'스택의 {i}의 자료 -> {STACK[i]}')\n",
    "    print()\n",
    "    return"
   ]
  },
  {
   "cell_type": "code",
   "execution_count": 39,
   "id": "b1ef1460",
   "metadata": {},
   "outputs": [],
   "source": [
    "def create_stack():\n",
    "    global STACK\n",
    "    STACK = []\n",
    "    for _ in range(SIZE):\n",
    "        STACK.append(None)\n",
    "#     STACK = [None for _ in range(SIZE)]"
   ]
  },
  {
   "cell_type": "code",
   "execution_count": 40,
   "id": "2592b0bf",
   "metadata": {},
   "outputs": [
    {
     "name": "stdout",
     "output_type": "stream",
     "text": [
      "스택 사이즈 입력 (정수)> 5\n",
      "[None, None, None, None, None]\n"
     ]
    }
   ],
   "source": [
    "STACK = []\n",
    "TOP = -1\n",
    "SIZE = int(input('스택 사이즈 입력 (정수)> '))\n",
    "# STACK = [None for i in range(size)]\n",
    "create_stack()\n",
    "print(STACK)"
   ]
  },
  {
   "cell_type": "code",
   "execution_count": 45,
   "id": "4e04da7e",
   "metadata": {
    "scrolled": true
   },
   "outputs": [
    {
     "name": "stdout",
     "output_type": "stream",
     "text": [
      "================================\n",
      "1. 스택 자료 입력\n",
      "2. 스택 마지막 자료 추출\n",
      "3. 스택 마지막 자료 조회\n",
      "4. 스택 전체 자료 조회\n",
      "9. 프로그램 종료\n",
      "================================\n",
      "선택 > 4\n",
      "스택의 0의 자료 -> 333\n",
      "스택의 1의 자료 -> 444\n",
      "스택의 2의 자료 -> 5555\n",
      "스택의 3의 자료 -> 5555555\n",
      "스택의 4의 자료 -> 44444\n",
      "\n",
      "\n",
      "================================\n",
      "1. 스택 자료 입력\n",
      "2. 스택 마지막 자료 추출\n",
      "3. 스택 마지막 자료 조회\n",
      "4. 스택 전체 자료 조회\n",
      "9. 프로그램 종료\n",
      "================================\n",
      "선택 > 2\n",
      "스택의 pop 자료 : 44444\n",
      "\n",
      "================================\n",
      "1. 스택 자료 입력\n",
      "2. 스택 마지막 자료 추출\n",
      "3. 스택 마지막 자료 조회\n",
      "4. 스택 전체 자료 조회\n",
      "9. 프로그램 종료\n",
      "================================\n",
      "선택 > 2\n",
      "스택의 pop 자료 : 5555555\n",
      "\n",
      "================================\n",
      "1. 스택 자료 입력\n",
      "2. 스택 마지막 자료 추출\n",
      "3. 스택 마지막 자료 조회\n",
      "4. 스택 전체 자료 조회\n",
      "9. 프로그램 종료\n",
      "================================\n",
      "선택 > 2\n",
      "스택의 pop 자료 : 5555\n",
      "\n",
      "================================\n",
      "1. 스택 자료 입력\n",
      "2. 스택 마지막 자료 추출\n",
      "3. 스택 마지막 자료 조회\n",
      "4. 스택 전체 자료 조회\n",
      "9. 프로그램 종료\n",
      "================================\n",
      "선택 > 2\n",
      "스택의 pop 자료 : 444\n",
      "\n",
      "================================\n",
      "1. 스택 자료 입력\n",
      "2. 스택 마지막 자료 추출\n",
      "3. 스택 마지막 자료 조회\n",
      "4. 스택 전체 자료 조회\n",
      "9. 프로그램 종료\n",
      "================================\n",
      "선택 > 2\n",
      "스택의 pop 자료 : 333\n",
      "\n",
      "================================\n",
      "1. 스택 자료 입력\n",
      "2. 스택 마지막 자료 추출\n",
      "3. 스택 마지막 자료 조회\n",
      "4. 스택 전체 자료 조회\n",
      "9. 프로그램 종료\n",
      "================================\n",
      "선택 > 2\n",
      "!!!!스택에 남은 자료 없음\n",
      "\n",
      "================================\n",
      "1. 스택 자료 입력\n",
      "2. 스택 마지막 자료 추출\n",
      "3. 스택 마지막 자료 조회\n",
      "4. 스택 전체 자료 조회\n",
      "9. 프로그램 종료\n",
      "================================\n",
      "선택 > 2\n",
      "!!!!스택에 남은 자료 없음\n",
      "\n",
      "================================\n",
      "1. 스택 자료 입력\n",
      "2. 스택 마지막 자료 추출\n",
      "3. 스택 마지막 자료 조회\n",
      "4. 스택 전체 자료 조회\n",
      "9. 프로그램 종료\n",
      "================================\n",
      "선택 > 2\n",
      "!!!!스택에 남은 자료 없음\n",
      "\n",
      "================================\n",
      "1. 스택 자료 입력\n",
      "2. 스택 마지막 자료 추출\n",
      "3. 스택 마지막 자료 조회\n",
      "4. 스택 전체 자료 조회\n",
      "9. 프로그램 종료\n",
      "================================\n",
      "선택 > 2\n",
      "!!!!스택에 남은 자료 없음\n",
      "\n",
      "================================\n",
      "1. 스택 자료 입력\n",
      "2. 스택 마지막 자료 추출\n",
      "3. 스택 마지막 자료 조회\n",
      "4. 스택 전체 자료 조회\n",
      "9. 프로그램 종료\n",
      "================================\n",
      "선택 > 2\n",
      "!!!!스택에 남은 자료 없음\n",
      "\n",
      "================================\n",
      "1. 스택 자료 입력\n",
      "2. 스택 마지막 자료 추출\n",
      "3. 스택 마지막 자료 조회\n",
      "4. 스택 전체 자료 조회\n",
      "9. 프로그램 종료\n",
      "================================\n",
      "선택 > 2\n",
      "!!!!스택에 남은 자료 없음\n",
      "\n",
      "================================\n",
      "1. 스택 자료 입력\n",
      "2. 스택 마지막 자료 추출\n",
      "3. 스택 마지막 자료 조회\n",
      "4. 스택 전체 자료 조회\n",
      "9. 프로그램 종료\n",
      "================================\n",
      "선택 > 2\n",
      "!!!!스택에 남은 자료 없음\n",
      "\n",
      "================================\n",
      "1. 스택 자료 입력\n",
      "2. 스택 마지막 자료 추출\n",
      "3. 스택 마지막 자료 조회\n",
      "4. 스택 전체 자료 조회\n",
      "9. 프로그램 종료\n",
      "================================\n",
      "선택 > 9\n"
     ]
    }
   ],
   "source": [
    "while True:\n",
    "    menu = menu_prt()\n",
    "    \n",
    "    if menu == '1':\n",
    "        push()\n",
    "    elif menu == '2':\n",
    "        pop()\n",
    "    elif menu == '3':\n",
    "        peek()\n",
    "    elif menu == '4':\n",
    "        stack_list()\n",
    "    elif menu == '9':\n",
    "        break\n",
    "    print()"
   ]
  },
  {
   "cell_type": "code",
   "execution_count": 46,
   "id": "7c8973b9",
   "metadata": {},
   "outputs": [],
   "source": [
    "# stack 연습 문제\n",
    "content = '''\n",
    "진달래꽃\n",
    "나 보기가 역겨워\n",
    "가실 때에는\n",
    "말없이 고이 보내드리오리다.\n",
    "'''\n"
   ]
  },
  {
   "cell_type": "code",
   "execution_count": 55,
   "id": "5a7d1754",
   "metadata": {},
   "outputs": [
    {
     "name": "stdout",
     "output_type": "stream",
     "text": [
      "[None, None, None, None, None, None, None, None, None, None, None, None, None, None, None, None, None, None, None, None, None, None, None, None, None, None, None, None, None, None, None, None, None, None, None, None, None, None, None]\n"
     ]
    }
   ],
   "source": [
    "def create_stack():\n",
    "    global STACK\n",
    "    STACK = []\n",
    "    for _ in range(SIZE):\n",
    "        STACK.append(None)\n",
    "#     STACK = [None for _ in range(SIZE)]\n",
    "\n",
    "STACK = []\n",
    "TOP = -1\n",
    "SIZE = len(content)\n",
    "# STACK = [None for i in range(size)]\n",
    "create_stack()\n",
    "print(STACK)"
   ]
  },
  {
   "cell_type": "code",
   "execution_count": 69,
   "id": "22c56af7",
   "metadata": {},
   "outputs": [],
   "source": [
    "# 1. STACK에 데이터 입력\n",
    "def push(data):\n",
    "    global TOP\n",
    "    if stack_is_full():\n",
    "        print('!!!!스택에 넣을 위치 없음')\n",
    "        return\n",
    "    TOP += 1\n",
    "    STACK[TOP] = data\n",
    "    return\n",
    "\n",
    "for i in range(len(content)):\n",
    "    push(content[i])"
   ]
  },
  {
   "cell_type": "code",
   "execution_count": 70,
   "id": "8e1914c3",
   "metadata": {},
   "outputs": [
    {
     "name": "stdout",
     "output_type": "stream",
     "text": [
      "\n",
      ".다리오리드내보 이고 이없말\n",
      "는에때 실가\n",
      "워겨역 가기보 나\n",
      "꽃래달진\n"
     ]
    }
   ],
   "source": [
    "# 2. 데이터 역순 출력\n",
    "def pop():\n",
    "    global TOP\n",
    "    if stack_is_empty():\n",
    "        print('!!!!스택에 남은 자료 없음')\n",
    "        return None\n",
    "    data = STACK[TOP]\n",
    "    STACK[TOP] = None\n",
    "    TOP -= 1\n",
    "    return data\n",
    "\n",
    "while TOP > -1:\n",
    "    print(f'{pop()}', end='')"
   ]
  },
  {
   "cell_type": "code",
   "execution_count": null,
   "id": "cd3d9687",
   "metadata": {},
   "outputs": [],
   "source": []
  }
 ],
 "metadata": {
  "kernelspec": {
   "display_name": "Python 3 (ipykernel)",
   "language": "python",
   "name": "python3"
  },
  "language_info": {
   "codemirror_mode": {
    "name": "ipython",
    "version": 3
   },
   "file_extension": ".py",
   "mimetype": "text/x-python",
   "name": "python",
   "nbconvert_exporter": "python",
   "pygments_lexer": "ipython3",
   "version": "3.9.13"
  }
 },
 "nbformat": 4,
 "nbformat_minor": 5
}
