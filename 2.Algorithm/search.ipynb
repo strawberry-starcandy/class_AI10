{
 "cells": [
  {
   "cell_type": "code",
   "execution_count": 2,
   "id": "f50cac42",
   "metadata": {},
   "outputs": [],
   "source": [
    "# 순차 처리 (처음부터 끝까지 검색 )\n",
    "def seqSearch(arr, data):\n",
    "    pos = -1\n",
    "    size = len(arr)\n",
    "    for i in range(size):\n",
    "        if arr[i] == data:\n",
    "            pos = i\n",
    "            break\n",
    "    return pos"
   ]
  },
  {
   "cell_type": "code",
   "execution_count": 3,
   "id": "bf95c046",
   "metadata": {},
   "outputs": [
    {
     "name": "stdout",
     "output_type": "stream",
     "text": [
      "검색할 자료는 ->  10\n",
      "검색한 위치는 ->  0\n"
     ]
    }
   ],
   "source": [
    "arr = [10, 20, 11, 5, 6, 20]\n",
    "data = 10\n",
    "print('검색할 자료는 -> ', data)\n",
    "pos = seqSearch(arr, 10)\n",
    "if pos == -1:\n",
    "    print('해당 자료 없음')\n",
    "else:\n",
    "    print('검색한 위치는 -> ', pos)"
   ]
  },
  {
   "cell_type": "code",
   "execution_count": 12,
   "id": "16eff08a",
   "metadata": {},
   "outputs": [],
   "source": [
    "def seqSearchAll(arr, data):\n",
    "    pos = []\n",
    "    size = len(arr)\n",
    "    for i in range(size):\n",
    "        if arr[i] == data:\n",
    "            pos.append(i)\n",
    "    return pos"
   ]
  },
  {
   "cell_type": "code",
   "execution_count": 13,
   "id": "a35a45d0",
   "metadata": {},
   "outputs": [
    {
     "name": "stdout",
     "output_type": "stream",
     "text": [
      "배열 -->  [188, 50, 150, 168, 50, 162, 105, 120, 177, 50]\n",
      "50 (은)는 [1, 4, 9] 위치에 있음\n"
     ]
    }
   ],
   "source": [
    "dataAry = [188, 50, 150, 168, 50, 162, 105, 120, 177, 50]\n",
    "print('배열 --> ', dataAry)\n",
    "data = 50\n",
    "pos = seqSearchAll(dataAry, data)\n",
    "if pos == []:\n",
    "    print('해당 자료 없음')\n",
    "else:\n",
    "    print(f'{data} (은)는 {pos} 위치에 있음')"
   ]
  },
  {
   "cell_type": "code",
   "execution_count": 36,
   "id": "ecb0bd77",
   "metadata": {},
   "outputs": [],
   "source": [
    "def QuickSort_ex(arr, start, end):\n",
    "    if start >= end:\n",
    "        return\n",
    "    low = start\n",
    "    high = end\n",
    "\n",
    "    pivot = arr[(low + high) // 2]\n",
    "    while low < high:\n",
    "        while arr[low] < pivot:\n",
    "            low += 1\n",
    "        while arr[high] > pivot:\n",
    "            high -= 1\n",
    "        if low <= high:\n",
    "            arr[low], arr[high] = arr[high], arr[low]\n",
    "            low += 1\n",
    "            high -= 1\n",
    "    mid = low\n",
    "    QuickSort_ex(arr, start, mid - 1)\n",
    "    QuickSort_ex(arr, mid, end)"
   ]
  },
  {
   "cell_type": "code",
   "execution_count": 1,
   "id": "3a62e673",
   "metadata": {},
   "outputs": [],
   "source": [
    "# 이진 검색 (정렬이 되어 있을 경우)\n",
    "def binSearch(arr, data):\n",
    "    cnt = 0\n",
    "    start = 0\n",
    "    end = len(arr) - 1\n",
    "    while start <= end:\n",
    "        cnt += 1\n",
    "        mid = (start + end) // 2\n",
    "        if data == arr[mid]:\n",
    "            return mid, cnt\n",
    "        if data > arr[mid]:\n",
    "            start = mid + 1\n",
    "        else:\n",
    "            end = mid - 1\n",
    "    return -1, cnt"
   ]
  },
  {
   "cell_type": "code",
   "execution_count": null,
   "id": "2a2acb35",
   "metadata": {},
   "outputs": [],
   "source": [
    "dataAry = [188, 50, 150, 168, 50, 162, 105, 120, 177, 50]\n",
    "print('배열 --> ', dataAry)\n",
    "QuickSort_ex(dataAry, 0, len(dataAry) - 1)"
   ]
  },
  {
   "cell_type": "code",
   "execution_count": 30,
   "id": "244ea6a6",
   "metadata": {},
   "outputs": [
    {
     "name": "stdout",
     "output_type": "stream",
     "text": [
      "배열 -->  [50, 50, 50, 105, 120, 150, 162, 168, 177, 188]\n",
      "검색한 위치는 ->  6\n"
     ]
    }
   ],
   "source": [
    "fData = 162\n",
    "print('배열 --> ', dataAry)\n",
    "pos = binSearch(dataAry, fData)\n",
    "if pos == -1:\n",
    "    print('해당 자료 없음')\n",
    "else:\n",
    "    print('검색한 위치는 -> ', pos)"
   ]
  },
  {
   "cell_type": "code",
   "execution_count": null,
   "id": "1e923330",
   "metadata": {},
   "outputs": [],
   "source": [
    "import random\n",
    "dataAry = [ random.randrange(1,1000000) for _ in range(1000000) ]\n",
    "\n",
    "QuickSort_ex(dataAry, 0, len(dataAry) - 1)"
   ]
  },
  {
   "cell_type": "code",
   "execution_count": 116,
   "id": "ae4b6851",
   "metadata": {
    "scrolled": true
   },
   "outputs": [
    {
     "name": "stdout",
     "output_type": "stream",
     "text": [
      "True\n",
      "278630 pos -> 279087\n",
      "cnt -> 17\n"
     ]
    }
   ],
   "source": [
    "fData = random.randrange(1,1000000)\n",
    "pos, cnt = binSearch(dataAry, fData)\n",
    "print(fData in dataAry)\n",
    "if pos == -1:\n",
    "    print('해당 자료 없음')\n",
    "else:\n",
    "    print(f'{fData} pos -> {pos}')\n",
    "print(f'cnt -> {cnt}')"
   ]
  },
  {
   "cell_type": "code",
   "execution_count": 120,
   "id": "d68bc2de",
   "metadata": {},
   "outputs": [],
   "source": []
  },
  {
   "cell_type": "code",
   "execution_count": 129,
   "id": "cf45d968",
   "metadata": {},
   "outputs": [
    {
     "name": "stdout",
     "output_type": "stream",
     "text": [
      "[[0, ['어린왕자', '쌩떽쥐베리']], [1, ['이방인', '까뮈']], [2, ['부활', '톨스토이']], [3, ['신곡', '단테']], [4, ['돈키호테', '세브반테스']], [5, ['동물농장', '조지오웰']], [6, ['데미안', '헤르만헤세']], [7, ['파우스트', '괴테']], [8, ['대지', '펄벅']]]\n"
     ]
    }
   ],
   "source": []
  },
  {
   "cell_type": "code",
   "execution_count": 139,
   "id": "110bdc5a",
   "metadata": {},
   "outputs": [],
   "source": [
    "def QuickSort_func(arr, start, end, func=lambda x:x):\n",
    "    if start >= end:\n",
    "        return\n",
    "    low = start\n",
    "    high = end\n",
    "\n",
    "    pivot = arr[(low + high) // 2]\n",
    "    while low < high:\n",
    "        while func(arr[low]) < func(pivot):\n",
    "            low += 1\n",
    "        while func(arr[high]) > func(pivot):\n",
    "            high -= 1\n",
    "        if low <= high:\n",
    "            arr[low], arr[high] = arr[high], arr[low]\n",
    "            low += 1\n",
    "            high -= 1\n",
    "    mid = low\n",
    "    QuickSort_func(arr, start, mid - 1, func)\n",
    "    QuickSort_func(arr, mid, end, func)\n",
    "    \n",
    "def binSearch_func(arr, data, func=lambda x:x):\n",
    "    cnt = 0\n",
    "    start = 0\n",
    "    end = len(arr) - 1\n",
    "    while start <= end:\n",
    "        cnt += 1\n",
    "        mid = (start + end) // 2\n",
    "        if data == func(arr[mid]):\n",
    "            return mid, cnt\n",
    "        if data > func(arr[mid]):\n",
    "            start = mid + 1\n",
    "        else:\n",
    "            end = mid - 1\n",
    "    return -1, cnt"
   ]
  },
  {
   "cell_type": "code",
   "execution_count": 143,
   "id": "376400c2",
   "metadata": {},
   "outputs": [
    {
     "name": "stdout",
     "output_type": "stream",
     "text": [
      "[['어린왕자', '쌩떽쥐베리'], ['이방인', '까뮈'], ['부활', '톨스토이'], ['신곡', '단테'], ['돈키호테', '세브반테스'], ['동물농장', '조지오웰'], ['데미안', '헤르만헤세'], ['파우스트', '괴테'], ['대지', '펄벅']]\n"
     ]
    }
   ],
   "source": [
    "books = [ ['어린왕자', '쌩떽쥐베리'],['이방인', '까뮈'], ['부활', '톨스토이'],\n",
    " ['신곡', '단테'], ['돈키호테', '세브반테스'], ['동물농장', '조지오웰'],\n",
    " ['데미안','헤르만헤세'], ['파우스트', '괴테'], ['대지', '펄벅'] ]\n",
    "print(books)"
   ]
  },
  {
   "cell_type": "code",
   "execution_count": 144,
   "id": "921f7b4a",
   "metadata": {},
   "outputs": [
    {
     "name": "stdout",
     "output_type": "stream",
     "text": [
      "[8, ['대지', '펄벅']]\n",
      "[6, ['데미안', '헤르만헤세']]\n",
      "[4, ['돈키호테', '세브반테스']]\n",
      "[5, ['동물농장', '조지오웰']]\n",
      "[2, ['부활', '톨스토이']]\n",
      "[3, ['신곡', '단테']]\n",
      "[0, ['어린왕자', '쌩떽쥐베리']]\n",
      "[1, ['이방인', '까뮈']]\n",
      "[7, ['파우스트', '괴테']]\n"
     ]
    }
   ],
   "source": [
    "book_index = [[i, books[i]] for i in range(len(books))]\n",
    "QuickSort_func(book_index, 0, len(book_index) - 1, lambda x:x[1][0])\n",
    "for index in book_index:\n",
    "    print(index)"
   ]
  },
  {
   "cell_type": "code",
   "execution_count": 156,
   "id": "131720c5",
   "metadata": {},
   "outputs": [
    {
     "name": "stdout",
     "output_type": "stream",
     "text": [
      "이방인 책의 위치는 1이고, 작가명은 까뮈 입니다 3\n"
     ]
    }
   ],
   "source": [
    "fData = '이방인'\n",
    "idx, cnt = binSearch_func(book_index, fData, lambda x:x[1][0])\n",
    "if idx >= 0:\n",
    "    print(f'{fData} 책의 위치는 {book_index[idx][0]}이고, 작가명은 {books[book_index[idx][0]][1]} 입니다', cnt)\n",
    "else:\n",
    "    print('존재하지 않는 책입니다.', cnt)"
   ]
  },
  {
   "cell_type": "code",
   "execution_count": null,
   "id": "d786bc83",
   "metadata": {},
   "outputs": [],
   "source": []
  }
 ],
 "metadata": {
  "kernelspec": {
   "display_name": "Python 3 (ipykernel)",
   "language": "python",
   "name": "python3"
  },
  "language_info": {
   "codemirror_mode": {
    "name": "ipython",
    "version": 3
   },
   "file_extension": ".py",
   "mimetype": "text/x-python",
   "name": "python",
   "nbconvert_exporter": "python",
   "pygments_lexer": "ipython3",
   "version": "3.9.13"
  }
 },
 "nbformat": 4,
 "nbformat_minor": 5
}
