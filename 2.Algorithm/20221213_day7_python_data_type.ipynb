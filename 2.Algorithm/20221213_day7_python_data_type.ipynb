{
 "cells": [
  {
   "cell_type": "markdown",
   "id": "a64fe04f",
   "metadata": {},
   "source": [
    "# **파이썬의 데이터형**\n",
    "---\n",
    "* ### 파이썬의 자료형"
   ]
  },
  {
   "cell_type": "markdown",
   "id": "ffc27b77",
   "metadata": {},
   "source": [
    "### 파이썬의 연속된 자료형"
   ]
  },
  {
   "cell_type": "code",
   "execution_count": 4,
   "id": "a05bdcc3",
   "metadata": {},
   "outputs": [],
   "source": [
    "\n",
    "\n",
    "# 리스트 list_a[1] -> 1\n",
    "list_a = [1,1,2,3,4,5]\n",
    "\n",
    "# 딕셔너리 dict_a['a'] -> 1\n",
    "dict_a = {'a':1, 'b':2, 'c':3}\n",
    "\n",
    "#셋 set_a -> {1,2,3,4}\n",
    "set_a = {1,1,2,3,4}"
   ]
  },
  {
   "cell_type": "code",
   "execution_count": 5,
   "id": "f2de502c",
   "metadata": {},
   "outputs": [
    {
     "name": "stdout",
     "output_type": "stream",
     "text": [
      "[1, 1, 2, 3, 4, 5]\n",
      "{'a': 1, 'b': 2, 'c': 3}\n",
      "{1, 2, 3, 4}\n"
     ]
    }
   ],
   "source": [
    "print(list_a)\n",
    "print(dict_a)\n",
    "print(set_a)"
   ]
  },
  {
   "cell_type": "markdown",
   "id": "9928a977",
   "metadata": {},
   "source": [
    "### 집합 연산"
   ]
  },
  {
   "cell_type": "code",
   "execution_count": 6,
   "id": "32ec1176",
   "metadata": {},
   "outputs": [],
   "source": [
    "# set 선언\n",
    "a = {1,2,3}\n",
    "b = {2,3,4}\n",
    "c = {1,1,1,2,2,2}    # c = {1,2}"
   ]
  },
  {
   "cell_type": "code",
   "execution_count": 7,
   "id": "622e66e1",
   "metadata": {},
   "outputs": [
    {
     "name": "stdout",
     "output_type": "stream",
     "text": [
      "{1, 2, 3, 4}\n",
      "{2, 3}\n",
      "{1}\n",
      "{1, 4}\n"
     ]
    }
   ],
   "source": [
    "print(a | b)    # a와 b의 합집합 : {1,2,3,4}\n",
    "print(a & b)    # a와 b의 교집합 : {2,3}\n",
    "print(a - b)    # a와 b의 차집합 : {1}\n",
    "print(a ^ b)    # a와 b의 대칭차집합 : {1,4}"
   ]
  },
  {
   "cell_type": "markdown",
   "id": "946c97a9",
   "metadata": {},
   "source": [
    "### set()에 자료 추가\n",
    "- set.add(값)\n",
    "- set.update(값들)"
   ]
  },
  {
   "cell_type": "code",
   "execution_count": 10,
   "id": "7bc0b423",
   "metadata": {},
   "outputs": [
    {
     "name": "stdout",
     "output_type": "stream",
     "text": [
      "{'data', 'test', '123', '학교'}\n",
      "{'data', 'test', '123', '학교'}\n"
     ]
    }
   ],
   "source": [
    "conts = ['test', '123', '학교', 'data']\n",
    "\n",
    "set_a = set()\n",
    "for data in conts:\n",
    "    set_a.add(data)\n",
    "print(set_a)\n",
    "\n",
    "set_b = set()\n",
    "set_b.update(conts)\n",
    "print(set_b)"
   ]
  },
  {
   "cell_type": "markdown",
   "id": "35c632a3",
   "metadata": {},
   "source": [
    "### 세트 내포와 딕셔너리 내포"
   ]
  },
  {
   "cell_type": "code",
   "execution_count": 12,
   "id": "623cf982",
   "metadata": {},
   "outputs": [
    {
     "name": "stdout",
     "output_type": "stream",
     "text": [
      "list ->  [0, 4, 16, 36, 64]\n",
      "dict ->  {'a_0': 0, 'a_2': 4, 'a_4': 16, 'a_6': 36, 'a_8': 64}\n",
      "set ->  {0, 64, 4, 36, 16}\n"
     ]
    }
   ],
   "source": [
    "# 리스트 내포\n",
    "list_a = [item * item for item in range(0, 10) if item % 2 == 0]\n",
    "print('list -> ', list_a)\n",
    "\n",
    "# 딕셔너리 내포\n",
    "dict_a = {f'a_{item}':item * item for item in range(0, 10) if item % 2 == 0}\n",
    "print('dict -> ', dict_a)\n",
    "\n",
    "# 셋 내포\n",
    "set_a = {item * item for item in range(0, 10) if item % 2 == 0}\n",
    "print('set -> ', set_a)"
   ]
  },
  {
   "cell_type": "code",
   "execution_count": null,
   "id": "3b02991e",
   "metadata": {},
   "outputs": [],
   "source": []
  }
 ],
 "metadata": {
  "kernelspec": {
   "display_name": "Python 3 (ipykernel)",
   "language": "python",
   "name": "python3"
  },
  "language_info": {
   "codemirror_mode": {
    "name": "ipython",
    "version": 3
   },
   "file_extension": ".py",
   "mimetype": "text/x-python",
   "name": "python",
   "nbconvert_exporter": "python",
   "pygments_lexer": "ipython3",
   "version": "3.9.13"
  }
 },
 "nbformat": 4,
 "nbformat_minor": 5
}
