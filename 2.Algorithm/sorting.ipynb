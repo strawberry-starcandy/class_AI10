{
 "cells": [
  {
   "cell_type": "code",
   "execution_count": 121,
   "id": "ef1fc252",
   "metadata": {},
   "outputs": [],
   "source": [
    "# 최소값 위치 탐색\n",
    "def findMinIdx(array):\n",
    "    min_idx = 0\n",
    "    for i in range(len(array)):\n",
    "        if array[i] < array[min_idx]:\n",
    "            min_idx = i\n",
    "    return min_idx\n",
    "\n",
    "def findIdx_func(func, array, start=0):\n",
    "    if len(array) == 0:\n",
    "        return 0\n",
    "    find_idx = start\n",
    "    for i in range(start, len(array)):\n",
    "        if func(array[i],  array[find_idx]):\n",
    "            find_idx = i\n",
    "    return find_idx\n",
    "        "
   ]
  },
  {
   "cell_type": "code",
   "execution_count": 122,
   "id": "bc0dd6ef",
   "metadata": {},
   "outputs": [
    {
     "name": "stdout",
     "output_type": "stream",
     "text": [
      "[55, 33, 11, 88, 77]의 최소값의 위치는 2, 값은 11\n",
      "[55, 33, 11, 88, 77]의 최대값의 위치는 3, 값은 88\n"
     ]
    }
   ],
   "source": [
    "list_a = [55, 33, 11, 88, 77]\n",
    "minIdx = findIdx_func(lambda x,y:x < y, list_a)\n",
    "print(f'{list_a}의 최소값의 위치는 {minIdx}, 값은 {list_a[minIdx]}')\n",
    "maxIdx = findIdx_func(lambda x,y:x > y, list_a)\n",
    "print(f'{list_a}의 최대값의 위치는 {maxIdx}, 값은 {list_a[maxIdx]}')"
   ]
  },
  {
   "cell_type": "code",
   "execution_count": 123,
   "id": "a30b2a0f",
   "metadata": {
    "scrolled": true
   },
   "outputs": [
    {
     "name": "stdout",
     "output_type": "stream",
     "text": [
      "Before sort -> [69, 71, 51, 6, 23, 89, 1, 19, 27, 39]\n",
      "\n",
      "     step 0 -> [1, 71, 51, 6, 23, 89, 69, 19, 27, 39]\n",
      "     step 1 -> [1, 6, 51, 71, 23, 89, 69, 19, 27, 39]\n",
      "     step 2 -> [1, 6, 19, 71, 23, 89, 69, 51, 27, 39]\n",
      "     step 3 -> [1, 6, 19, 23, 71, 89, 69, 51, 27, 39]\n",
      "     step 4 -> [1, 6, 19, 23, 27, 89, 69, 51, 71, 39]\n",
      "     step 5 -> [1, 6, 19, 23, 27, 39, 69, 51, 71, 89]\n",
      "     step 6 -> [1, 6, 19, 23, 27, 39, 51, 69, 71, 89]\n",
      "     step 7 -> [1, 6, 19, 23, 27, 39, 51, 69, 71, 89]\n",
      "     step 8 -> [1, 6, 19, 23, 27, 39, 51, 69, 71, 89]\n",
      "\n",
      "After sort  -> [1, 6, 19, 23, 27, 39, 51, 69, 71, 89]\n"
     ]
    }
   ],
   "source": [
    "# 선택 정렬 -> 오름차순으로 정렬\n",
    "def selectionSort(array):\n",
    "    print()\n",
    "    for i in range(len(array) - 1):\n",
    "        idx = findIdx_func(lambda x, y:x < y, array, i)\n",
    "        array[i], array[idx] = array[idx], array[i]\n",
    "        print(f'     step {i} -> {array}')\n",
    "    print()\n",
    "        \n",
    "import random\n",
    "list_a = [random.randrange(1, 101) for _ in range(10)]\n",
    "print(f'Before sort -> {list_a}')\n",
    "selectionSort(list_a)\n",
    "print(f'After sort  -> {list_a}')"
   ]
  },
  {
   "cell_type": "code",
   "execution_count": 265,
   "id": "b62173b5",
   "metadata": {},
   "outputs": [
    {
     "name": "stdout",
     "output_type": "stream",
     "text": [
      "[69, 157, 10, 50, 53, 197, 86, 24, 87, 121]\n",
      "[10, 24, 50, 53, 69, 86, 87, 121, 157, 197]\n",
      "\n",
      "[12, 114, 127, 187, 134, 60, 41, 84, 192, 20]\n",
      "[192, 187, 134, 127, 114, 84, 60, 41, 20, 12]\n"
     ]
    }
   ],
   "source": [
    "# 1부터 200까지 수 중에서 10개를 랜덤으로 발생시킨 후 내림차순 정렬\n",
    "# 새로운 배열에 insertion sort로 구현\n",
    "\n",
    "def find_insert_idx(arr, data):\n",
    "    find_idx = -1\n",
    "    for i in range(len(arr)):\n",
    "        if arr[i] > data:\n",
    "            find_idx = i\n",
    "            break\n",
    "    if find_idx == -1:\n",
    "        return len(arr)\n",
    "    else:\n",
    "        return find_idx\n",
    "\n",
    "list_arr = [ random.randint(1, 200) for _ in range(10)]\n",
    "print(list_arr)\n",
    "sort_arr = []\n",
    "for i in range(len(list_arr)):\n",
    "    sort_arr.insert(find_insert_idx(sort_arr, list_arr[i]), list_arr[i])\n",
    "print(sort_arr)\n",
    "print()\n",
    "\n",
    "\n",
    "\n",
    "\n",
    "\n",
    "\n",
    "\n",
    "def insert_sort(func, array):\n",
    "    sort_arr = []\n",
    "    for i in range(len(array)):\n",
    "        idx = findIdx_func(func, array)\n",
    "        sort_arr.append(array.pop(idx))\n",
    "    array.extend(sort_arr)\n",
    "\n",
    "\n",
    "list_arr = [ random.randint(1, 200) for _ in range(10)]\n",
    "\n",
    "print(list_arr)\n",
    "\n",
    "# for i in range(len(list_arr)):\n",
    "#     idx = findIdx_func(lambda x, y: x > y, list_arr)\n",
    "#     sort_arr.append(list_arr.pop(idx))\n",
    "# print(sort_arr)\n",
    "insert_sort(lambda x, y: x > y, list_arr)\n",
    "print(list_arr)"
   ]
  },
  {
   "cell_type": "code",
   "execution_count": 296,
   "id": "4b600def",
   "metadata": {},
   "outputs": [],
   "source": [
    "# 배열을 하나로 유지하면서 insertion_sort 구현:\n",
    "# 현재 위치와 다음 위치의 자료를 비교하여 위치 이동 ...\n",
    "def insertion_sort(arr):\n",
    "    for i in range(1, len(arr)):\n",
    "        for j in range(i, 0, -1):\n",
    "            if arr[j - 1] > arr[j]:\n",
    "                arr[j - 1], arr[i] = arr[i], arr[j - 1]\n",
    "        print('    ', arr)\n",
    "    return arr"
   ]
  },
  {
   "cell_type": "code",
   "execution_count": 297,
   "id": "4e685c7e",
   "metadata": {},
   "outputs": [
    {
     "name": "stdout",
     "output_type": "stream",
     "text": [
      "[142, 81, 98, 154, 23, 183, 109, 126, 32, 83]\n",
      "     [81, 142, 98, 154, 23, 183, 109, 126, 32, 83]\n",
      "     [81, 98, 142, 154, 23, 183, 109, 126, 32, 83]\n",
      "     [81, 98, 142, 154, 23, 183, 109, 126, 32, 83]\n",
      "     [81, 98, 154, 23, 142, 183, 109, 126, 32, 83]\n",
      "     [81, 98, 183, 23, 142, 154, 109, 126, 32, 83]\n",
      "     [81, 98, 142, 23, 154, 109, 183, 126, 32, 83]\n",
      "     [81, 98, 154, 23, 183, 109, 126, 142, 32, 83]\n",
      "     [81, 98, 183, 23, 126, 109, 142, 32, 154, 83]\n",
      "     [81, 98, 126, 23, 142, 109, 154, 32, 83, 183]\n",
      "[81, 98, 126, 23, 142, 109, 154, 32, 83, 183]\n"
     ]
    }
   ],
   "source": [
    "\n",
    "list_arr = [ random.randint(1, 200) for _ in range(10)]\n",
    "print(list_arr)\n",
    "\n",
    "list_arr = insertion_sort(list_arr)\n",
    "print(list_arr)\n",
    "# 안된다 ㅡㅡ"
   ]
  },
  {
   "cell_type": "code",
   "execution_count": 377,
   "id": "594287ff",
   "metadata": {},
   "outputs": [],
   "source": [
    "# bubble sort\n",
    "def bubble(func, array):\n",
    "    #print()\n",
    "    for i in range(len(array) - 1):\n",
    "        for j in range(len(array) - i - 1):\n",
    "            if func(array[j], array[j + 1]):\n",
    "                array[j], array[j + 1] = array[j + 1], array[j]\n",
    "            #print(f'     step {i} - {j} -> {array}')\n",
    "        #print(f'     step {i}     -> {array}')\n",
    "    #print()"
   ]
  },
  {
   "cell_type": "code",
   "execution_count": 257,
   "id": "f78e8b15",
   "metadata": {
    "scrolled": false
   },
   "outputs": [
    {
     "name": "stdout",
     "output_type": "stream",
     "text": [
      "Before sort     -> [73, 50, 34, 97, 47, 61, 45, 74, 7, 51]\n",
      "\n",
      "     step 0     -> [50, 34, 73, 47, 61, 45, 74, 7, 51, 97]\n",
      "     step 1     -> [34, 50, 47, 61, 45, 73, 7, 51, 74, 97]\n",
      "     step 2     -> [34, 47, 50, 45, 61, 7, 51, 73, 74, 97]\n",
      "     step 3     -> [34, 47, 45, 50, 7, 51, 61, 73, 74, 97]\n",
      "     step 4     -> [34, 45, 47, 7, 50, 51, 61, 73, 74, 97]\n",
      "     step 5     -> [34, 45, 7, 47, 50, 51, 61, 73, 74, 97]\n",
      "     step 6     -> [34, 7, 45, 47, 50, 51, 61, 73, 74, 97]\n",
      "     step 7     -> [7, 34, 45, 47, 50, 51, 61, 73, 74, 97]\n",
      "     step 8     -> [7, 34, 45, 47, 50, 51, 61, 73, 74, 97]\n",
      "\n",
      "After sort      -> [7, 34, 45, 47, 50, 51, 61, 73, 74, 97]\n"
     ]
    }
   ],
   "source": [
    "list_a = [random.randrange(1, 101) for _ in range(10)]\n",
    "print(f'Before sort     -> {list_a}')\n",
    "bubble(lambda x, y: x > y, list_a)\n",
    "print(f'After sort      -> {list_a}')"
   ]
  },
  {
   "cell_type": "code",
   "execution_count": 359,
   "id": "f86300b8",
   "metadata": {
    "scrolled": false
   },
   "outputs": [
    {
     "name": "stdout",
     "output_type": "stream",
     "text": [
      "Before sort     -> ['20221213_day1.ipynb', '20221213_day7_python_data_type.ipynb', 'binary tree.ipynb', 'circle_linked_list.ipynb', 'double_linked_list.ipynb', 'ex_tree.ipynb', 'linked_list.ipynb', 'linked_list_강사님.ipynb', 'linked_list_서인영.ipynb', 'queue.ipynb', 'sorting.ipynb', 'stack.ipynb', 'user.ipynb', 'user_.ipynb', '선형 리스트.ipynb', '20221213_day1-checkpoint.ipynb', '20221213_day7_python_data_type-checkpoint.ipynb', 'binary tree-checkpoint.ipynb', 'double_linked_list-checkpoint.ipynb', 'ex_tree-checkpoint.ipynb', 'linked_list-checkpoint.ipynb', 'queue-checkpoint.ipynb', 'sorting-checkpoint.ipynb', 'stack-checkpoint.ipynb', 'user-checkpoint.ipynb', 'user_-checkpoint.ipynb', '선형 리스트-checkpoint.ipynb']\n",
      "\n",
      "\n",
      "After sort      -> ['선형 리스트.ipynb', '선형 리스트-checkpoint.ipynb', 'user_.ipynb', 'user_-checkpoint.ipynb', 'user.ipynb', 'user-checkpoint.ipynb', 'stack.ipynb', 'stack-checkpoint.ipynb', 'sorting.ipynb', 'sorting-checkpoint.ipynb', 'queue.ipynb', 'queue-checkpoint.ipynb', 'linked_list_서인영.ipynb', 'linked_list_강사님.ipynb', 'linked_list.ipynb', 'linked_list-checkpoint.ipynb', 'ex_tree.ipynb', 'ex_tree-checkpoint.ipynb', 'double_linked_list.ipynb', 'double_linked_list-checkpoint.ipynb', 'circle_linked_list.ipynb', 'binary tree.ipynb', 'binary tree-checkpoint.ipynb', '20221213_day7_python_data_type.ipynb', '20221213_day7_python_data_type-checkpoint.ipynb', '20221213_day1.ipynb', '20221213_day1-checkpoint.ipynb']\n"
     ]
    }
   ],
   "source": [
    "# 디렉토리의 파일명을 정렬해서 출력\n",
    "import os\n",
    "#os.listdir()\n",
    "#os.walk(파일Path)  # dirPath, subdir명, file명 반환\n",
    "\n",
    "path = 'c:/windows/system32'\n",
    "list_walk = list(os.walk('./'))\n",
    "\n",
    "newList = []\n",
    "for item in list_walk:\n",
    "    newList.extend(item[2])\n",
    "\n",
    "print(f'Before sort     -> {newList}')\n",
    "bubble(lambda x, y: x < y, newList)\n",
    "print(f'After sort      -> {newList}')"
   ]
  },
  {
   "cell_type": "code",
   "execution_count": null,
   "id": "4bda21c6",
   "metadata": {},
   "outputs": [],
   "source": []
  },
  {
   "cell_type": "code",
   "execution_count": null,
   "id": "c48f8819",
   "metadata": {},
   "outputs": [],
   "source": []
  },
  {
   "cell_type": "code",
   "execution_count": 372,
   "id": "8695a34d",
   "metadata": {},
   "outputs": [],
   "source": [
    "scoreAry = [['선미', 88], ['초아', 99], ['화사', 71], ['영탁', 78], ['영웅', 67], ['민호', 92]]"
   ]
  },
  {
   "cell_type": "code",
   "execution_count": 379,
   "id": "b63bab82",
   "metadata": {},
   "outputs": [
    {
     "name": "stdout",
     "output_type": "stream",
     "text": [
      "1조 : ['초아', 99], ['영웅', 67]\n",
      "2조 : ['민호', 92], ['화사', 71]\n",
      "3조 : ['선미', 88], ['영탁', 78]\n"
     ]
    }
   ],
   "source": [
    "# 성적순으로 정렬 후 2인 1조를 생성 -> 결과 출력, 가장 작은 값과 가장 큰 성적 1조\n",
    "# 조 편성 후 조별 이름 출력\n",
    "incArr = scoreAry.copy()\n",
    "decArr = scoreAry.copy()\n",
    "bubble(lambda x,y:x[1]>y[1], incArr)\n",
    "bubble(lambda x,y:x[1]<y[1], decArr)\n",
    "\n",
    "pairs =[]\n",
    "\n",
    "for i in range(len(decArr) // 2 ):\n",
    "    pairs.append([i+1, decArr[i], incArr[i]])\n",
    "\n",
    "for pair in pairs:\n",
    "    print(f'{pair[0]}조 : {pair[1]}, {pair[2]}')"
   ]
  },
  {
   "cell_type": "code",
   "execution_count": 362,
   "id": "947faea6",
   "metadata": {},
   "outputs": [],
   "source": [
    "array = [[55, 33, 250, 44],\n",
    "         [88,  1,  67, 23],\n",
    "         [199,222, 38, 47],\n",
    "         [155,145, 20, 99]]"
   ]
  },
  {
   "cell_type": "code",
   "execution_count": null,
   "id": "347f2e00",
   "metadata": {},
   "outputs": [],
   "source": [
    "# 이차원 배열의 중앙값을 추출\n",
    "# 이차원을 1차원으로 변경 후 중앙값 추출"
   ]
  },
  {
   "cell_type": "code",
   "execution_count": 390,
   "id": "86c20d8a",
   "metadata": {},
   "outputs": [
    {
     "name": "stdout",
     "output_type": "stream",
     "text": [
      "[55, 33, 250, 44, 88, 1, 67, 23, 199, 222, 38, 47, 155, 145, 20, 99]\n",
      "[1, 20, 23, 33, 38, 44, 47, 55, 67, 88, 99, 145, 155, 199, 222, 250]\n",
      "중앙값: 67\n"
     ]
    }
   ],
   "source": [
    "new_arr = []\n",
    "for item in array:\n",
    "    new_arr.extend(item)\n",
    "print(new_arr)\n",
    "bubble(lambda x,y:x>y,new_arr)\n",
    "print(new_arr)\n",
    "print(f'중앙값: {new_arr[len(new_arr)//2]}')"
   ]
  },
  {
   "cell_type": "code",
   "execution_count": null,
   "id": "52de81fb",
   "metadata": {},
   "outputs": [],
   "source": []
  },
  {
   "cell_type": "code",
   "execution_count": null,
   "id": "ed483566",
   "metadata": {},
   "outputs": [],
   "source": []
  },
  {
   "cell_type": "code",
   "execution_count": null,
   "id": "bd25cb3a",
   "metadata": {},
   "outputs": [],
   "source": []
  },
  {
   "cell_type": "code",
   "execution_count": null,
   "id": "a278cfa0",
   "metadata": {},
   "outputs": [],
   "source": []
  },
  {
   "cell_type": "code",
   "execution_count": null,
   "id": "6a31eba6",
   "metadata": {},
   "outputs": [],
   "source": []
  }
 ],
 "metadata": {
  "kernelspec": {
   "display_name": "Python 3 (ipykernel)",
   "language": "python",
   "name": "python3"
  },
  "language_info": {
   "codemirror_mode": {
    "name": "ipython",
    "version": 3
   },
   "file_extension": ".py",
   "mimetype": "text/x-python",
   "name": "python",
   "nbconvert_exporter": "python",
   "pygments_lexer": "ipython3",
   "version": "3.9.13"
  }
 },
 "nbformat": 4,
 "nbformat_minor": 5
}
