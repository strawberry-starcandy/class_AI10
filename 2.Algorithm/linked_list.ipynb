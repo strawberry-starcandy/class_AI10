{
 "cells": [
  {
   "cell_type": "markdown",
   "id": "4489456c",
   "metadata": {},
   "source": [
    "# 단순 링크드 리스트 구현\n",
    "    - 학생들의 이름과 성적을 입력 받아 성적 순으로 클래스의 data에 딕셔너리로 저장"
   ]
  },
  {
   "cell_type": "code",
   "execution_count": 80,
   "id": "e92e57cb",
   "metadata": {},
   "outputs": [],
   "source": [
    "# node Class 정의\n",
    "class Student:\n",
    "    def __init__(self, name=None, score=None, link=None):\n",
    "        self.name = name\n",
    "        self.score = score\n",
    "        self.link = link\n",
    "        return\n",
    "    \n",
    "    def __str__(self):\n",
    "        return f'{self.name:5s} : {self.score:5d}'\n",
    "    \n",
    "    def print_node(self):\n",
    "        print(self, end = '')\n",
    "        if self.link:\n",
    "#             print(end=', ')\n",
    "#             print(end=' ')\n",
    "            print()\n",
    "            self.link.print_node()\n",
    "        else:\n",
    "            print()\n",
    "        return\n",
    "    "
   ]
  },
  {
   "cell_type": "code",
   "execution_count": 81,
   "id": "9af1979a",
   "metadata": {},
   "outputs": [],
   "source": [
    "# 메뉴 출력 함수\n",
    "def menu_print():\n",
    "    print('================================')\n",
    "    print('        학생 관리 프로그램')\n",
    "    print('  1. 학생 정보 입력')\n",
    "    print('  2. 학생 정보 삭제')\n",
    "    print('  3. 학생 정보 검색')\n",
    "    print('  4. 학생 정보 조회')\n",
    "    print('  9. 프로그램 종료')\n",
    "    print('================================')\n",
    "    \n",
    "    return input('    메뉴 입력> ')"
   ]
  },
  {
   "cell_type": "code",
   "execution_count": 82,
   "id": "99882d86",
   "metadata": {},
   "outputs": [],
   "source": [
    "def add_node():\n",
    "    global head, tail\n",
    "    name = input('이름 입력 : ')\n",
    "    score = int(input('성적 입력 : '))\n",
    "    node = Student(name, score)\n",
    "    if not head:\n",
    "        head = node\n",
    "        tail = node\n",
    "        return\n",
    "    curr_node = head\n",
    "    prev_node = curr_node\n",
    "    while curr_node:\n",
    "        if curr_node.score > node.score:\n",
    "            node.link = curr_node\n",
    "            if curr_node == prev_node:    # 처음 자료 앞에 삽입\n",
    "                head = node\n",
    "                break\n",
    "            else:\n",
    "                prev_node.link = node\n",
    "                break\n",
    "        elif curr_node.link:\n",
    "            prev_node = curr_node\n",
    "            curr_node = curr_node.link\n",
    "        else:\n",
    "            curr_node.link = node\n",
    "            tail = node\n",
    "            break\n",
    "    return"
   ]
  },
  {
   "cell_type": "code",
   "execution_count": 83,
   "id": "73fb3eb6",
   "metadata": {},
   "outputs": [],
   "source": [
    "head = None\n",
    "tail = None"
   ]
  },
  {
   "cell_type": "code",
   "execution_count": 85,
   "id": "7ff9a192",
   "metadata": {
    "scrolled": false
   },
   "outputs": [
    {
     "name": "stdout",
     "output_type": "stream",
     "text": [
      "================================\n",
      "        학생 관리 프로그램\n",
      "  1. 학생 정보 입력\n",
      "  2. 학생 정보 삭제\n",
      "  3. 학생 정보 검색\n",
      "  4. 학생 정보 조회\n",
      "  9. 프로그램 종료\n",
      "================================\n",
      "    메뉴 입력> 4\n",
      "qwe   :    12\n",
      "wq    :    21\n",
      "qq    :    23\n",
      "qw    :    33\n",
      "\n",
      "\n",
      "================================\n",
      "        학생 관리 프로그램\n",
      "  1. 학생 정보 입력\n",
      "  2. 학생 정보 삭제\n",
      "  3. 학생 정보 검색\n",
      "  4. 학생 정보 조회\n",
      "  9. 프로그램 종료\n",
      "================================\n",
      "    메뉴 입력> 9\n"
     ]
    }
   ],
   "source": [
    "while True:\n",
    "    menu = menu_print()\n",
    "    \n",
    "    if menu == '1':\n",
    "        add_node()\n",
    "    elif menu == '2':\n",
    "        pass\n",
    "    elif menu == '3':\n",
    "        pass\n",
    "    elif menu == '4':\n",
    "        head.print_node()\n",
    "    elif menu == '9':\n",
    "        break\n",
    "    \n",
    "    print()\n",
    "    print()"
   ]
  },
  {
   "cell_type": "code",
   "execution_count": null,
   "id": "b4f41405",
   "metadata": {},
   "outputs": [],
   "source": []
  },
  {
   "cell_type": "code",
   "execution_count": null,
   "id": "cfc632f3",
   "metadata": {},
   "outputs": [],
   "source": []
  },
  {
   "cell_type": "code",
   "execution_count": null,
   "id": "9213a8f5",
   "metadata": {},
   "outputs": [],
   "source": []
  },
  {
   "cell_type": "code",
   "execution_count": null,
   "id": "4d929b33",
   "metadata": {},
   "outputs": [],
   "source": []
  },
  {
   "cell_type": "code",
   "execution_count": null,
   "id": "c9ae18cd",
   "metadata": {},
   "outputs": [],
   "source": []
  }
 ],
 "metadata": {
  "kernelspec": {
   "display_name": "Python 3 (ipykernel)",
   "language": "python",
   "name": "python3"
  },
  "language_info": {
   "codemirror_mode": {
    "name": "ipython",
    "version": 3
   },
   "file_extension": ".py",
   "mimetype": "text/x-python",
   "name": "python",
   "nbconvert_exporter": "python",
   "pygments_lexer": "ipython3",
   "version": "3.9.13"
  }
 },
 "nbformat": 4,
 "nbformat_minor": 5
}
