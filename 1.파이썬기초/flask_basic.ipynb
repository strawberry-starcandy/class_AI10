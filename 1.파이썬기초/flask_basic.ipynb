{
 "cells": [
  {
   "cell_type": "markdown",
   "id": "e5e52096",
   "metadata": {},
   "source": [
    "# 라이브러리와 프레임워크\n",
    "### 프레임워크 : 모듈이 개발자가 작성한 코드를 실행하는 형태의 모듈\n",
    "### 제어 역전 : 개발자가 만든 함수를 모듈이 실행하는 형태의, 일반적인 경우와 반대인 제어 흐름"
   ]
  },
  {
   "cell_type": "code",
   "execution_count": 3,
   "id": "8ed346c0",
   "metadata": {},
   "outputs": [],
   "source": [
    "# flask : framework 프로그램\n",
    "from flask import Flask\n",
    "app = Flask(__name__)\n",
    "\n",
    "@app.route('/')\n",
    "def hello():\n",
    "    return '<h1>Hello World!!</h1>'\n",
    "\n",
    "if __name__ == 'main':\n",
    "    app.run(debug=True)"
   ]
  },
  {
   "cell_type": "code",
   "execution_count": null,
   "id": "b10c6330",
   "metadata": {},
   "outputs": [],
   "source": [
    "# power shell : 관리자권한으로 클릭\n",
    "# cmd -> cd c:\\users\\ygl\\desktop\\python_src\n",
    "# set FLASK_APP=flask_basic.py\n",
    "# set FLASK_ENV=development\n",
    "# flask run"
   ]
  },
  {
   "cell_type": "code",
   "execution_count": null,
   "id": "b28640f5",
   "metadata": {},
   "outputs": [],
   "source": [
    "from flask import Flask\n",
    "\n",
    "app = Flask(__name__)\n",
    "\n",
    "@app.route('/')\n",
    "def home():\n",
    "    return 'Hello, World!'\n",
    "\n",
    "if __name__ == '__main__':\n",
    "    app.run(debug=True)"
   ]
  },
  {
   "cell_type": "code",
   "execution_count": null,
   "id": "88729b39",
   "metadata": {},
   "outputs": [],
   "source": []
  },
  {
   "cell_type": "code",
   "execution_count": null,
   "id": "c6c36835",
   "metadata": {},
   "outputs": [],
   "source": []
  },
  {
   "cell_type": "code",
   "execution_count": null,
   "id": "4bc5180b",
   "metadata": {},
   "outputs": [],
   "source": []
  },
  {
   "cell_type": "code",
   "execution_count": null,
   "id": "a02b92e9",
   "metadata": {},
   "outputs": [],
   "source": []
  },
  {
   "cell_type": "code",
   "execution_count": null,
   "id": "c762c149",
   "metadata": {},
   "outputs": [],
   "source": []
  },
  {
   "cell_type": "code",
   "execution_count": null,
   "id": "174832d2",
   "metadata": {},
   "outputs": [],
   "source": []
  },
  {
   "cell_type": "code",
   "execution_count": null,
   "id": "6d7025f1",
   "metadata": {},
   "outputs": [],
   "source": []
  },
  {
   "cell_type": "code",
   "execution_count": null,
   "id": "4da7a221",
   "metadata": {},
   "outputs": [],
   "source": []
  },
  {
   "cell_type": "code",
   "execution_count": null,
   "id": "b1608cb0",
   "metadata": {},
   "outputs": [],
   "source": []
  },
  {
   "cell_type": "code",
   "execution_count": null,
   "id": "ad5b5676",
   "metadata": {},
   "outputs": [],
   "source": []
  }
 ],
 "metadata": {
  "kernelspec": {
   "display_name": "Python 3 (ipykernel)",
   "language": "python",
   "name": "python3"
  },
  "language_info": {
   "codemirror_mode": {
    "name": "ipython",
    "version": 3
   },
   "file_extension": ".py",
   "mimetype": "text/x-python",
   "name": "python",
   "nbconvert_exporter": "python",
   "pygments_lexer": "ipython3",
   "version": "3.9.13"
  }
 },
 "nbformat": 4,
 "nbformat_minor": 5
}
