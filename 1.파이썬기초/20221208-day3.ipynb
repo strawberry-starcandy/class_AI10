{
 "cells": [
  {
   "cell_type": "code",
   "execution_count": null,
   "id": "bbb75c32",
   "metadata": {},
   "outputs": [],
   "source": [
    "a = 10\n",
    "a"
   ]
  },
  {
   "cell_type": "code",
   "execution_count": null,
   "id": "17ff76ae",
   "metadata": {},
   "outputs": [],
   "source": [
    "import time as t\n",
    "\n",
    "number = 0\n",
    "\n",
    "# 5초 동안 반복 실행\n",
    "target_time = t.time() + 5\n",
    "while t.time() < target_time:\n",
    "    number += 1\n",
    "    \n",
    "print(f'5초 동안 {number}회 실행')"
   ]
  },
  {
   "cell_type": "code",
   "execution_count": null,
   "id": "ba37991d",
   "metadata": {},
   "outputs": [],
   "source": [
    "# min(), max(), sum()\n",
    "list_a = [1,2,3,4,5]\n",
    "print(min(list_a))\n",
    "print(max(list_a))\n",
    "print(sum(list_a))"
   ]
  },
  {
   "cell_type": "code",
   "execution_count": null,
   "id": "c7ab9a64",
   "metadata": {},
   "outputs": [],
   "source": [
    "print(min('abcde'))\n",
    "print(max('abcde'))"
   ]
  },
  {
   "cell_type": "code",
   "execution_count": null,
   "id": "c75a0339",
   "metadata": {},
   "outputs": [],
   "source": [
    "# reversed()\n",
    "list_a = list(range(1,10))\n",
    "list_a_rev = reversed(list_a)\n",
    "print(reversed(list_a))\n",
    "print(list(reversed(list_a)))\n",
    "print(tuple(reversed(list_a)))\n",
    "\n",
    "for i in list_a_rev:\n",
    "    print(f'처음 반복 :   {i} | {list_a_rev}')\n",
    "    if i == 6:\n",
    "        break\n",
    "\n",
    "for i in list_a_rev:\n",
    "    print(f'두번째 반복 : {i} | {list_a_rev}')\n"
   ]
  },
  {
   "cell_type": "code",
   "execution_count": null,
   "id": "365843fe",
   "metadata": {},
   "outputs": [],
   "source": [
    "list_a = [34, 56, 78]\n",
    "i = 0\n",
    "for num in list_a:\n",
    "    print(f'{i}번째 값은 {num}입니다')\n",
    "    i += 1\n",
    "print()\n",
    "\n",
    "# enumerate(list) -> 리스트의 index와 value를 동시에 반환\n",
    "for idx, num in enumerate(list_a):\n",
    "    print(f'{idx}번째 값은 {num}입니다')"
   ]
  },
  {
   "cell_type": "code",
   "execution_count": null,
   "id": "971d8f9f",
   "metadata": {},
   "outputs": [],
   "source": [
    "# 딕셔너리\n",
    "dict_a = {'키1':'값1', '키2':'값2'}\n",
    "for key in dict_a:\n",
    "    print(f'{key} : {dict_a[key]}')\n",
    "print()\n",
    "\n",
    "# dict.items() -> 딕셔너리에서 키와 값을 동시에 반환하는 함수\n",
    "for key, value in dict_a.items():\n",
    "    print(f'{key} : {value}')"
   ]
  },
  {
   "cell_type": "code",
   "execution_count": null,
   "id": "15ad3f88",
   "metadata": {},
   "outputs": [],
   "source": [
    "array = []\n",
    "for i in range(0, 20, 2):\n",
    "    array.append(i * i)\n",
    "print(array)"
   ]
  },
  {
   "cell_type": "code",
   "execution_count": null,
   "id": "daa73b20",
   "metadata": {},
   "outputs": [],
   "source": [
    "# 리스트 안에 for 문장 사용하기 : 리스트 내포\n",
    "# 리스트 이름 = [포현식 for 반복자 in 반복자료]\n",
    "array = [ i * i for i in range(0,20,2)]\n",
    "print(array)"
   ]
  },
  {
   "cell_type": "code",
   "execution_count": null,
   "id": "968900b9",
   "metadata": {},
   "outputs": [],
   "source": [
    "# 리스트 이름 = [포현식 for 반복자 in 반복자료 if 조건문]\n",
    "array = [ i * i for i in range(0,20) if i % 2 == 0]\n",
    "print(array)"
   ]
  },
  {
   "cell_type": "code",
   "execution_count": null,
   "id": "9f81b0b6",
   "metadata": {},
   "outputs": [],
   "source": [
    "w_1 = 'Hello'\n",
    "w_2 = 'World'\n",
    "# HW eo lr ll od\n",
    "array = [w_1[i] + w_2[i] for i in range(min(len(w_1), len(w_2)))]\n",
    "print(array)"
   ]
  },
  {
   "cell_type": "code",
   "execution_count": null,
   "id": "6ec575b4",
   "metadata": {},
   "outputs": [],
   "source": [
    "w_1 = 'Hello'\n",
    "w_2 = 'World'\n",
    "\n",
    "list_w = []\n",
    "for w1 in w_1:\n",
    "    for w2 in w_2:\n",
    "        list_w.append(w1 + w2)\n",
    "print(list_w)\n",
    "\n",
    "list_w = [w1 + w2 for w1 in w_1 for w2 in w_2]\n",
    "print(list_w)"
   ]
  },
  {
   "cell_type": "code",
   "execution_count": null,
   "id": "a137bd82",
   "metadata": {},
   "outputs": [],
   "source": [
    "# 문자열.split(분리자) -> 문자열을 분리해서 리스트 반환\n",
    "# 리스트 -> 문자열로 반환 : '연결자'.join(리스트)\n",
    "list_w_s = list_w[:6]\n",
    "print(list_w_s)\n",
    "w_str = '--'.join(list_w_s)\n",
    "print(w_str)\n",
    "w_list = w_str.split('--')\n",
    "print(w_list)\n",
    "print()"
   ]
  },
  {
   "cell_type": "code",
   "execution_count": null,
   "id": "ae3cc7e2",
   "metadata": {},
   "outputs": [],
   "source": [
    "# w_list를 대문자, 소문자를 가진 이차원 리스트로 생성\n",
    "\n",
    "w_list_2 = [[w.upper(), w.lower()] for w in w_list]\n",
    "print(w_list)\n",
    "print(w_list_2)\n",
    "\n",
    "dict_w = {w1:w1.upper() for w1 in w_list if w1[0].isupper()}\n",
    "print(dict_w)"
   ]
  },
  {
   "cell_type": "code",
   "execution_count": null,
   "id": "46be76d4",
   "metadata": {},
   "outputs": [],
   "source": [
    "w_1 = ['a', 'b', 'c']\n",
    "w_2 = ['d', 'e', 'f']\n",
    "\n",
    "result = [i + j for i in w_1 for j in w_2]\n",
    "print(result)\n",
    "\n",
    "result = [[i + j for i in w_1] for j in w_2]\n",
    "print(result)"
   ]
  },
  {
   "cell_type": "markdown",
   "id": "e201d90a",
   "metadata": {},
   "source": [
    "# chap05 함수"
   ]
  },
  {
   "cell_type": "code",
   "execution_count": null,
   "id": "b3ab1913",
   "metadata": {},
   "outputs": [],
   "source": [
    "# 함수 정의\n",
    "def print_3_times():\n",
    "    print(\"hello\")\n",
    "    print(\"hello\")\n",
    "    print(\"hello\")\n",
    "\n",
    "# 일반 매개변수\n",
    "def print_n_times(value, n):\n",
    "    for i in range(n):\n",
    "        print(value)\n",
    "        \n",
    "# 가변 매개변수 (*변수명)\n",
    "def print_n_var_times(n, *values):\n",
    "    for i in range(n):\n",
    "        for value in values:\n",
    "            print(value)\n",
    "        print()\n",
    "        \n",
    "# 기본 매개변수\n",
    "def print_n1_times(value, n=2):\n",
    "    for i in range(n):\n",
    "        print(value)\n",
    "        \n",
    "# 기본과 가변 사용\n",
    "def print_n2_var_times(n = 2, *values):\n",
    "    for i in range(n):\n",
    "        for value in values:\n",
    "            print(value)\n",
    "        print()"
   ]
  },
  {
   "cell_type": "code",
   "execution_count": null,
   "id": "e4da2574",
   "metadata": {},
   "outputs": [],
   "source": [
    "print_n1_times('test', n=3)\n",
    "print_n1_times('test')\n",
    "print_n2_var_times('test')"
   ]
  },
  {
   "cell_type": "code",
   "execution_count": null,
   "id": "f978c079",
   "metadata": {},
   "outputs": [],
   "source": [
    "print_3_times()"
   ]
  },
  {
   "cell_type": "code",
   "execution_count": null,
   "id": "8bec526a",
   "metadata": {},
   "outputs": [],
   "source": [
    "print_n_times('hello python!!', 2)\n",
    "#print_n_times('hello python!!') # 매개변수 부족시 error\n",
    "#print_n_times('hello python!!', 2, 3) # 매개변수 초과시 error"
   ]
  },
  {
   "cell_type": "code",
   "execution_count": null,
   "id": "82a3cacb",
   "metadata": {},
   "outputs": [],
   "source": [
    "print_n_var_times(2, 'test', 'hello', 'abcd')"
   ]
  },
  {
   "cell_type": "code",
   "execution_count": 11,
   "id": "37e3f60e",
   "metadata": {},
   "outputs": [],
   "source": [
    "# 함수의 return\n",
    "def func_1(a, b):\n",
    "    a += 10\n",
    "    b += 20\n",
    "    print('func_1의 a, b : ', a, b)\n",
    "    return b"
   ]
  },
  {
   "cell_type": "code",
   "execution_count": 12,
   "id": "434bc983",
   "metadata": {},
   "outputs": [
    {
     "name": "stdout",
     "output_type": "stream",
     "text": [
      "func_1의 a, b :  20 30\n",
      "main의 a, b, c :  10 10 30\n"
     ]
    }
   ],
   "source": [
    "a = 10\n",
    "b = 10\n",
    "c = func_1(a, b)\n",
    "print('main의 a, b, c : ', a, b, c)"
   ]
  },
  {
   "cell_type": "code",
   "execution_count": null,
   "id": "13d085d3",
   "metadata": {},
   "outputs": [],
   "source": [
    "def sum_all(start=0, end=100, step=1):\n",
    "    result=0\n",
    "    for i in range(start, end+1, step):\n",
    "        result += i\n",
    "    return result\n",
    "\n",
    "def sum_all1(start=0, end=100, step=1):\n",
    "    return sum([i for i in range(start, end+1, step)])"
   ]
  },
  {
   "cell_type": "code",
   "execution_count": null,
   "id": "d2d177d4",
   "metadata": {},
   "outputs": [],
   "source": [
    "print(sum_all(0, 50, 2))\n",
    "print(sum_all(end=1000, step=3))\n",
    "print(sum_all(start=90))\n",
    "print()\n",
    "print(sum_all1(0, 50, 2))\n",
    "print(sum_all1(end=1000, step=3))\n",
    "print(sum_all1(start=90))"
   ]
  },
  {
   "cell_type": "code",
   "execution_count": 13,
   "id": "aae944b6",
   "metadata": {},
   "outputs": [
    {
     "name": "stdout",
     "output_type": "stream",
     "text": [
      "10\n"
     ]
    }
   ],
   "source": [
    "print(a)"
   ]
  },
  {
   "cell_type": "code",
   "execution_count": 19,
   "id": "799f5b74",
   "metadata": {},
   "outputs": [],
   "source": [
    "# 함수의 응용 : 재귀함수\n",
    "# 팩토리얼 : f(n) = f(n-1)\n",
    "\n",
    "def fac(n):\n",
    "    output = 1\n",
    "    for i in range(1, n+1):\n",
    "        output *= i\n",
    "    return output\n",
    "\n",
    "def fac_1(n):\n",
    "    if n == 0:\n",
    "        return 1\n",
    "    return n * fac_1(n-1)"
   ]
  },
  {
   "cell_type": "code",
   "execution_count": 21,
   "id": "63798f62",
   "metadata": {},
   "outputs": [
    {
     "name": "stdout",
     "output_type": "stream",
     "text": [
      "93326215443944152681699238856266700490715968264381621468592963895217599993229915608941463976156518286253697920827223758251185210916864000000000000000000000000\n",
      "93326215443944152681699238856266700490715968264381621468592963895217599993229915608941463976156518286253697920827223758251185210916864000000000000000000000000\n"
     ]
    }
   ],
   "source": [
    "print(fac(100))\n",
    "print(fac_1(100))"
   ]
  },
  {
   "cell_type": "code",
   "execution_count": 26,
   "id": "7bb1b98b",
   "metadata": {},
   "outputs": [],
   "source": [
    "# 재귀함수 피보나치 수열 정의\n",
    "def fibo(n):\n",
    "    global count\n",
    "    count += 1\n",
    "    if n == 1 or n == 2:\n",
    "        return 1\n",
    "    return fibo(n-1) + fibo(n-2)"
   ]
  },
  {
   "cell_type": "code",
   "execution_count": 30,
   "id": "f726d1d0",
   "metadata": {},
   "outputs": [
    {
     "name": "stdout",
     "output_type": "stream",
     "text": [
      "5  \tcount: 9\n",
      "102334155 \tcount: 204668318\n"
     ]
    }
   ],
   "source": [
    "# 함수 호출\n",
    "count = 0\n",
    "print(fibo(5), f' \\tcount: {count}')\n",
    "count = 0\n",
    "print(fibo(40), f'\\tcount: {count}')"
   ]
  },
  {
   "cell_type": "code",
   "execution_count": 20,
   "id": "6ff6d4c6",
   "metadata": {},
   "outputs": [],
   "source": [
    "# 재귀함수 피보나치 수열 정의 -> 메모화 시키면서 재귀함수 호출\n",
    "\n",
    "def fibo_mem(n):\n",
    "    global count\n",
    "    count += 1\n",
    "    if n in dict_fibo:\n",
    "        return dict_fibo[n]\n",
    "    output = fibo_mem(n-1) + fibo_mem(n-2)\n",
    "    dict_fibo[n] = output\n",
    "    return output"
   ]
  },
  {
   "cell_type": "code",
   "execution_count": 27,
   "id": "ca03f269",
   "metadata": {
    "scrolled": true
   },
   "outputs": [
    {
     "name": "stdout",
     "output_type": "stream",
     "text": [
      "5  \tcount: 7\n",
      "102334155 \tcount: 71\n"
     ]
    }
   ],
   "source": [
    "# 함수 호출\n",
    "dict_fibo = {\n",
    "    1:1,\n",
    "    2:1\n",
    "}\n",
    "count = 0\n",
    "print(fibo_mem(5), f' \\tcount: {count}')\n",
    "count = 0\n",
    "print(fibo_mem(40), f'\\tcount: {count}')"
   ]
  },
  {
   "cell_type": "code",
   "execution_count": 16,
   "id": "84ca5d1a",
   "metadata": {},
   "outputs": [
    {
     "name": "stdout",
     "output_type": "stream",
     "text": [
      "{1: 1, 2: 1, 3: 2, 4: 3, 5: 5, 6: 8, 7: 13, 8: 21, 9: 34, 10: 55, 11: 89, 12: 144, 13: 233, 14: 377, 15: 610, 16: 987, 17: 1597, 18: 2584, 19: 4181, 20: 6765, 21: 10946, 22: 17711, 23: 28657, 24: 46368, 25: 75025, 26: 121393, 27: 196418, 28: 317811, 29: 514229, 30: 832040, 31: 1346269, 32: 2178309, 33: 3524578, 34: 5702887, 35: 9227465, 36: 14930352, 37: 24157817, 38: 39088169, 39: 63245986, 40: 102334155}\n"
     ]
    }
   ],
   "source": [
    "print(dict_fibo)"
   ]
  },
  {
   "cell_type": "code",
   "execution_count": 44,
   "id": "16b3c951",
   "metadata": {},
   "outputs": [
    {
     "name": "stdout",
     "output_type": "stream",
     "text": [
      "[1, 2, 3, 4, 5, 6, 7, 8, 9]\n"
     ]
    }
   ],
   "source": [
    "# 평탄화 하는 함수 flatten() 정의\n",
    "def flatten(data):\n",
    "    result = []\n",
    "    for item in data:\n",
    "        if type(item) is list:\n",
    "            result.extend(flatten(item))\n",
    "        else:\n",
    "            result.append(item)\n",
    "    return result\n",
    "\n",
    "data_sample = [[1,2,3], [4,5,6], [[7,8],9]]\n",
    "print(flatten(data_sample))"
   ]
  },
  {
   "cell_type": "code",
   "execution_count": null,
   "id": "c13d2e3b",
   "metadata": {},
   "outputs": [],
   "source": [
    "# 메뉴\n",
    "#  1. : 학생 정보 입력\n",
    "#  2. : 학생 성적 조회\n",
    "#  3. : 학생 정보 삭제\n",
    "#  4. : 학생 전체 정보 조회\n",
    "#  9 : 프로그램 종료"
   ]
  },
  {
   "cell_type": "code",
   "execution_count": null,
   "id": "4d1e9a20",
   "metadata": {},
   "outputs": [],
   "source": [
    "# 1. 학생 정보 세부 내역\n",
    "# 학생의 이름, 국어, 영어, 수학 점수 입력\n",
    "# 학생의 평균을 계산해서 입력 소수점 미만 2자리 까지만"
   ]
  },
  {
   "cell_type": "code",
   "execution_count": null,
   "id": "887669fc",
   "metadata": {},
   "outputs": [],
   "source": [
    "# 2. 학생 성적 조회\n",
    "# 학생 이름을 입력하면 학생정보에서 조회 후 학생 정보 출력"
   ]
  },
  {
   "cell_type": "code",
   "execution_count": null,
   "id": "9b8d070f",
   "metadata": {},
   "outputs": [],
   "source": [
    "# 3. 학생 정보 삭제\n",
    "# 학생 이름을 입력하면 학생 정보에서 조회 후 진짜 삭제 여부 물어 봄 ( Yes or No )\n",
    "#   Yes 이면 삭제"
   ]
  },
  {
   "cell_type": "code",
   "execution_count": null,
   "id": "3f311196",
   "metadata": {},
   "outputs": [],
   "source": [
    "# 4. 전체 학생 정보 출력\n",
    "# 9. 프로그램 종료"
   ]
  },
  {
   "cell_type": "code",
   "execution_count": 92,
   "id": "99be38ef",
   "metadata": {},
   "outputs": [],
   "source": [
    "students = {}\n",
    "\n",
    "def print_info_title():\n",
    "    str_line = '=' * 5\n",
    "    print('{:8s}\\t{:8s}\\t{:8s}\\t{:8s}\\t{:8s}'.format('이름', '국어', '영어', '수학', '평균'))\n",
    "    print(f'{str_line:8s}\\t' * 5)\n",
    "    \n",
    "def print_info_student(name, scores):\n",
    "    print(f'{name:8s}\\t{scores[0]:8s}\\t{scores[1]:8s}\\t{scores[2]:8s}\\t{scores[3]:8s}')\n",
    "\n",
    "def search_student():\n",
    "    str_input = input('학생 이름 입력 (종료시 q) : ').strip()\n",
    "    if str_input == 'q':\n",
    "        return str_input\n",
    "    elif str_input in students:\n",
    "        print_info_title()\n",
    "        print_info_student(str_input, students[str_input])\n",
    "        return str_input\n",
    "    else:\n",
    "        print('    Error - 존재하지 않는 이름입니다.')\n",
    "        return\n",
    "    \n",
    "def menu_print():\n",
    "    print('메뉴')\n",
    "    print('  1. : 학생 정보 입력')\n",
    "    print('  2. : 학생 성적 조회')\n",
    "    print('  3. : 학생 정보 삭제')\n",
    "    print('  4. : 학생 전체 정보 조회')\n",
    "    print('  9 : 프로그램 종료')\n",
    "    return input('  메뉴를 선택하세요 : ')\n",
    "\n",
    "def insert_menu():\n",
    "    global students\n",
    "    print('->1. : 학생 정보 입력')\n",
    "    while True:\n",
    "        str_input = input('학생의 이름, 국어, 영어, 수학 점수 입력 (종료시 q) : ').split()\n",
    "        if len(str_input) == 0:\n",
    "            continue\n",
    "        elif str_input[0] == 'q':\n",
    "            break\n",
    "        elif len(str_input) != 4:\n",
    "            print('    Error - 입력한 자료 갯수가 잘못되었습니다.')\n",
    "        elif str_input[1].isnumeric() and str_input[2].isnumeric() and str_input[3].isnumeric():\n",
    "            score_avr = sum(map(int, str_input[1:4])) / 3\n",
    "            students[str_input[0]] = [*str_input[1:4], f'{score_avr:.2f}']\n",
    "            print('    정상적으로 입력되었습니다.')\n",
    "        else:\n",
    "            print('    Error - 성적은 숫자로 입력하여야 합니다.')\n",
    "        print()\n",
    "\n",
    "def inquiry_student():\n",
    "    global students\n",
    "    print('->2. : 학생 성적 조회')\n",
    "    while True:\n",
    "        if search_student() == 'q':\n",
    "            break\n",
    "        print()\n",
    "\n",
    "def delete_student():\n",
    "    global students\n",
    "    print('->3. : 학생 정보 삭제')\n",
    "    while True:\n",
    "        s_name = search_student()\n",
    "        if s_name:\n",
    "            if s_name == 'q':\n",
    "                break\n",
    "            str_yes = input('    삭제하시려면 \\'Y\\'를 입력하세요 : ').strip()\n",
    "            if str_yes == 'y' or str_yes == 'Y':\n",
    "                students.pop(s_name)\n",
    "                print(f'    {s_name}의 정보가 삭제되었습니다.')\n",
    "            else:\n",
    "                print('    취소하였습니다.')\n",
    "        print()\n",
    "\n",
    "def inquiry_students():\n",
    "    global students\n",
    "    print('->4. : 학생 전체 정보 조회')\n",
    "    print_info_title()\n",
    "    for name, value in students.items():\n",
    "        print_info_student(name, value)\n",
    "    print()\n"
   ]
  },
  {
   "cell_type": "code",
   "execution_count": 88,
   "id": "d206b8de",
   "metadata": {},
   "outputs": [
    {
     "name": "stdout",
     "output_type": "stream",
     "text": [
      "메뉴\n",
      "  1. : 학생 정보 입력\n",
      "  2. : 학생 성적 조회\n",
      "  3. : 학생 정보 삭제\n",
      "  4. : 학생 전체 정보 조회\n",
      "  9 : 프로그램 종료\n",
      "4\n",
      "->4. : 학생 전체 정보 조회\n",
      "이름      \t국어      \t영어      \t수학      \t평균      \n",
      "=====   \t=====   \t=====   \t=====   \t=====   \t\n",
      "\n",
      "\n",
      "메뉴\n",
      "  1. : 학생 정보 입력\n",
      "  2. : 학생 성적 조회\n",
      "  3. : 학생 정보 삭제\n",
      "  4. : 학생 전체 정보 조회\n",
      "  9 : 프로그램 종료\n",
      "0\n",
      "\n",
      "메뉴\n",
      "  1. : 학생 정보 입력\n",
      "  2. : 학생 성적 조회\n",
      "  3. : 학생 정보 삭제\n",
      "  4. : 학생 전체 정보 조회\n",
      "  9 : 프로그램 종료\n",
      "9\n",
      "->9 : 프로그램 종료\n"
     ]
    }
   ],
   "source": [
    "\n",
    "while True:\n",
    "    menu = menu_print()      # 초기 화면 출력\n",
    "    if menu == '1':          # 학생 정보 삽입\n",
    "        insert_menu()\n",
    "    elif menu == '2':        # 개인 학생 정보 조회\n",
    "        inquiry_student()\n",
    "    elif menu == '3':        # 개인 학생 정보 삭제\n",
    "        delete_student()\n",
    "    elif menu == '4':        # 학생 전체 정보 조회\n",
    "        inquiry_students()\n",
    "    elif menu == '9':        # 프로그램 종료\n",
    "        print('->9 : 프로그램 종료')\n",
    "        break\n",
    "    print()"
   ]
  },
  {
   "cell_type": "markdown",
   "id": "47da7468",
   "metadata": {},
   "source": [
    "## chap05-3 함수 고급"
   ]
  },
  {
   "cell_type": "code",
   "execution_count": 94,
   "id": "519056a9",
   "metadata": {},
   "outputs": [
    {
     "name": "stdout",
     "output_type": "stream",
     "text": [
      "20 10\n"
     ]
    }
   ],
   "source": [
    "# tuple -> (, ... ,) -> 값 변경 불가\n",
    "tuple_var = (10, 20, 30)\n",
    "list_var = [10, 20, 30]\n",
    "# tuple_var[0] = 40 # error\n",
    "a, b = 10, 20\n",
    "b, a = a, b\n",
    "print(a, b)"
   ]
  },
  {
   "cell_type": "code",
   "execution_count": 97,
   "id": "5394dd76",
   "metadata": {},
   "outputs": [
    {
     "name": "stdout",
     "output_type": "stream",
     "text": [
      "2 17\n",
      "2 17\n"
     ]
    }
   ],
   "source": [
    "a, b = 97, 40\n",
    "print(a // b, a % b)\n",
    "\n",
    "x, y = divmod(a, b)\n",
    "print(x, y)"
   ]
  },
  {
   "cell_type": "code",
   "execution_count": 100,
   "id": "07ab76e6",
   "metadata": {},
   "outputs": [
    {
     "name": "stdout",
     "output_type": "stream",
     "text": [
      "[1, 4, 9, 16, 25]\n",
      "[1, 2]\n"
     ]
    }
   ],
   "source": [
    "# map(함수, 리스트), filter(함수, 리스트)\n",
    "# 리스트의 각 요소에 대하여 정의된 함수 적용\n",
    "def power(item):\n",
    "    return item * item\n",
    "\n",
    "def under_3(item):\n",
    "    return item < 3\n",
    "\n",
    "list_a = [1, 2, 3, 4, 5]\n",
    "result_a = map(power, list_a)\n",
    "print(list(result_a))\n",
    "\n",
    "result_b = filter(under_3, list_a)\n",
    "print(list(result_b))"
   ]
  },
  {
   "cell_type": "code",
   "execution_count": 101,
   "id": "c561a202",
   "metadata": {},
   "outputs": [
    {
     "name": "stdout",
     "output_type": "stream",
     "text": [
      "[1, 4, 9, 16, 25]\n",
      "[1, 2]\n"
     ]
    }
   ],
   "source": [
    "# 람다 : lambda 매개변수: 리턴 값\n",
    "power = lambda item: item * item\n",
    "under_3 = lambda x: x < 3\n",
    "\n",
    "list_a = [1, 2, 3, 4, 5]\n",
    "result_a = map(power, list_a)\n",
    "print(list(result_a))\n",
    "\n",
    "result_b = filter(under_3, list_a)\n",
    "print(list(result_b))"
   ]
  },
  {
   "cell_type": "code",
   "execution_count": 102,
   "id": "15bf1cfb",
   "metadata": {},
   "outputs": [
    {
     "name": "stdout",
     "output_type": "stream",
     "text": [
      "[1, 4, 9, 16, 25]\n",
      "[1, 2]\n"
     ]
    }
   ],
   "source": [
    "# lambda 함수를 함수 호출 부분에 정의\n",
    "list_a = [1, 2, 3, 4, 5]\n",
    "result_a = map(lambda x: x * x, list_a)\n",
    "print(list(result_a))\n",
    "\n",
    "result_b = filter(lambda x: x < 3, list_a)\n",
    "print(list(result_b))"
   ]
  },
  {
   "cell_type": "code",
   "execution_count": 105,
   "id": "12aa639d",
   "metadata": {},
   "outputs": [
    {
     "name": "stdout",
     "output_type": "stream",
     "text": [
      "1 4\n",
      "2 5\n",
      "3 6\n"
     ]
    }
   ],
   "source": [
    "array_1 = [1, 2, 3]\n",
    "array_2 = [4, 5, 6]\n",
    "\n",
    "for x, y in zip(array_1, array_2):\n",
    "    print(x, y)\n"
   ]
  },
  {
   "cell_type": "code",
   "execution_count": null,
   "id": "1e320a37",
   "metadata": {},
   "outputs": [],
   "source": [
    "x = [2, 2]\n",
    "y = [2, 3]\n",
    "z = [4, 5]\n",
    "\n"
   ]
  },
  {
   "cell_type": "code",
   "execution_count": null,
   "id": "d5049a34",
   "metadata": {},
   "outputs": [],
   "source": []
  },
  {
   "cell_type": "code",
   "execution_count": null,
   "id": "d4d9609b",
   "metadata": {},
   "outputs": [],
   "source": []
  },
  {
   "cell_type": "code",
   "execution_count": null,
   "id": "2936d57e",
   "metadata": {},
   "outputs": [],
   "source": []
  },
  {
   "cell_type": "code",
   "execution_count": null,
   "id": "3fbcb641",
   "metadata": {},
   "outputs": [],
   "source": []
  },
  {
   "cell_type": "code",
   "execution_count": null,
   "id": "171fd35a",
   "metadata": {},
   "outputs": [],
   "source": []
  },
  {
   "cell_type": "code",
   "execution_count": null,
   "id": "a28ae977",
   "metadata": {},
   "outputs": [],
   "source": []
  },
  {
   "cell_type": "code",
   "execution_count": null,
   "id": "2e0082ba",
   "metadata": {},
   "outputs": [],
   "source": []
  },
  {
   "cell_type": "code",
   "execution_count": null,
   "id": "cf093f47",
   "metadata": {},
   "outputs": [],
   "source": []
  },
  {
   "cell_type": "code",
   "execution_count": null,
   "id": "759256ea",
   "metadata": {},
   "outputs": [],
   "source": []
  },
  {
   "cell_type": "code",
   "execution_count": null,
   "id": "104079d9",
   "metadata": {},
   "outputs": [],
   "source": []
  },
  {
   "cell_type": "code",
   "execution_count": null,
   "id": "0e025edf",
   "metadata": {},
   "outputs": [],
   "source": []
  }
 ],
 "metadata": {
  "kernelspec": {
   "display_name": "Python 3 (ipykernel)",
   "language": "python",
   "name": "python3"
  },
  "language_info": {
   "codemirror_mode": {
    "name": "ipython",
    "version": 3
   },
   "file_extension": ".py",
   "mimetype": "text/x-python",
   "name": "python",
   "nbconvert_exporter": "python",
   "pygments_lexer": "ipython3",
   "version": "3.9.13"
  }
 },
 "nbformat": 4,
 "nbformat_minor": 5
}
