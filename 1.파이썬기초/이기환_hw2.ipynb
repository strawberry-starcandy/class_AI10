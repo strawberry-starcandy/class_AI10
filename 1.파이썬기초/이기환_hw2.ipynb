{
 "cells": [
  {
   "cell_type": "code",
   "execution_count": null,
   "id": "bbb75c32",
   "metadata": {},
   "outputs": [],
   "source": [
    "# p.187 - 2\n",
    "if 10 < x < 20:\n",
    "    print(\"조건에 맞습니다.\")"
   ]
  },
  {
   "cell_type": "code",
   "execution_count": 1,
   "id": "56846053",
   "metadata": {},
   "outputs": [
    {
     "name": "stdout",
     "output_type": "stream",
     "text": [
      "정수를 입력해주세요: 273\n",
      "273은 2로 나누어 떨어지는 숫자가 아닙니다.\n",
      "273은 3으로 나누어 떨어지는 숫자입니다.\n",
      "273은 4로 나누어 떨어지는 숫자가 아닙니다.\n",
      "273은 5로 나누어 떨어지는 숫자가 아닙니다.\n"
     ]
    }
   ],
   "source": [
    "# p.189 - 2\n",
    "num = int(input(\"정수를 입력해주세요: \"))\n",
    "\n",
    "if num % 2 == 0:\n",
    "    print(f'{num}은 2로 나누어 떨어지는 숫자입니다.')\n",
    "else:\n",
    "    print(f'{num}은 2로 나누어 떨어지는 숫자가 아닙니다.')\n",
    "\n",
    "if num % 3 == 0:\n",
    "    print(f'{num}은 3으로 나누어 떨어지는 숫자입니다.')\n",
    "else:\n",
    "    print(f'{num}은 3으로 나누어 떨어지는 숫자가 아닙니다.')\n",
    "\n",
    "if num % 4 == 0:\n",
    "    print(f'{num}은 4로 나누어 떨어지는 숫자입니다.')\n",
    "else:\n",
    "    print(f'{num}은 4로 나누어 떨어지는 숫자가 아닙니다.')\n",
    "\n",
    "if num % 5 == 0:\n",
    "    print(f'{num}은 5로 나누어 떨어지는 숫자입니다.')\n",
    "else:\n",
    "    print(f'{num}은 5로 나누어 떨어지는 숫자가 아닙니다.')\n",
    "    \n",
    "# 실행 결과\n",
    "# 정수를 입력해주세요: 273\n",
    "# 273은 2로 나누어 떨어지는 숫자가 아닙니다.\n",
    "# 273은 3으로 나누어 떨어지는 숫자입니다.\n",
    "# 273은 4로 나누어 떨어지는 숫자가 아닙니다.\n",
    "# 273은 5로 나누어 떨어지는 숫자가 아닙니다."
   ]
  },
  {
   "cell_type": "code",
   "execution_count": 2,
   "id": "ab91ffb8",
   "metadata": {
    "scrolled": true
   },
   "outputs": [
    {
     "name": "stdout",
     "output_type": "stream",
     "text": [
      "-100 이상의 수: 273\n",
      "-100 이상의 수: 103\n",
      "-100 이상의 수: 800\n"
     ]
    }
   ],
   "source": [
    "# p.214 - 2\n",
    "numbers = [273, 103, 5, 32, 65, 9, 72, 800, 99]\n",
    "\n",
    "for number in numbers:\n",
    "    if number > 100:\n",
    "        print(\"-100 이상의 수:\", number)\n",
    "# 실행 결과\n",
    "# -100 이상의 수: 273\n",
    "# -100 이상의 수: 103\n",
    "# -100 이상의 수: 800"
   ]
  },
  {
   "cell_type": "code",
   "execution_count": 4,
   "id": "87d81b7c",
   "metadata": {},
   "outputs": [
    {
     "name": "stdout",
     "output_type": "stream",
     "text": [
      "[[1, 4, 7], [2, 5, 8], [3, 6, 9]]\n"
     ]
    }
   ],
   "source": [
    "# p.215 - 4\n",
    "numbers = [1, 2, 3, 4, 5, 6, 7, 8, 9]\n",
    "output = [[], [], []]\n",
    "\n",
    "for number in numbers:\n",
    "    output[(number - 1) % 3].append(number)\n",
    "    \n",
    "print(output)\n",
    "\n",
    "# 실행 결과\n",
    "# [[1, 4, 7], [2, 5, 8], [3, 6, 9]]"
   ]
  },
  {
   "cell_type": "code",
   "execution_count": 6,
   "id": "e91e2314",
   "metadata": {},
   "outputs": [
    {
     "name": "stdout",
     "output_type": "stream",
     "text": [
      "i = 0, j = 1\n",
      "i = 1, j = 3\n",
      "i = 2, j = 5\n",
      "i = 3, j = 7\n",
      "[1, 4, 3, 16, 5, 36, 7, 64, 9]\n"
     ]
    }
   ],
   "source": [
    "# p.215 - 5\n",
    "numbers = [1, 2, 3, 4, 5, 6, 7, 8, 9]\n",
    "\n",
    "for i in range( 0, len(numbers) // 2):\n",
    "    j = i * 2 + 1\n",
    "    print(f\"i = {i}, j = {j}\")\n",
    "    numbers[j] = numbers[j] ** 2\n",
    "    \n",
    "print(numbers)\n",
    "\n",
    "# 실행 결과\n",
    "# i = 0, j = 1\n",
    "# i = 1, j = 3\n",
    "# i = 2, j = 5\n",
    "# i = 3, j = 7\n",
    "# [1, 4, 3, 16, 5, 36, 7, 64, 9]"
   ]
  },
  {
   "cell_type": "code",
   "execution_count": 7,
   "id": "ea5a972b",
   "metadata": {},
   "outputs": [
    {
     "name": "stdout",
     "output_type": "stream",
     "text": [
      "{'name': '기사', 'hp': 200, 'mp': 30, 'level': 5}\n"
     ]
    }
   ],
   "source": [
    "# p.248 - 2\n",
    "key_list = [\"name\", \"hp\", \"mp\", \"level\"]\n",
    "value_list = [\"기사\", 200, 30, 5]\n",
    "character = {}\n",
    "for idx in range(len(key_list)):\n",
    "    character[key_list[idx]] = value_list[idx]\n",
    "print(character)\n",
    "\n",
    "# 실행 결과\n",
    "# {'name': '기사', 'hp': 200, 'mp': 30, 'level': 5}"
   ]
  },
  {
   "cell_type": "code",
   "execution_count": 8,
   "id": "db1b484f",
   "metadata": {},
   "outputs": [
    {
     "name": "stdout",
     "output_type": "stream",
     "text": [
      "141를 더할 때 10000을 넘으며 그때의 값은 10011입니다.\n"
     ]
    }
   ],
   "source": [
    "# p.248 - 3\n",
    "limit = 10000\n",
    "i = 1\n",
    "sum_value = 0\n",
    "while True:\n",
    "    sum_value += i\n",
    "    i += 1\n",
    "    if sum_value > limit:\n",
    "        break\n",
    "        \n",
    "print(\"{}를 더할 때 {}을 넘으며 그때의 값은 {}입니다.\".format(i-1, limit, sum_value))\n",
    "\n",
    "# 실행 결과\n",
    "# 141를 더할 때 10000을 넘으며 그때의 값은 10011입니다."
   ]
  },
  {
   "cell_type": "code",
   "execution_count": 10,
   "id": "efb74815",
   "metadata": {},
   "outputs": [
    {
     "name": "stdout",
     "output_type": "stream",
     "text": [
      "최대가 되는 경우: 50 * 50 = 2500\n"
     ]
    }
   ],
   "source": [
    "# p.249 - 4\n",
    "max_idx = 0\n",
    "max_value = 0\n",
    "for i in range(1, 100):\n",
    "    value = i * (100 - i)\n",
    "    if max_value < value:\n",
    "        max_idx = i\n",
    "        max_value = value\n",
    "print(f'최대가 되는 경우: {max_idx} * {100 - max_idx} = {max_idx * (100 - max_idx)}')\n",
    "\n",
    "# 실행 결과\n",
    "# 최대가 되는 경우: 50 * 50 = 2500"
   ]
  },
  {
   "cell_type": "code",
   "execution_count": null,
   "id": "ea1c3704",
   "metadata": {},
   "outputs": [],
   "source": []
  }
 ],
 "metadata": {
  "kernelspec": {
   "display_name": "Python 3 (ipykernel)",
   "language": "python",
   "name": "python3"
  },
  "language_info": {
   "codemirror_mode": {
    "name": "ipython",
    "version": 3
   },
   "file_extension": ".py",
   "mimetype": "text/x-python",
   "name": "python",
   "nbconvert_exporter": "python",
   "pygments_lexer": "ipython3",
   "version": "3.9.13"
  }
 },
 "nbformat": 4,
 "nbformat_minor": 5
}
