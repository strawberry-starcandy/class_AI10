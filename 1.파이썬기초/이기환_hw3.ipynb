{
 "cells": [
  {
   "cell_type": "code",
   "execution_count": 10,
   "id": "bbb75c32",
   "metadata": {},
   "outputs": [
    {
     "name": "stdout",
     "output_type": "stream",
     "text": [
      "2 : 10\n",
      "5 : 101\n",
      "6 : 110\n",
      "11 : 1011\n",
      "13 : 1101\n",
      "14 : 1110\n",
      "23 : 10111\n",
      "27 : 11011\n",
      "29 : 11101\n",
      "30 : 11110\n",
      "47 : 101111\n",
      "55 : 110111\n",
      "59 : 111011\n",
      "61 : 111101\n",
      "62 : 111110\n",
      "95 : 1011111\n",
      "합계: 539\n"
     ]
    }
   ],
   "source": [
    "# p.267 - 2\n",
    "output = [num for num in range(1, 101) if f'{num:b}'.count('0') == 1]\n",
    "\n",
    "for i in output:\n",
    "    print(\"{} : {}\".format(i, \"{:b}\".format(i)))\n",
    "print(\"합계:\", sum(output))\n",
    "\n",
    "# 실행 결과\n",
    "# 2 : 10\n",
    "# 5 : 101\n",
    "# 6 : 110\n",
    "# 11 : 1011\n",
    "# 13 : 1101\n",
    "# 14 : 1110\n",
    "# 23 : 10111\n",
    "# 27 : 11011\n",
    "# 29 : 11101\n",
    "# 30 : 11110\n",
    "# 47 : 101111\n",
    "# 55 : 110111\n",
    "# 59 : 111011\n",
    "# 61 : 111101\n",
    "# 62 : 111110\n",
    "# 95 : 1011111\n",
    "# 합계: 539"
   ]
  },
  {
   "cell_type": "code",
   "execution_count": 6,
   "id": "98dfb4d3",
   "metadata": {},
   "outputs": [
    {
     "name": "stdout",
     "output_type": "stream",
     "text": [
      "사용된 숫자의 종류는 4개입니다.\n",
      "참고: {1: 4, 2: 3, 3: 3, 4: 2}\n"
     ]
    }
   ],
   "source": [
    "# p.268 - 1\n",
    "list_a = [1, 2, 3, 4, 1, 2, 3, 1, 4, 1, 2, 3]\n",
    "dict_a = {num:list_a.count(num) for num in list_a}\n",
    "print(f'사용된 숫자의 종류는 {len(dict_a)}개입니다.')\n",
    "print(\"참고:\", dict_a)\n",
    "\n",
    "# 실행 결과\n",
    "# 사용된 숫자의 종류는 4개입니다.\n",
    "# 참고: {1: 4, 2: 3, 3: 3, 4: 2}"
   ]
  },
  {
   "cell_type": "code",
   "execution_count": 52,
   "id": "0aa8cde3",
   "metadata": {},
   "outputs": [
    {
     "name": "stdout",
     "output_type": "stream",
     "text": [
      "염기 서열을 입력해주세요: ctacaatgtcagtatacccattgcattagccgg\n",
      "c의 개수: 9\n",
      "t의 개수: 9\n",
      "a의 개수: 9\n",
      "g의 개수: 6\n"
     ]
    }
   ],
   "source": [
    "# p.268 - 2\n",
    "# str_a = 'ctacaatgtcagtatacccattgcattagccgg'\n",
    "str_a = input('염기 서열을 입력해주세요: ')\n",
    "dict_a = {ch:str_a.count(ch) for ch in str_a}\n",
    "for ch, val in dict_a.items():\n",
    "    print(f'{ch}의 개수: {val}')\n",
    "    \n",
    "# 실행 결과\n",
    "# 염기 서열을 입력해주세요: ctacaatgtcagtatacccattgcattagccgg\n",
    "# c의 개수: 9\n",
    "# t의 개수: 9\n",
    "# a의 개수: 9\n",
    "# g의 개수: 6"
   ]
  },
  {
   "cell_type": "code",
   "execution_count": 51,
   "id": "e899c66c",
   "metadata": {},
   "outputs": [
    {
     "name": "stdout",
     "output_type": "stream",
     "text": [
      "염기 서열을 입력해주세요: ctacaatgtcagtatacccattgcattagccgg\n",
      "{'cta': 1, 'caa': 1, 'tgt': 1, 'cag': 1, 'tat': 1, 'acc': 1, 'cat': 1, 'tgc': 1, 'att': 1, 'agc': 1, 'cgg': 1}\n"
     ]
    }
   ],
   "source": [
    "# p.268 - 3\n",
    "#str_a = 'ctacaatgtcagtatacccattgcattagccgg'\n",
    "str_a = input('염기 서열을 입력해주세요: ')\n",
    "list_a = [str_a[i:i+3] for i in range(0, len(str_a) - 2, 3)]\n",
    "dict_a = {codon:list_a.count(codon) for codon in list_a}\n",
    "print(dict_a)\n",
    "\n",
    "# 실행 결과\n",
    "# 염기 서열을 입력해주세요: ctacaatgtcagtatacccattgcattagccgg\n",
    "# {'cta': 1, 'caa': 1, 'tgt': 1, 'cag': 1, 'tat': 1, 'acc': 1, 'cat': 1, 'tgc': 1, 'att': 1, 'agc': 1, 'cgg': 1}"
   ]
  },
  {
   "cell_type": "code",
   "execution_count": 41,
   "id": "ea96e0fe",
   "metadata": {},
   "outputs": [
    {
     "name": "stdout",
     "output_type": "stream",
     "text": [
      "[1, 2, [3, 4], 5, [6, 7], [8, 9]]를 평탄화하면\n",
      "[1, 2, 3, 4, 5, 6, 7, 8, 9]입니다.\n"
     ]
    }
   ],
   "source": [
    "input_list = [1, 2, [3, 4], 5, [6, 7], [8, 9]]\n",
    "output_list = []\n",
    "for i in input_list:\n",
    "    if type(i) == list:\n",
    "        output_list += i\n",
    "    else:\n",
    "        output_list.append(i)\n",
    "print(f'{input_list}를 평탄화하면')\n",
    "print(f'{output_list}입니다.')\n",
    "\n",
    "# 실행 결과\n",
    "# [1, 2, [3, 4], 5, [6, 7], [8, 9]]를 평탄화하면\n",
    "# [1, 2, 3, 4, 5, 6, 7, 8, 9]입니다."
   ]
  }
 ],
 "metadata": {
  "kernelspec": {
   "display_name": "Python 3 (ipykernel)",
   "language": "python",
   "name": "python3"
  },
  "language_info": {
   "codemirror_mode": {
    "name": "ipython",
    "version": 3
   },
   "file_extension": ".py",
   "mimetype": "text/x-python",
   "name": "python",
   "nbconvert_exporter": "python",
   "pygments_lexer": "ipython3",
   "version": "3.9.13"
  }
 },
 "nbformat": 4,
 "nbformat_minor": 5
}
