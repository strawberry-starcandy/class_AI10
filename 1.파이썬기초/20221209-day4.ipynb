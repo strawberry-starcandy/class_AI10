{
 "cells": [
  {
   "cell_type": "code",
   "execution_count": 3,
   "id": "bbb75c32",
   "metadata": {},
   "outputs": [
    {
     "name": "stdout",
     "output_type": "stream",
     "text": [
      "func1()에서 a값 10\n",
      "func2()에서 a값 20\n"
     ]
    }
   ],
   "source": [
    "def func1():\n",
    "    a = 10\n",
    "    print('func1()에서 a값 %d' % a)\n",
    "    \n",
    "def func2():\n",
    "    print('func2()에서 a값 %d' % a)\n",
    "    \n",
    "a = 20\n",
    "\n",
    "func1()\n",
    "func2()"
   ]
  },
  {
   "cell_type": "code",
   "execution_count": 10,
   "id": "744a7ae1",
   "metadata": {},
   "outputs": [],
   "source": [
    "# file read / write\n",
    "file = open('basic.txt', 'w')    # file open, w -> 기존에 파일이 있으면 내용 clear, 없으면 생성\n",
    "\n",
    "file.write('Hello Python Progamming!!\\n')\n",
    "\n",
    "file.close()"
   ]
  },
  {
   "cell_type": "code",
   "execution_count": 11,
   "id": "eaf66c0c",
   "metadata": {},
   "outputs": [],
   "source": [
    "# file = open('basic.txt', 'r')\n",
    "file = open('basic.txt', 'a')    # a -> 기존의 파일에 추가\n",
    "\n",
    "file.write('append test\\n')\n",
    "\n",
    "file.close()"
   ]
  },
  {
   "cell_type": "code",
   "execution_count": 13,
   "id": "707188fe",
   "metadata": {},
   "outputs": [
    {
     "name": "stdout",
     "output_type": "stream",
     "text": [
      "Hello Python Progamming!!\n",
      "append test\n",
      "\n"
     ]
    }
   ],
   "source": [
    "file = open('basic.txt', 'r')\n",
    "print(file.read())\n",
    "file.close()"
   ]
  },
  {
   "cell_type": "code",
   "execution_count": 14,
   "id": "548e2746",
   "metadata": {},
   "outputs": [
    {
     "name": "stdout",
     "output_type": "stream",
     "text": [
      "Hello Python Progamming!!\n",
      "append test\n",
      "\n"
     ]
    }
   ],
   "source": [
    "file = open('basic.txt', 'a+')    # file의 마지막 위치를 가리킴\n",
    "file.seek(0)                      # file의 처음 위치로 이동\n",
    "print(file.read())\n",
    "file.close()"
   ]
  },
  {
   "cell_type": "code",
   "execution_count": 15,
   "id": "115e706b",
   "metadata": {},
   "outputs": [
    {
     "name": "stdout",
     "output_type": "stream",
     "text": [
      "Hello Python Progamming!!\n",
      "\n",
      "append test\n",
      "\n"
     ]
    }
   ],
   "source": [
    "file = open('basic.txt', 'r')\n",
    "for line in file.readlines():\n",
    "    print(line)\n",
    "file.close()"
   ]
  },
  {
   "cell_type": "code",
   "execution_count": 17,
   "id": "1a3b8a6d",
   "metadata": {},
   "outputs": [
    {
     "name": "stdout",
     "output_type": "stream",
     "text": [
      "H\te\tl\tl\to\t \tP\ty\tt\th\to\tn\t \tP\tr\to\tg\ta\tm\tm\ti\tn\tg\t!\t!\t\n",
      "\t"
     ]
    }
   ],
   "source": [
    "file = open('basic.txt', 'r')\n",
    "content = file.readline()\n",
    "for char in content:\n",
    "    print(char, end = '\\t')\n",
    "file.close()"
   ]
  },
  {
   "cell_type": "code",
   "execution_count": 20,
   "id": "3c7f0046",
   "metadata": {},
   "outputs": [
    {
     "name": "stdout",
     "output_type": "stream",
     "text": [
      "Hello Python Progamming!!\n",
      "\n",
      "<class '_io.TextIOWrapper'>\n"
     ]
    }
   ],
   "source": [
    "# 파일을 open한 뒤 작업 후 자동 close\n",
    "# with open(파일명, 모드) as 변수:\n",
    "#     변수.(동작)\n",
    "with open('basic.txt', 'r') as file:\n",
    "    content = file.readline()\n",
    "print(content)"
   ]
  },
  {
   "cell_type": "code",
   "execution_count": 34,
   "id": "15bfb7d7",
   "metadata": {},
   "outputs": [],
   "source": [
    "# 331p 랜덤하게 1000명의 키와 몸무게 만들기\n",
    "import random as rd\n",
    "\n",
    "# 한글 리스트\n",
    "hangul = list(\"가나다라마바사아자카타파타하\")\n",
    "\n",
    "# 파일을 쓰기 모드로 open : info.txt\n",
    "with open('info.txt', 'w') as file:\n",
    "    for i in range(1000):\n",
    "        name = rd.choice(hangul) + rd.choice(hangul)\n",
    "        weight = rd.randrange(40, 100)\n",
    "        height = rd.randrange(140, 200)\n",
    "        file.write(f'{name}, {weight}, {height}\\n')\n"
   ]
  },
  {
   "cell_type": "code",
   "execution_count": 38,
   "id": "99bd991b",
   "metadata": {},
   "outputs": [
    {
     "name": "stdout",
     "output_type": "stream",
     "text": [
      "하다 : 93, 164\n",
      "사마 : 86, 161\n",
      "아마 : 90, 172\n",
      "자바 : 95, 154\n",
      "타나 : 85, 164\n",
      "바나 : 83, 170\n",
      "나마 : 84, 145\n",
      "아가 : 86, 140\n",
      "가아 : 91, 148\n",
      "가파 : 90, 147\n",
      "마다 : 83, 153\n",
      "카자 : 94, 174\n",
      "자마 : 86, 187\n",
      "나라 : 95, 170\n",
      "가타 : 83, 157\n",
      "다타 : 97, 197\n",
      "타다 : 89, 145\n",
      "파하 : 90, 166\n",
      "파나 : 92, 147\n",
      "아바 : 84, 183\n",
      "나바 : 95, 175\n",
      "자다 : 87, 146\n",
      "타자 : 97, 167\n",
      "바타 : 88, 199\n",
      "다아 : 95, 160\n",
      "바가 : 95, 197\n",
      "가라 : 97, 157\n",
      "자바 : 89, 198\n",
      "사파 : 92, 150\n",
      "자마 : 85, 147\n",
      "타타 : 97, 145\n",
      "나자 : 98, 161\n",
      "카라 : 84, 161\n",
      "라자 : 91, 151\n",
      "카사 : 92, 184\n",
      "라사 : 89, 178\n",
      "카다 : 83, 166\n",
      "다파 : 86, 182\n",
      "타아 : 87, 179\n",
      "사타 : 99, 191\n",
      "타나 : 92, 170\n",
      "타타 : 93, 157\n",
      "파마 : 90, 193\n",
      "나가 : 89, 143\n",
      "나사 : 94, 197\n",
      "파아 : 84, 179\n",
      "자자 : 99, 142\n",
      "사하 : 81, 190\n",
      "아하 : 85, 175\n",
      "자마 : 91, 141\n",
      "마카 : 85, 140\n",
      "마사 : 86, 156\n",
      "가자 : 95, 169\n",
      "나사 : 88, 160\n",
      "바타 : 93, 164\n",
      "다카 : 96, 166\n",
      "사사 : 82, 163\n",
      "다사 : 82, 165\n",
      "사마 : 81, 146\n",
      "가가 : 85, 171\n",
      "라마 : 92, 141\n",
      "가카 : 88, 152\n",
      "다마 : 85, 179\n",
      "가하 : 86, 164\n",
      "타다 : 97, 171\n",
      "타카 : 93, 194\n",
      "라나 : 92, 174\n",
      "라타 : 83, 144\n",
      "사다 : 93, 180\n",
      "라파 : 86, 153\n",
      "다나 : 84, 189\n",
      "바사 : 83, 168\n",
      "파마 : 90, 161\n",
      "파자 : 81, 170\n",
      "카바 : 96, 181\n",
      "라다 : 94, 195\n",
      "라아 : 85, 196\n",
      "라아 : 98, 157\n",
      "바바 : 94, 146\n",
      "가마 : 82, 149\n",
      "바파 : 84, 144\n",
      "나파 : 82, 193\n",
      "나사 : 84, 182\n",
      "바아 : 97, 168\n",
      "자하 : 88, 154\n",
      "바바 : 96, 151\n",
      "타마 : 84, 158\n",
      "라라 : 96, 142\n",
      "타가 : 81, 161\n",
      "파아 : 98, 186\n",
      "타카 : 93, 180\n",
      "파파 : 94, 199\n",
      "카자 : 90, 180\n",
      "나다 : 84, 198\n",
      "사마 : 95, 152\n",
      "가다 : 88, 189\n",
      "가바 : 81, 179\n",
      "타타 : 94, 158\n",
      "타하 : 90, 142\n",
      "카자 : 89, 188\n",
      "파카 : 90, 170\n",
      "하카 : 84, 196\n",
      "사타 : 86, 187\n",
      "자라 : 93, 191\n",
      "하파 : 89, 152\n",
      "라자 : 87, 183\n",
      "가타 : 90, 195\n",
      "타바 : 88, 168\n",
      "타파 : 94, 158\n",
      "타자 : 99, 172\n",
      "자마 : 96, 141\n",
      "카마 : 83, 140\n",
      "사아 : 89, 178\n",
      "파하 : 85, 143\n",
      "마타 : 83, 174\n",
      "타사 : 96, 155\n",
      "나자 : 96, 153\n",
      "사카 : 88, 198\n",
      "사라 : 96, 179\n",
      "타아 : 91, 140\n",
      "자자 : 83, 199\n",
      "다아 : 92, 176\n",
      "사타 : 81, 142\n",
      "사마 : 96, 162\n",
      "마라 : 96, 159\n",
      "카타 : 81, 186\n",
      "라하 : 99, 164\n",
      "라아 : 92, 175\n",
      "사타 : 87, 144\n",
      "나카 : 98, 158\n",
      "바자 : 86, 181\n",
      "다사 : 94, 153\n",
      "라자 : 81, 153\n",
      "아나 : 87, 160\n",
      "하카 : 96, 155\n",
      "바타 : 88, 152\n",
      "마아 : 95, 158\n",
      "하타 : 92, 150\n",
      "가파 : 84, 199\n",
      "나나 : 93, 140\n",
      "카사 : 98, 157\n",
      "바사 : 84, 142\n",
      "타사 : 81, 162\n",
      "타바 : 92, 171\n",
      "바마 : 91, 141\n",
      "파타 : 88, 198\n",
      "아타 : 93, 188\n",
      "타아 : 90, 153\n",
      "아라 : 96, 175\n",
      "카파 : 81, 155\n",
      "파나 : 96, 199\n",
      "마타 : 89, 164\n",
      "다사 : 92, 145\n",
      "나바 : 82, 193\n",
      "타자 : 87, 154\n",
      "가자 : 99, 153\n",
      "카다 : 89, 178\n",
      "파하 : 94, 147\n",
      "가마 : 95, 141\n",
      "마카 : 93, 188\n",
      "나타 : 82, 174\n",
      "자아 : 97, 146\n",
      "타자 : 97, 160\n",
      "타바 : 87, 187\n",
      "카파 : 84, 159\n",
      "가아 : 97, 164\n",
      "가가 : 97, 161\n",
      "다마 : 91, 162\n",
      "마타 : 94, 145\n",
      "자다 : 97, 175\n",
      "라타 : 85, 174\n",
      "아카 : 92, 155\n",
      "파아 : 98, 150\n",
      "아파 : 97, 184\n",
      "파파 : 87, 186\n",
      "카마 : 82, 154\n",
      "아라 : 98, 173\n",
      "파라 : 98, 163\n",
      "가가 : 94, 190\n",
      "자가 : 86, 193\n",
      "나나 : 97, 197\n",
      "라사 : 95, 158\n",
      "카카 : 92, 140\n",
      "라나 : 93, 175\n",
      "바파 : 82, 174\n",
      "바가 : 88, 176\n",
      "바마 : 88, 143\n",
      "바파 : 86, 144\n",
      "아아 : 91, 180\n",
      "가타 : 90, 171\n",
      "가아 : 97, 197\n",
      "마카 : 82, 179\n",
      "라마 : 97, 168\n",
      "타다 : 93, 180\n",
      "카가 : 96, 142\n",
      "다가 : 89, 194\n",
      "카타 : 93, 183\n",
      "카아 : 85, 155\n",
      "마가 : 99, 182\n",
      "마카 : 93, 163\n",
      "라카 : 98, 154\n",
      "타하 : 97, 198\n",
      "가파 : 90, 177\n",
      "아아 : 97, 165\n",
      "다바 : 87, 165\n",
      "다타 : 87, 143\n",
      "나라 : 96, 194\n",
      "나사 : 85, 185\n",
      "하가 : 84, 178\n",
      "파타 : 87, 174\n",
      "가바 : 87, 162\n",
      "라바 : 89, 149\n",
      "가나 : 91, 192\n",
      "라아 : 97, 173\n",
      "바하 : 83, 146\n",
      "라라 : 97, 144\n",
      "타사 : 92, 163\n",
      "라아 : 82, 157\n",
      "타아 : 96, 150\n",
      "타마 : 96, 177\n",
      "타사 : 85, 178\n",
      "사파 : 90, 151\n",
      "카가 : 81, 182\n",
      "타자 : 92, 162\n",
      "바카 : 88, 153\n",
      "하타 : 98, 194\n",
      "타바 : 86, 147\n",
      "사하 : 96, 147\n",
      "바사 : 83, 147\n",
      "카파 : 85, 196\n",
      "바라 : 81, 198\n",
      "사타 : 91, 148\n",
      "마라 : 87, 198\n",
      "타타 : 86, 173\n",
      "타바 : 83, 168\n",
      "하나 : 98, 161\n",
      "나자 : 89, 182\n",
      "카나 : 81, 151\n",
      "타라 : 82, 199\n",
      "가다 : 83, 145\n",
      "마자 : 91, 179\n",
      "나라 : 98, 144\n",
      "파사 : 85, 171\n",
      "카타 : 86, 170\n",
      "타자 : 86, 150\n",
      "파파 : 91, 180\n",
      "바아 : 98, 148\n",
      "아가 : 88, 165\n",
      "아자 : 83, 172\n",
      "타사 : 94, 147\n",
      "나아 : 84, 190\n",
      "나하 : 86, 174\n",
      "하나 : 90, 194\n",
      "하타 : 91, 151\n",
      "다마 : 92, 194\n",
      "나하 : 95, 150\n",
      "카라 : 93, 156\n",
      "타다 : 94, 169\n",
      "하다 : 85, 140\n",
      "다사 : 99, 176\n",
      "라타 : 96, 140\n",
      "카라 : 82, 147\n",
      "하타 : 91, 156\n",
      "하라 : 93, 197\n",
      "바바 : 90, 160\n",
      "사파 : 88, 182\n",
      "마아 : 91, 140\n",
      "마가 : 88, 182\n",
      "아카 : 96, 151\n",
      "가가 : 88, 187\n",
      "사나 : 97, 163\n",
      "카카 : 84, 182\n",
      "아가 : 91, 141\n",
      "자마 : 82, 188\n",
      "사다 : 97, 183\n",
      "다사 : 91, 154\n",
      "타아 : 97, 175\n",
      "바가 : 83, 176\n",
      "파하 : 82, 160\n",
      "타사 : 92, 148\n",
      "마자 : 85, 151\n",
      "아하 : 86, 194\n",
      "다타 : 82, 151\n",
      "하카 : 94, 159\n",
      "하가 : 84, 173\n",
      "가카 : 81, 186\n",
      "자파 : 97, 159\n",
      "바타 : 87, 174\n",
      "하타 : 85, 140\n",
      "카라 : 81, 166\n",
      "카파 : 85, 161\n",
      "다라 : 85, 165\n",
      "파하 : 85, 157\n",
      "아타 : 83, 152\n",
      "파하 : 84, 198\n",
      "타가 : 96, 164\n",
      "마타 : 98, 170\n",
      "하카 : 82, 156\n",
      "하하 : 98, 159\n",
      "나사 : 82, 157\n",
      "카가 : 94, 189\n",
      "마바 : 86, 195\n",
      "타다 : 81, 144\n",
      "아카 : 87, 185\n",
      "라나 : 84, 152\n",
      "다나 : 98, 177\n",
      "라나 : 81, 141\n",
      "바마 : 85, 160\n",
      "나라 : 83, 174\n",
      "타하 : 83, 165\n",
      "마하 : 98, 149\n",
      "하다 : 89, 175\n",
      "가카 : 85, 155\n",
      "하파 : 85, 173\n",
      "카타 : 89, 171\n",
      "몸무게가 80 초과인 인원 수 :  315\n"
     ]
    }
   ],
   "source": [
    "# file을 읽어 화면에 출력\n",
    "file = open('info.txt', 'r+')\n",
    "cnt = 0\n",
    "for line in file:\n",
    "    if len(line.split()) < 3:\n",
    "        continue\n",
    "    name, weight, height = line.strip().split(', ')\n",
    "    if int(weight) > 80:\n",
    "        cnt += 1\n",
    "        print(f'{name} : {weight}, {height}')\n",
    "print(f'몸무게가 80 초과인 인원 수 : ', cnt)\n",
    "file.write('end\\n')\n",
    "file.close()"
   ]
  },
  {
   "cell_type": "code",
   "execution_count": 46,
   "id": "d2154682",
   "metadata": {},
   "outputs": [
    {
     "name": "stdout",
     "output_type": "stream",
     "text": [
      "D point\n",
      "A point\n",
      "1\n",
      "E point\n",
      "B point\n",
      "2\n",
      "F point\n",
      "C point\n",
      "3\n"
     ]
    }
   ],
   "source": [
    "# 제너레이터 함수 : 함수 내부에 yield 키워드가 존재하면 제너레이터 함수\n",
    "def test():\n",
    "    print('A point')\n",
    "    yield 1\n",
    "    print('B point')\n",
    "    yield 2\n",
    "    print('C point')\n",
    "    yield 3\n",
    "\n",
    "output = test()\n",
    "print('D point')\n",
    "a = next(output)\n",
    "print(a)\n",
    "print('E point')\n",
    "a = next(output)\n",
    "print(a)\n",
    "print('F point')\n",
    "a = next(output)\n",
    "print(a)"
   ]
  },
  {
   "cell_type": "code",
   "execution_count": 50,
   "id": "17ff3d80",
   "metadata": {},
   "outputs": [
    {
     "name": "stdout",
     "output_type": "stream",
     "text": [
      "# 가장 저렴한 책\n",
      "{'제목': '혼자 공부하는 머신러닝', '가격': 18000}\n",
      "\n",
      "# 가장 비싼 책\n",
      "{'제목': '혼공파', '가격': 25000}\n",
      "\n",
      "\n",
      "# 가장 저렴한 책\n",
      "{'제목': '혼자 공부하는 머신러닝', '가격': 18000}\n",
      "\n",
      "# 가장 비싼 책\n",
      "{'제목': '혼공파', '가격': 25000}\n"
     ]
    }
   ],
   "source": [
    "books = [{'제목':'혼자 공부하는 파이썬', '가격' : 20000},\n",
    "         {'제목':'혼자 공부하는 머신러닝', '가격' : 18000},\n",
    "         {'제목':'혼공파', '가격' : 25000},\n",
    "        ]\n",
    "def 가격추출함수(book):\n",
    "    return book[\"가격\"]\n",
    "\n",
    "print('# 가장 저렴한 책')\n",
    "print(min(books, key=가격추출함수))\n",
    "print()\n",
    "\n",
    "print('# 가장 비싼 책')\n",
    "print(max(books, key=가격추출함수))\n",
    "print()\n",
    "print()\n",
    "\n",
    "print('# 가장 저렴한 책')\n",
    "print(min(books, key=lambda x:x['가격']))\n",
    "print()\n",
    "\n",
    "print('# 가장 비싼 책')\n",
    "print(max(books, key=lambda x:x['가격']))"
   ]
  },
  {
   "cell_type": "code",
   "execution_count": 55,
   "id": "ac5623e8",
   "metadata": {},
   "outputs": [
    {
     "name": "stdout",
     "output_type": "stream",
     "text": [
      "1::2::3::4::5::6\n"
     ]
    }
   ],
   "source": [
    "numbers = [1,2,3,4,5,6]\n",
    "print(\"::\".join(map(str, numbers)))"
   ]
  },
  {
   "cell_type": "markdown",
   "id": "850a459d",
   "metadata": {},
   "source": [
    "# 예외 처리"
   ]
  },
  {
   "cell_type": "code",
   "execution_count": null,
   "id": "2c7430d5",
   "metadata": {
    "collapsed": true
   },
   "outputs": [],
   "source": []
  },
  {
   "cell_type": "code",
   "execution_count": 63,
   "id": "0f94a4a9",
   "metadata": {},
   "outputs": [
    {
     "name": "stdout",
     "output_type": "stream",
     "text": [
      "정수 입력 -> 1\n",
      "1 * 1 = 1\n",
      "try end\n"
     ]
    }
   ],
   "source": [
    "# try: 예외 발생 가능 코드 except: 예외 발생시 처리 코드\n",
    "#    else: 정상일 때 실행 코드\n",
    "#    finally : 무조건 실행\n",
    "while True:\n",
    "    try:\n",
    "        num = int(input('정수 입력 -> '))\n",
    "    except:\n",
    "        print('정수 입력')\n",
    "    else:\n",
    "        print(f'{num} * {num} = {num * num}')\n",
    "        break\n",
    "    finally:\n",
    "        print('try end')"
   ]
  },
  {
   "cell_type": "code",
   "execution_count": 62,
   "id": "d3c00dba",
   "metadata": {},
   "outputs": [
    {
     "name": "stdout",
     "output_type": "stream",
     "text": [
      "test func start ----\n",
      "try start ----\n",
      "except start ---- name 'name' is not defined\n",
      "finally start ----\n"
     ]
    }
   ],
   "source": [
    "def test():\n",
    "    print('test func start ----')\n",
    "    try:\n",
    "        print('try start ----')\n",
    "        print(name)\n",
    "        return\n",
    "    except Exception as e:\n",
    "        print('except start ----', e)\n",
    "    finally:\n",
    "        print('finally start ----')\n",
    "\n",
    "test()"
   ]
  },
  {
   "cell_type": "code",
   "execution_count": null,
   "id": "6cdb1daa",
   "metadata": {},
   "outputs": [],
   "source": []
  },
  {
   "cell_type": "code",
   "execution_count": 67,
   "id": "bcb3784f",
   "metadata": {},
   "outputs": [
    {
     "name": "stdout",
     "output_type": "stream",
     "text": [
      "숫자 입력 -> 1\n",
      "1 번째 요소 33\n"
     ]
    },
    {
     "ename": "NotImplementedError",
     "evalue": "",
     "output_type": "error",
     "traceback": [
      "\u001b[1;31m---------------------------------------------------------------------------\u001b[0m",
      "\u001b[1;31mNotImplementedError\u001b[0m                       Traceback (most recent call last)",
      "\u001b[1;32m~\\AppData\\Local\\Temp\\ipykernel_9476\\146000217.py\u001b[0m in \u001b[0;36m<module>\u001b[1;34m\u001b[0m\n\u001b[0;32m     15\u001b[0m     \u001b[0mprint\u001b[0m\u001b[1;33m(\u001b[0m\u001b[1;34m'파악이 안된 에러 '\u001b[0m\u001b[1;33m,\u001b[0m \u001b[0me\u001b[0m\u001b[1;33m)\u001b[0m\u001b[1;33m\u001b[0m\u001b[1;33m\u001b[0m\u001b[0m\n\u001b[0;32m     16\u001b[0m \u001b[1;32melse\u001b[0m\u001b[1;33m:\u001b[0m\u001b[1;33m\u001b[0m\u001b[1;33m\u001b[0m\u001b[0m\n\u001b[1;32m---> 17\u001b[1;33m     \u001b[1;32mraise\u001b[0m \u001b[0mNotImplementedError\u001b[0m\u001b[1;33m\u001b[0m\u001b[1;33m\u001b[0m\u001b[0m\n\u001b[0m",
      "\u001b[1;31mNotImplementedError\u001b[0m: "
     ]
    }
   ],
   "source": [
    "list_a = [53, 33, 55, 88, 99]\n",
    "\n",
    "# try ~ except 구문을 활용하여 예외 처리\n",
    "\n",
    "try:\n",
    "    # 숫자 입력\n",
    "    num = int(input('숫자 입력 -> '))\n",
    "    print(f'{num} 번째 요소 {list_a[num]}')\n",
    "    # print(test1234)\n",
    "except ValueError as e:\n",
    "    print('정수 입력 ', e)\n",
    "except IndexError as e:\n",
    "    print('범위 벗어남 ', e)\n",
    "except Exception as e:\n",
    "    print('파악이 안된 에러 ', e)\n",
    "else:\n",
    "    raise NotImplementedError"
   ]
  },
  {
   "cell_type": "code",
   "execution_count": null,
   "id": "cb965656",
   "metadata": {},
   "outputs": [],
   "source": []
  },
  {
   "cell_type": "code",
   "execution_count": null,
   "id": "907864be",
   "metadata": {},
   "outputs": [],
   "source": []
  },
  {
   "cell_type": "code",
   "execution_count": null,
   "id": "bc0394a9",
   "metadata": {},
   "outputs": [],
   "source": []
  },
  {
   "cell_type": "code",
   "execution_count": null,
   "id": "87652d7f",
   "metadata": {},
   "outputs": [],
   "source": []
  },
  {
   "cell_type": "code",
   "execution_count": null,
   "id": "843a7e39",
   "metadata": {},
   "outputs": [],
   "source": []
  },
  {
   "cell_type": "code",
   "execution_count": null,
   "id": "bcfbd3b0",
   "metadata": {},
   "outputs": [],
   "source": []
  },
  {
   "cell_type": "code",
   "execution_count": null,
   "id": "3fdbf86b",
   "metadata": {},
   "outputs": [],
   "source": []
  },
  {
   "cell_type": "code",
   "execution_count": null,
   "id": "44e9a895",
   "metadata": {},
   "outputs": [],
   "source": []
  },
  {
   "cell_type": "code",
   "execution_count": null,
   "id": "e7ddd4ec",
   "metadata": {},
   "outputs": [],
   "source": []
  },
  {
   "cell_type": "code",
   "execution_count": null,
   "id": "642e81db",
   "metadata": {},
   "outputs": [],
   "source": []
  },
  {
   "cell_type": "code",
   "execution_count": null,
   "id": "e9d682aa",
   "metadata": {},
   "outputs": [],
   "source": []
  },
  {
   "cell_type": "code",
   "execution_count": null,
   "id": "a772c461",
   "metadata": {},
   "outputs": [],
   "source": []
  },
  {
   "cell_type": "code",
   "execution_count": null,
   "id": "2cf21ab9",
   "metadata": {},
   "outputs": [],
   "source": []
  },
  {
   "cell_type": "code",
   "execution_count": null,
   "id": "81615abf",
   "metadata": {},
   "outputs": [],
   "source": []
  },
  {
   "cell_type": "code",
   "execution_count": null,
   "id": "659592d3",
   "metadata": {},
   "outputs": [],
   "source": []
  },
  {
   "cell_type": "code",
   "execution_count": null,
   "id": "eaba1558",
   "metadata": {},
   "outputs": [],
   "source": []
  },
  {
   "cell_type": "code",
   "execution_count": null,
   "id": "e55cc050",
   "metadata": {},
   "outputs": [],
   "source": []
  },
  {
   "cell_type": "code",
   "execution_count": null,
   "id": "7b5ad5a0",
   "metadata": {},
   "outputs": [],
   "source": []
  }
 ],
 "metadata": {
  "kernelspec": {
   "display_name": "Python 3 (ipykernel)",
   "language": "python",
   "name": "python3"
  },
  "language_info": {
   "codemirror_mode": {
    "name": "ipython",
    "version": 3
   },
   "file_extension": ".py",
   "mimetype": "text/x-python",
   "name": "python",
   "nbconvert_exporter": "python",
   "pygments_lexer": "ipython3",
   "version": "3.9.13"
  }
 },
 "nbformat": 4,
 "nbformat_minor": 5
}
