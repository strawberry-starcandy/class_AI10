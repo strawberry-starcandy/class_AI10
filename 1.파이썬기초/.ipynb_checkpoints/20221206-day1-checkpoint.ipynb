{
 "cells": [
  {
   "cell_type": "markdown",
   "id": "e3edcc2d",
   "metadata": {},
   "source": [
    "# Chapter02"
   ]
  },
  {
   "cell_type": "code",
   "execution_count": 1,
   "id": "7ba3fbce",
   "metadata": {
    "scrolled": false
   },
   "outputs": [
    {
     "name": "stdout",
     "output_type": "stream",
     "text": [
      "원주의 넓이:  314.0\n",
      "원의 둘레:  62.800000000000004\n"
     ]
    }
   ],
   "source": [
    "pi = 3.14\n",
    "r = 10\n",
    "\n",
    "print('원주의 넓이: ', pi * r**2)\n",
    "print('원의 둘레: ', pi * r * 2)"
   ]
  },
  {
   "cell_type": "code",
   "execution_count": 5,
   "id": "a30a01d1",
   "metadata": {},
   "outputs": [
    {
     "name": "stdout",
     "output_type": "stream",
     "text": [
      "입력하세요 test\n",
      "test <class 'str'>\n"
     ]
    }
   ],
   "source": [
    "## input() 함수 : 사용자가 키보드로 입력하는 내용을 받는 함수\n",
    "input_var = input('입력하세요 ')\n",
    "print(input_var, type(input_var))"
   ]
  },
  {
   "cell_type": "code",
   "execution_count": 8,
   "id": "128394c0",
   "metadata": {},
   "outputs": [
    {
     "name": "stdout",
     "output_type": "stream",
     "text": [
      "숫자1 입력 : 2\n",
      "숫자2 입력 : 4\n",
      "2  +  4  =  6\n"
     ]
    }
   ],
   "source": [
    "# 두 개의 숫자를 입력 받아 두 수를 더하는 프로그램 작성\n",
    "input_num1 = input(\"숫자1 입력 : \")\n",
    "input_num2 = input(\"숫자2 입력 : \")\n",
    "\n",
    "print(input_num1, \" + \", input_num2, ' = ', int(input_num1) + int(input_num2))"
   ]
  },
  {
   "cell_type": "code",
   "execution_count": 9,
   "id": "d310f911",
   "metadata": {},
   "outputs": [
    {
     "name": "stdout",
     "output_type": "stream",
     "text": [
      "숫자1 입력 : 55\n",
      "숫자2 입력 : 44\n",
      "55  +  44  =  99\n"
     ]
    }
   ],
   "source": [
    "# 두 개의 숫자를 입력 받아 두 수를 더하는 프로그램 작성\n",
    "input_num1 = int(input(\"숫자1 입력 : \"))\n",
    "input_num2 = int(input(\"숫자2 입력 : \"))\n",
    "\n",
    "print(input_num1, \" + \", input_num2, ' = ', input_num1 + input_num2)"
   ]
  },
  {
   "cell_type": "code",
   "execution_count": 25,
   "id": "e1ddf2b4",
   "metadata": {},
   "outputs": [
    {
     "name": "stdout",
     "output_type": "stream",
     "text": [
      "숫자1 입력 : 5\n",
      "숫자2 입력 : 2\n",
      "5  +  2  =  7\n",
      "5  -  2  =  3\n",
      "5  *  2  =  10\n",
      "5  /  2  =  2.5\n",
      "5  //  2  =  2\n",
      "5  %  2  =  1\n",
      "\n",
      "5 + 2 = 7\n",
      "5 - 2 = 3\n",
      "5 * 2 = 10\n",
      "5 / 2 = 2.50000\n",
      "5 // 2 = 2\n",
      "5 % 2 = 1\n"
     ]
    }
   ],
   "source": [
    "# 두 수를 입력받아 두 수의 합, 차, 곱, 나누기, 몫, 나머지값을 구하세요\n",
    "\n",
    "input_num1 = int(input(\"숫자1 입력 : \"))\n",
    "input_num2 = int(input(\"숫자2 입력 : \"))\n",
    "\n",
    "print(input_num1, \" + \", input_num2, ' = ', input_num1 + input_num2)\n",
    "print(input_num1, \" - \", input_num2, ' = ', input_num1 - input_num2)\n",
    "print(input_num1, \" * \", input_num2, ' = ', input_num1 * input_num2)\n",
    "print(input_num1, \" / \", input_num2, ' = ', input_num1 / input_num2)\n",
    "print(input_num1, \" // \", input_num2, ' = ', input_num1 // input_num2)\n",
    "print(input_num1, \" % \", input_num2, ' = ', input_num1 % input_num2)\n",
    "print()\n",
    "\n",
    "print(f'{input_num1} + {input_num2} = {input_num1 + input_num2}')\n",
    "print(f'{input_num1} - {input_num2} = {input_num1 - input_num2}')\n",
    "print(f'{input_num1} * {input_num2} = {input_num1 * input_num2}')\n",
    "print(f'{input_num1} / {input_num2} = {input_num1 / input_num2:.5f}')\n",
    "print(f'{input_num1} // {input_num2} = {input_num1 // input_num2}')\n",
    "print(f'{input_num1} % {input_num2} = {input_num1 % input_num2}')\n"
   ]
  },
  {
   "cell_type": "code",
   "execution_count": 35,
   "id": "fac204a6",
   "metadata": {},
   "outputs": [
    {
     "name": "stdout",
     "output_type": "stream",
     "text": [
      "Insert Text: 3.2 + 2.2\n",
      "['3.2', '+', '2.2']\n",
      "0\n"
     ]
    }
   ],
   "source": [
    "str_input = input('Insert Text: ').split(' ')\n",
    "print(str_input)\n",
    "\n",
    "op = '+'\n",
    "ans = 0.0\n",
    "\n",
    "for s in str_input:\n",
    "    if s.isnumeric() or (s[0] == '-' and s[1:].isnumeric()):\n",
    "        i = float(s)\n",
    "        \n",
    "        if op  == '+':\n",
    "            ans += i\n",
    "        elif op == '-':\n",
    "            ans -= i\n",
    "        elif op == '*':\n",
    "            ans *= i\n",
    "        elif op == '/':\n",
    "            ans /= i\n",
    "    elif s in '+-*/':\n",
    "        op = s    \n",
    "print(f'{ans:g}')"
   ]
  },
  {
   "cell_type": "code",
   "execution_count": 63,
   "id": "0167c05d",
   "metadata": {},
   "outputs": [
    {
     "name": "stdout",
     "output_type": "stream",
     "text": [
      "HELLO PYTHON PROGRAMMING ..\n",
      "hello python programming ..\n",
      "False\n",
      "True\n",
      "True\n"
     ]
    }
   ],
   "source": [
    "a = 'Hello Python Programming ..'\n",
    "print(a.upper())\n",
    "print(a.lower())\n",
    "\n",
    "print(a.isupper())\n",
    "\n",
    "print(a.upper().isupper())\n"
   ]
  },
  {
   "cell_type": "code",
   "execution_count": 4,
   "id": "c03842b1",
   "metadata": {},
   "outputs": [
    {
     "name": "stdout",
     "output_type": "stream",
     "text": [
      "False\n",
      "3\n",
      "31\n"
     ]
    }
   ],
   "source": [
    "# 문자열.upper(), 문자열.lower(), 문자열.strip(), 문자열.is00() True False\n",
    "# 문자열.find('문자열') -> 인덱스 반환, 문자열.rfind(문자열) -> 뒤에서 부터 검색\n",
    "\n",
    "'123'.isnumeric()\n",
    "\n",
    "print('!! Hello Python Programming .. Hello !!'.isnumeric())\n",
    "print('!! Hello Python Programming .. Hello !!'.find('H'))\n",
    "print('!! Hello Python Programming .. Hello !!'.rfind('H'))"
   ]
  },
  {
   "cell_type": "code",
   "execution_count": 5,
   "id": "edf3c246",
   "metadata": {},
   "outputs": [
    {
     "name": "stdout",
     "output_type": "stream",
     "text": [
      "True\n",
      "False\n",
      "True\n",
      "False\n"
     ]
    }
   ],
   "source": [
    "# in 연산자 -> 문자 in 문자열 -> True, False\n",
    "a_str = 'Hello Python Programming .. Hello 123 '\n",
    "\n",
    "print('Hello' in a_str)\n",
    "print('test' in a_str)\n",
    "print('123' in a_str)"
   ]
  },
  {
   "cell_type": "code",
   "execution_count": 16,
   "id": "19d526b0",
   "metadata": {},
   "outputs": [
    {
     "name": "stdout",
     "output_type": "stream",
     "text": [
      "세 수를 입력 12 2 3\n",
      "12 + 2 + 3 = 17\n"
     ]
    }
   ],
   "source": [
    "# 문자열 자르기 : 문자열.split(), 공백, 문자열.split(',')\n",
    "# 세 개의 숫자를 한꺼번에 입력 받아 세 수의 합과 곱을 구하세요\n",
    "\n",
    "입력 = input(\"세 수를 입력 \")\n",
    "\n",
    "if 입력.count(' ') >= 2:\n",
    "    숫자1, 숫자2, 숫자3 = 입력.split()\n",
    "    print(f'{숫자1} + {숫자2} + {숫자3} = {int(숫자1) + int(숫자2) + int(숫자3)}')"
   ]
  },
  {
   "cell_type": "code",
   "execution_count": 17,
   "id": "26c90263",
   "metadata": {},
   "outputs": [
    {
     "name": "stdout",
     "output_type": "stream",
     "text": [
      "<class 'str'>\n",
      "3\n"
     ]
    }
   ],
   "source": [
    "# 문자열 -> 클래스 함수 : 문자열.함수명()\n",
    "a_str = 'abc'\n",
    "print(type(a_str))\n",
    "print(len(a_str))"
   ]
  },
  {
   "cell_type": "markdown",
   "id": "af42993c",
   "metadata": {},
   "source": [
    "# Chap03 조건문\n",
    "## chap03-1 불 자료형과 if 조건문"
   ]
  },
  {
   "cell_type": "code",
   "execution_count": 21,
   "id": "c1888e6f",
   "metadata": {},
   "outputs": [
    {
     "name": "stdout",
     "output_type": "stream",
     "text": [
      "True 출력\n"
     ]
    }
   ],
   "source": [
    "if True:\n",
    "    print(\"True 출력\")\n",
    "    \n",
    "if False:\n",
    "    print(\"False 출력\")"
   ]
  },
  {
   "cell_type": "code",
   "execution_count": 27,
   "id": "15be1e45",
   "metadata": {},
   "outputs": [
    {
     "name": "stdout",
     "output_type": "stream",
     "text": [
      "두 수 입력: -2 2\n",
      "입력된 자료는 숫자 아님\n"
     ]
    }
   ],
   "source": [
    "# 두 수를 입력 받아 두 수가 숫자이면 숫자로 변환 후 두수의 합을 구하세요\n",
    "# 두 수가 숫자가 아니면 '입력된 자료는 숫자 아님'을 출력\n",
    "# 1. 두 수 입력 받음\n",
    "# 2. 두 수가 모두 숫자인지 확인\n",
    "# 3. 두 수가 모두 숫자이면 합을 출력\n",
    "# 4. 두 수중에 하나라도 숫자가 아니면 메세지 출력\n",
    "\n",
    "num1, num2 = input('두 수 입력-> ').split()\n",
    "\n",
    "if (num1.isnumeric() or ((num1[0] == '-' or num1 and num2.isnumeric():\n",
    "    print(f'{num1} + {num2} = {int(num1) + int(num2)}')\n",
    "else:\n",
    "    print('입력된 자료는 숫자 아님')"
   ]
  },
  {
   "cell_type": "code",
   "execution_count": 48,
   "id": "bf4bb5d7",
   "metadata": {},
   "outputs": [
    {
     "name": "stdout",
     "output_type": "stream",
     "text": [
      "정수 입력-> 12312313132\n",
      "12312313132는 짝수\n",
      "12312313132는 짝수\n"
     ]
    }
   ],
   "source": [
    "# 정수를 입력받아 입력받은 정수가 짝수인지 홀수인지 출력하세요\n",
    "# 1. 정수 입력\n",
    "num = input('정수 입력-> ')\n",
    "\n",
    "# 2. 마지막 문자가 '24680' 또는 '13579'\n",
    "if not num.isdecimal():\n",
    "    print('정수를 입력하세요')\n",
    "elif num[-1] in '24680':\n",
    "    print(f'{num}는 짝수')\n",
    "else:\n",
    "    print(f'{num}는 홀수')\n",
    "          \n",
    "# 2-1. 숫자로 변환한 후 2로 나눈 나머지 값이 1이면 홀수, 0이면 짝수\n",
    "odd = int(num) % 2\n",
    "if not num.isdecimal():\n",
    "    print('정수를 입력하세요')\n",
    "elif odd == 0:\n",
    "    print(f'{num}는 짝수')\n",
    "else:\n",
    "    print(f'{num}는 홀수')"
   ]
  },
  {
   "cell_type": "code",
   "execution_count": 59,
   "id": "c9cd189d",
   "metadata": {},
   "outputs": [
    {
     "name": "stdout",
     "output_type": "stream",
     "text": [
      "Insert Text: 123 / 3\n",
      "123/3 = 41.0\n"
     ]
    }
   ],
   "source": [
    "# 수식을 입력 받아 계산식과 결과를 출력하세요\n",
    "# 10 + 20 -> 10 + 20 = 30\n",
    "# 10 * 20 -> 10 * 20 = 200\n",
    "# 1. 수식을 입력받아 두 수와 부호로 분리\n",
    "# 2. 두 수가 숫자가 맞는지 확인\n",
    "# 3. 부호가 '+, -, *, /' 중에 있는지 확인\n",
    "# 4. 모든 조건이 맞으면 계산식과 결과 출력\n",
    "\n",
    "str_input = input('Insert Text: ')\n",
    "num1, op, num2 = str_input.split();\n",
    "\n",
    "if not (num1.isnumeric() and num2.isnumeric()):\n",
    "    print('숫자 입력이 아님')\n",
    "elif op and op in '+-*/':\n",
    "    ans = 0.0\n",
    "    if op == '+':\n",
    "        ans = float(num1) + float(num2)\n",
    "    elif op == '-':\n",
    "        ans = float(num1) - float(num2)\n",
    "    elif op == '*':\n",
    "        ans = float(num1) * float(num2)\n",
    "    elif op == '/':\n",
    "        ans = float(num1) / float(num2)\n",
    "    else:\n",
    "        print('연산자 입력이 아님')\n",
    "        ans = 0.0;\n",
    "        \n",
    "    print(f'{num1}{op}{num2} = {ans}')\n",
    "else:\n",
    "    print('연산자 입력이 아님')"
   ]
  },
  {
   "cell_type": "code",
   "execution_count": null,
   "id": "fba00c8c",
   "metadata": {},
   "outputs": [],
   "source": []
  }
 ],
 "metadata": {
  "kernelspec": {
   "display_name": "Python 3 (ipykernel)",
   "language": "python",
   "name": "python3"
  },
  "language_info": {
   "codemirror_mode": {
    "name": "ipython",
    "version": 3
   },
   "file_extension": ".py",
   "mimetype": "text/x-python",
   "name": "python",
   "nbconvert_exporter": "python",
   "pygments_lexer": "ipython3",
   "version": "3.9.15"
  }
 },
 "nbformat": 4,
 "nbformat_minor": 5
}
