{
 "cells": [
  {
   "cell_type": "code",
   "execution_count": null,
   "id": "936f4b27",
   "metadata": {},
   "outputs": [],
   "source": [
    "# 함수의 데코레이터\n",
    "def hello():\n",
    "    print('Hello')\n",
    "\n",
    "hello()"
   ]
  },
  {
   "cell_type": "code",
   "execution_count": null,
   "id": "9b84bb02",
   "metadata": {},
   "outputs": [],
   "source": [
    "# 함수의 데코레이터\n",
    "def test(function):\n",
    "    def test_deco():\n",
    "        print('deco start')\n",
    "        function()\n",
    "        print('deco end')\n",
    "    return test_deco\n",
    "\n",
    "@test\n",
    "def hello():\n",
    "    print('Hello')\n",
    "\n",
    "#함수 호출\n",
    "hello()"
   ]
  },
  {
   "cell_type": "markdown",
   "id": "94a64997",
   "metadata": {},
   "source": [
    "# Chap08 클래스"
   ]
  },
  {
   "cell_type": "markdown",
   "id": "ea6a06bf",
   "metadata": {},
   "source": [
    "* **클래스 기본 구조**\n",
    "```python\n",
    "class 클래스 이름:\n",
    "    # 클래스 변수 선언\n",
    "    변수 = 초기값\n",
    "    # 생성자\n",
    "    def __init__(self, 추가적인 매개변수):\n",
    "        pass\n",
    "    \n",
    "    # 메소드\n",
    "    def 메소드 이름(self, 추가적인 매개변수):\n",
    "        pass\n",
    "    \n",
    "    # 소멸자\n",
    "    def __del__(self):\n",
    "        pass\n",
    "```"
   ]
  },
  {
   "cell_type": "code",
   "execution_count": null,
   "id": "aedea8ca",
   "metadata": {},
   "outputs": [],
   "source": [
    "class Student:\n",
    "    def __init__(self, name, korean, math, english, science):\n",
    "        self.name = name\n",
    "        self.korean = korean\n",
    "        self.math = math\n",
    "        self.english = english\n",
    "        self.science = science\n",
    "         \n",
    "    def get_sum(self):    #  성적의 총합 구함\n",
    "        return self.korean + self.math + self.english + self.science   \n",
    "    def get_avg(self):    # 평균 \n",
    "        return self.get_sum() / 4    \n",
    "    def to_string(self):    # 학생명, 총점, 평균 출력\n",
    "        return '{}\\t{}\\t{}'.format(self.name, self.get_sum(), self.get_avg())\n",
    "        "
   ]
  },
  {
   "cell_type": "code",
   "execution_count": null,
   "id": "4db7df8f",
   "metadata": {},
   "outputs": [],
   "source": [
    "students = [\n",
    "    Student('윤인성', 87, 98, 88, 95),\n",
    "    Student('연하진', 92, 98, 96, 98),\n",
    "    Student('구지연', 76, 96, 94, 90),\n",
    "    Student('나선주', 76, 96, 94, 92),\n",
    "    Student('윤아린', 95, 98, 98, 98),\n",
    "    Student('윤명월', 64, 88, 88, 95)\n",
    "]"
   ]
  },
  {
   "cell_type": "code",
   "execution_count": null,
   "id": "b6b78857",
   "metadata": {},
   "outputs": [],
   "source": [
    "print('학생 수 : ', len(students))"
   ]
  },
  {
   "cell_type": "code",
   "execution_count": null,
   "id": "57685472",
   "metadata": {},
   "outputs": [],
   "source": [
    "for student in students:\n",
    "    print(f'{student.name} : {student.korean}, {student.math}, {student.english}, {student.science}')"
   ]
  },
  {
   "cell_type": "code",
   "execution_count": null,
   "id": "0db61b18",
   "metadata": {
    "scrolled": true
   },
   "outputs": [],
   "source": [
    "for student in students:\n",
    "    print(student.to_string())"
   ]
  },
  {
   "cell_type": "code",
   "execution_count": null,
   "id": "529edc0e",
   "metadata": {},
   "outputs": [],
   "source": []
  },
  {
   "cell_type": "code",
   "execution_count": null,
   "id": "9479ca84",
   "metadata": {},
   "outputs": [],
   "source": [
    "class Student():\n",
    "    def __init__(self, name, kor, math, eng, science):\n",
    "        self.name = name\n",
    "        self.kor = kor\n",
    "        self.math = math\n",
    "        self.eng = eng\n",
    "        self.science = science\n",
    "        \n",
    "    def get_sum(self):    #  성적의 총합 구함\n",
    "        return self.kor + self.math + self.eng + self.science   \n",
    "    def get_avg(self):    # 평균 \n",
    "        return self.get_sum() / 4    \n",
    "    def __str__(self):    # 학생명, 총점, 평균 출력\n",
    "        return '{}\\t{}\\t{}'.format(self.name, self.get_sum(), self.get_avg())\n",
    "    \n",
    "    def __eq__(self, value):\n",
    "        return self.get_sum() == value.get_sum()\n",
    "    \n",
    "    def __ne__(self, value):\n",
    "        return self.get_sum() != value.get_sum()\n",
    "students = [ Student('윤인성',87, 98, 88,96),\n",
    "           Student('연하진',87, 98, 88,96),\n",
    "           Student('구지연',87, 98, 88,96),\n",
    "           Student('나선주',87, 98, 88,96),\n",
    "           Student('윤아린',87, 98, 88,96),\n",
    "           Student('윤명월',87, 98, 88,96)]\n",
    "print(type(students[0]))\n",
    "for student in students:\n",
    "    print(type(student))\n",
    "    print(str(student))    #  클래스에 __str__() 으로 선언된 함수는 일반 함수처럼 호출\n",
    "    \n",
    "student1 = Student('윤인성',87, 98, 88,96)\n",
    "student2 = Student('윤인성',87, 98, 88,96)\n",
    "student1 != student2"
   ]
  },
  {
   "cell_type": "code",
   "execution_count": null,
   "id": "e6558eb4",
   "metadata": {},
   "outputs": [],
   "source": [
    "class Student_v2:\n",
    "    count = 0\n",
    "    def __init__(self, name, score):\n",
    "        self.name = name\n",
    "        self.score = score\n",
    "        Student_v2.count += 1"
   ]
  },
  {
   "cell_type": "code",
   "execution_count": null,
   "id": "49b203b8",
   "metadata": {},
   "outputs": [],
   "source": [
    "students_v2 = []\n",
    "Student_v2.count = 0\n",
    "while True:\n",
    "    input_data = input('학생의 이름과 성적 입력 -> ').split()\n",
    "    name = input_data[0]\n",
    "    if name == 'q':\n",
    "        break\n",
    "    score = int(input_data[1])\n",
    "    students_v2.append(Student_v2(name, score))\n",
    "\n",
    "print('입력된 학생의 총 인원수는 {}명, {}'.format(len(students_v2), Student_v2.count))"
   ]
  },
  {
   "cell_type": "markdown",
   "id": "092c7582",
   "metadata": {},
   "source": [
    "## 클래스 함수\n",
    "- 클래스가 가진 함수\n",
    "```python\n",
    "class 클래스이름:\n",
    "    @classmethod\n",
    "    def 클래스함수명(cls, 매개변수):\n",
    "        pass\n",
    "```"
   ]
  },
  {
   "cell_type": "code",
   "execution_count": 2,
   "id": "7b253764",
   "metadata": {},
   "outputs": [],
   "source": [
    "class Student3:\n",
    "    count = 0        # 클래스 변수\n",
    "    students = []    # 클래스 변수\n",
    "    @classmethod     # 클래스 함수\n",
    "    def print(cls):\n",
    "        print('-----  학생 목록  -----')\n",
    "        for student in cls.students:\n",
    "            print(str(student))\n",
    "        print('-----------------------')\n",
    "        \n",
    "    @classmethod     # 클래스 함수\n",
    "    def clear(cls):\n",
    "        count = 0\n",
    "        students.clear()\n",
    "        \n",
    "    def __init__(self, name, score):\n",
    "        self.name = name\n",
    "        self.score = score\n",
    "        Student3.count += 1\n",
    "        \n",
    "    def __str__(self):    # 학생명, 총점, 평균 출력\n",
    "        return '{}\\t{}'.format(self.name, self.score)\n",
    "    \n",
    "    def __eq__(self, value):\n",
    "        return self.get_sum() == value.get_sum()\n",
    "    \n",
    "    def __ne__(self, value):\n",
    "        return self.get_sum() != value.get_sum()"
   ]
  },
  {
   "cell_type": "code",
   "execution_count": 4,
   "id": "412d7cab",
   "metadata": {},
   "outputs": [
    {
     "name": "stdout",
     "output_type": "stream",
     "text": [
      "학생의 이름과 성적 입력 -> aaaa 11111\n",
      "학생의 이름과 성적 입력 -> q\n",
      "입력된 학생의 총 인원수는 2명\n",
      "-----  학생 목록  -----\n",
      "aa\t11\n",
      "aaaa\t11111\n",
      "-----------------------\n"
     ]
    }
   ],
   "source": [
    "# Student3.count = 0\n",
    "# Student3.students.clear()\n",
    "\n",
    "while True:\n",
    "    input_data = input('학생의 이름과 성적 입력 -> ').split()\n",
    "    name = input_data[0]\n",
    "    if name == 'q':\n",
    "        break\n",
    "    score = int(input_data[1])\n",
    "    Student3.students.append(Student3(name, score))\n",
    "\n",
    "print('입력된 학생의 총 인원수는 {}명'.format(Student3.count))\n",
    "Student3.print()"
   ]
  },
  {
   "cell_type": "code",
   "execution_count": 1,
   "id": "f6ba4dea",
   "metadata": {},
   "outputs": [],
   "source": [
    "# 가비지 컬렉터\n",
    "class Test:\n",
    "    def __init__(self, name):\n",
    "        self.name = name\n",
    "        print(f'{self.name}이 생성됨')\n",
    "        \n",
    "    def __del__(self):\n",
    "        print(f'{self.name}이 파괴됨')\n"
   ]
  },
  {
   "cell_type": "code",
   "execution_count": 2,
   "id": "3d0c3d31",
   "metadata": {},
   "outputs": [
    {
     "name": "stdout",
     "output_type": "stream",
     "text": [
      "A이 생성됨\n"
     ]
    }
   ],
   "source": [
    "a = Test('A')"
   ]
  },
  {
   "cell_type": "code",
   "execution_count": 3,
   "id": "6ff72bb4",
   "metadata": {},
   "outputs": [
    {
     "name": "stdout",
     "output_type": "stream",
     "text": [
      "B이 생성됨\n"
     ]
    }
   ],
   "source": [
    "b = Test('B')"
   ]
  },
  {
   "cell_type": "code",
   "execution_count": 4,
   "id": "99ec1c43",
   "metadata": {},
   "outputs": [
    {
     "name": "stdout",
     "output_type": "stream",
     "text": [
      "AA이 생성됨\n",
      "A이 파괴됨\n"
     ]
    }
   ],
   "source": [
    "a = Test('AA')"
   ]
  },
  {
   "cell_type": "code",
   "execution_count": 1,
   "id": "e20008bf",
   "metadata": {},
   "outputs": [],
   "source": [
    "# private varialbe : 클래스 내부에서만 접근 가능, 외부에서는 접근 불가 __변수명\n",
    "\n",
    "class Test:\n",
    "    def __init__(self, value):\n",
    "        self.__value = value\n",
    "    def get_value(self):\n",
    "        return self.__value\n",
    "    def set_value(self, new_value):\n",
    "        self.__value = new_value"
   ]
  },
  {
   "cell_type": "code",
   "execution_count": 5,
   "id": "fb3ee439",
   "metadata": {},
   "outputs": [
    {
     "name": "stdout",
     "output_type": "stream",
     "text": [
      "100\n",
      "10000\n",
      "10000\n"
     ]
    }
   ],
   "source": [
    "member1 = Test(100)\n",
    "print(member1.get_value())    # 클래스 내부의 함수를 통해서만 접근이 가능\n",
    "# print(member1.__value)        # 클래스 변수를 외부에서 접근 불가\n",
    "\n",
    "member1.set_value(10000)\n",
    "print(member1.get_value())\n",
    "member1.__value = 1\n",
    "print(member1.get_value())"
   ]
  },
  {
   "cell_type": "code",
   "execution_count": 2,
   "id": "3742eea5",
   "metadata": {},
   "outputs": [],
   "source": [
    "# 데코레이터를 이용한 게터 와 세터\n",
    "\n",
    "class Test:\n",
    "    def __init__(self, value):\n",
    "        self.__value = value\n",
    "        \n",
    "    @property\n",
    "    def value(self):\n",
    "        return self.__value\n",
    "\n",
    "    @value.setter\n",
    "    def value(self, new_value):\n",
    "        self.__value = new_value"
   ]
  },
  {
   "cell_type": "code",
   "execution_count": 3,
   "id": "48268ffe",
   "metadata": {},
   "outputs": [
    {
     "name": "stdout",
     "output_type": "stream",
     "text": [
      "1000\n",
      "10000\n"
     ]
    }
   ],
   "source": [
    "mem = Test(1000)\n",
    "print(mem.value)\n",
    "mem.value = 10000\n",
    "print(mem.value)"
   ]
  },
  {
   "cell_type": "code",
   "execution_count": 8,
   "id": "51ceb808",
   "metadata": {},
   "outputs": [],
   "source": [
    "# 상속\n",
    "# 부모 클래스\n",
    "class Parent:\n",
    "    def __init__(self):\n",
    "        self.value = '테스트'\n",
    "        print('Parent 클래스의 __init__() 메소드가 호출되었습니다.')\n",
    "    def test(self):\n",
    "        print('Parent 클래스의 test() 메소드입니다.')\n",
    "    \n",
    "# 자식 클래스\n",
    "class Child(Parent):\n",
    "    def __init__(self):\n",
    "        super().__init__()\n",
    "        print('Child 클래스의 __init__() 메소드가 호출되었습니다.')"
   ]
  },
  {
   "cell_type": "code",
   "execution_count": 9,
   "id": "186852a2",
   "metadata": {},
   "outputs": [
    {
     "name": "stdout",
     "output_type": "stream",
     "text": [
      "Parent 클래스의 __init__() 메소드가 호출되었습니다.\n",
      "Child 클래스의 __init__() 메소드가 호출되었습니다.\n",
      "Parent 클래스의 test() 메소드입니다.\n",
      "테스트\n"
     ]
    }
   ],
   "source": [
    "child = Child()\n",
    "child.test()\n",
    "print(child.value)"
   ]
  },
  {
   "cell_type": "code",
   "execution_count": 11,
   "id": "00479831",
   "metadata": {},
   "outputs": [
    {
     "name": "stdout",
     "output_type": "stream",
     "text": [
      "내가 만든 오류 생성\n",
      "오류 정보\n",
      "message :  특별한 에러 없음\n",
      "value :  400\n"
     ]
    }
   ],
   "source": [
    "# 예외 클래스 만들기\n",
    "class CustomException(Exception):\n",
    "    def __init__(self, message, value):\n",
    "        Exception.__init__(self)\n",
    "        print('내가 만든 오류 생성')\n",
    "        self.message = message\n",
    "        self.value = value\n",
    "        \n",
    "    def __str__(self):\n",
    "        return self.message\n",
    "    \n",
    "    def print(self):\n",
    "        print('오류 정보')\n",
    "        print('message : ', self.message)\n",
    "        print('value : ', self.value)\n",
    "        \n",
    "try:\n",
    "    raise CustomException('특별한 에러 없음', 400)\n",
    "except CustomException as e:\n",
    "    e.print()"
   ]
  },
  {
   "cell_type": "code",
   "execution_count": 15,
   "id": "d307b38b",
   "metadata": {},
   "outputs": [],
   "source": [
    "class Student:\n",
    "    def __init__(self, name, korean, math, english, science):\n",
    "        self.name = name\n",
    "        self.korean = korean\n",
    "        self.math = math\n",
    "        self.english = english\n",
    "        self.science = science\n",
    "    \n",
    "    def get_sum(self):\n",
    "        return self.korean + self.math + self.english + self.science\n",
    "    \n",
    "    def get_average(self):\n",
    "        return self.get_sum() / 4\n",
    "    \n",
    "    def __eq__(self, value):\n",
    "        return self.get_average() == value\n",
    "    def __ne__(self, value):\n",
    "        return self.get_average() != value\n",
    "    def __gt__(self, value):\n",
    "        return self.get_average() > value\n",
    "    def __ge__(self, value):\n",
    "        return self.get_average() >= value\n",
    "    def __lt__(self, value):\n",
    "        return self.get_average() < value\n",
    "    def __le__(self, value):\n",
    "        return self.get_average() <= value"
   ]
  },
  {
   "cell_type": "code",
   "execution_count": 16,
   "id": "e3ce4e09",
   "metadata": {},
   "outputs": [
    {
     "name": "stdout",
     "output_type": "stream",
     "text": [
      "test == 90: True\n",
      "test != 90: False\n",
      "test > 90: False\n",
      "test >= 90: True\n",
      "test < 90: False\n",
      "test <= 90: True\n"
     ]
    }
   ],
   "source": [
    "test = Student('A', 90, 90, 90, 90)\n",
    "\n",
    "print('test == 90:', test == 90)\n",
    "print('test != 90:', test != 90)\n",
    "print('test > 90:', test > 90)\n",
    "print('test >= 90:', test >= 90)\n",
    "print('test < 90:', test < 90)\n",
    "print('test <= 90:', test <= 90)"
   ]
  },
  {
   "cell_type": "code",
   "execution_count": null,
   "id": "0f553bef",
   "metadata": {},
   "outputs": [],
   "source": []
  },
  {
   "cell_type": "code",
   "execution_count": null,
   "id": "16c4c178",
   "metadata": {},
   "outputs": [],
   "source": []
  }
 ],
 "metadata": {
  "kernelspec": {
   "display_name": "Python 3 (ipykernel)",
   "language": "python",
   "name": "python3"
  },
  "language_info": {
   "codemirror_mode": {
    "name": "ipython",
    "version": 3
   },
   "file_extension": ".py",
   "mimetype": "text/x-python",
   "name": "python",
   "nbconvert_exporter": "python",
   "pygments_lexer": "ipython3",
   "version": "3.9.13"
  }
 },
 "nbformat": 4,
 "nbformat_minor": 5
}
