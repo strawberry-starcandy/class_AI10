{
 "cells": [
  {
   "cell_type": "code",
   "execution_count": 6,
   "id": "bbb75c32",
   "metadata": {},
   "outputs": [
    {
     "data": {
      "text/plain": [
       "datetime.datetime(2022, 12, 7, 9, 28, 38, 641831)"
      ]
     },
     "execution_count": 6,
     "metadata": {},
     "output_type": "execute_result"
    }
   ],
   "source": [
    "import datetime\n",
    "\n",
    "now = datetime.datetime.now()\n",
    "now\n"
   ]
  },
  {
   "cell_type": "code",
   "execution_count": 7,
   "id": "0fd221c8",
   "metadata": {},
   "outputs": [
    {
     "name": "stdout",
     "output_type": "stream",
     "text": [
      "2022 12 7\n"
     ]
    },
    {
     "data": {
      "text/plain": [
       "datetime.datetime"
      ]
     },
     "execution_count": 7,
     "metadata": {},
     "output_type": "execute_result"
    }
   ],
   "source": [
    "print(now.year, now.month, now.day)\n",
    "type(now)"
   ]
  },
  {
   "cell_type": "code",
   "execution_count": 8,
   "id": "2ca87ec6",
   "metadata": {},
   "outputs": [
    {
     "name": "stdout",
     "output_type": "stream",
     "text": [
      "현재는 겨울입니다\n"
     ]
    }
   ],
   "source": [
    "if 3<= now.month <=5:\n",
    "    print(\"현재는 봄입니다\")\n",
    "elif 6<= now.month <=8:\n",
    "    print(\"현재는 여름입니다\")\n",
    "elif 9<= now.month <=11:\n",
    "    print(\"현재는 가을입니다\")\n",
    "else:\n",
    "    print(\"현재는 겨울입니다\")"
   ]
  },
  {
   "cell_type": "code",
   "execution_count": 10,
   "id": "3d20c4d9",
   "metadata": {},
   "outputs": [
    {
     "name": "stdout",
     "output_type": "stream",
     "text": [
      "숫자 False\n",
      "문자 False\n"
     ]
    }
   ],
   "source": [
    "# 표현식의 겨과가 숫자인 경우 0이면 False 아니면 True\n",
    "#                 문자인 경우 \"\"이면 False 아니면 True\n",
    "if 0:\n",
    "    print(\"숫자 True\")\n",
    "else:\n",
    "    print(\"숫자 False\")\n",
    "\n",
    "if \"\":\n",
    "    print(\"문자 True\")\n",
    "else:\n",
    "    print(\"문자 False\")\n",
    "    "
   ]
  },
  {
   "cell_type": "code",
   "execution_count": null,
   "id": "88a97654",
   "metadata": {},
   "outputs": [],
   "source": [
    "if 10:\n",
    "    pass\n",
    "\n",
    "print()"
   ]
  },
  {
   "cell_type": "markdown",
   "id": "6ee033eb",
   "metadata": {},
   "source": [
    "# Chap04 반복문\n",
    "## chap04-1 리스트와 반복문"
   ]
  },
  {
   "cell_type": "code",
   "execution_count": 15,
   "id": "7c6f2b5c",
   "metadata": {},
   "outputs": [
    {
     "name": "stdout",
     "output_type": "stream",
     "text": [
      "[273, 32, 103, '문자열', True, False] <class 'list'>\n"
     ]
    }
   ],
   "source": [
    "# 리스트 선언 : [요소, ... ]\n",
    "list_a = [273, 32, 103, \"문자열\", True, False]\n",
    "print(list_a, type(list_a))"
   ]
  },
  {
   "cell_type": "code",
   "execution_count": 16,
   "id": "ae1a1988",
   "metadata": {},
   "outputs": [
    {
     "name": "stdout",
     "output_type": "stream",
     "text": [
      "1697744265360 273\n",
      "1697622297456 test\n"
     ]
    }
   ],
   "source": [
    "print(id(list_a[0]), list_a[0])\n",
    "list_a[0] = 'test'\n",
    "print(id(list_a[0]), list_a[0])"
   ]
  },
  {
   "cell_type": "code",
   "execution_count": 17,
   "id": "82287f4f",
   "metadata": {},
   "outputs": [
    {
     "name": "stdout",
     "output_type": "stream",
     "text": [
      "[1, 2, 3]\n",
      "[1, 2, 3, 4]\n",
      "[1, 2, 10, 3, 4]\n"
     ]
    }
   ],
   "source": [
    "# list 에 요소 추가 ; append(요소), insert(삽입할 위치, 요소)\n",
    "list_a = [1,2,3]\n",
    "print(list_a)\n",
    "\n",
    "# 마지막에 요소 4를 추가\n",
    "list_a.append(4)\n",
    "print(list_a)\n",
    "\n",
    "# 2 다음에 10을 추가\n",
    "list_a.insert(2, 10)\n",
    "print(list_a)"
   ]
  },
  {
   "cell_type": "code",
   "execution_count": 79,
   "id": "3f816c72",
   "metadata": {},
   "outputs": [
    {
     "name": "stdout",
     "output_type": "stream",
     "text": [
      "[1, 2, 3, 4, 5, 6]\n",
      "[1, 2, 3, 1, 2, 3, 1, 2, 3]\n",
      "3\n"
     ]
    }
   ],
   "source": [
    "# list 연산자 : +, *\n",
    "list_a = [1,2,3]\n",
    "list_b = [4,5,6]\n",
    "print(list_a + list_b) # [1,2,3,4,5,6]\n",
    "print(list_a * 3) # [1,2,3,1,2,3,1,2,3]\n",
    "print(len(list_a)) # 3"
   ]
  },
  {
   "cell_type": "code",
   "execution_count": 76,
   "id": "6dec782d",
   "metadata": {},
   "outputs": [
    {
     "name": "stdout",
     "output_type": "stream",
     "text": [
      "[1, 2, 3, [4, 5, 6]]\n"
     ]
    }
   ],
   "source": [
    "list_a.append(list_b) #[1,2,3,[4,5,6]]\n",
    "print(list_a)"
   ]
  },
  {
   "cell_type": "code",
   "execution_count": 80,
   "id": "7e0c97f7",
   "metadata": {},
   "outputs": [
    {
     "name": "stdout",
     "output_type": "stream",
     "text": [
      "[1, 2, 3, 4, 5, 6]\n"
     ]
    }
   ],
   "source": [
    "list_a.extend(list_b)\n",
    "print(list_a)"
   ]
  },
  {
   "cell_type": "code",
   "execution_count": 86,
   "id": "3ede17f1",
   "metadata": {},
   "outputs": [
    {
     "name": "stdout",
     "output_type": "stream",
     "text": [
      "[1, 2, 3, 4, 5, 6]\n",
      "[1, 2, 4, 5, 6]\n",
      "[2, 4, 5, 6]\n"
     ]
    }
   ],
   "source": [
    "# list의 요소 추가 : 리스트.append(요소), 리스트.insert(위치, 요소),\n",
    "#                    리스트.extend(리스트요소)\n",
    "# list의 요소 제거 : 인덱스로 제거하기, 값으로 제거하기\n",
    "# del 리스트[인덱스], 리스트.pop(인덱스)\n",
    "list_a = [1,2,3,4,5,6]\n",
    "print(list_a) # [1,2,3,4,5,6]\n",
    "\n",
    "# 2번째 인덱스 제거\n",
    "del list_a[2]\n",
    "print(list_a) # [1,2,4,5,6]\n",
    "\n",
    "# 처음 인덱스 제거 : 리스트.pop\n",
    "list_a.pop(0)\n",
    "print(list_a) # [2,4,5,6]"
   ]
  },
  {
   "cell_type": "code",
   "execution_count": 87,
   "id": "daedb3e7",
   "metadata": {},
   "outputs": [
    {
     "name": "stdout",
     "output_type": "stream",
     "text": [
      "[3, 4, 5, 6]\n"
     ]
    }
   ],
   "source": [
    "list_a = [1,2,3,4,5,6]\n",
    "del list_a[:2]\n",
    "print(list_a) # [3,4,5,6]"
   ]
  },
  {
   "cell_type": "code",
   "execution_count": 88,
   "id": "e530b85b",
   "metadata": {},
   "outputs": [
    {
     "name": "stdout",
     "output_type": "stream",
     "text": [
      "[1, 2, 3, 4, 5]\n"
     ]
    }
   ],
   "source": [
    "list_a = [1,2,3,4,5,6]\n",
    "list_a.pop() # 인덱스가 없으면 마지막 인덱스로 인식\n",
    "print(list_a)"
   ]
  },
  {
   "cell_type": "code",
   "execution_count": 90,
   "id": "9c51c6b7",
   "metadata": {},
   "outputs": [
    {
     "name": "stdout",
     "output_type": "stream",
     "text": [
      "[1, 3, 5]\n",
      "[6, 5, 4, 3, 2, 1]\n"
     ]
    }
   ],
   "source": [
    "# 리스트의 슬라이싱 [ start : end: step]\n",
    "list_a = [1,2,3,4,5,6]\n",
    "print(list_a[ : : 2]) # 처음부터 끝까지 2씩 증가\n",
    "print(list_a[ : : -1]) # 마지막 자료부터 역으로 출력\n"
   ]
  },
  {
   "cell_type": "code",
   "execution_count": 91,
   "id": "f61e26d7",
   "metadata": {},
   "outputs": [
    {
     "name": "stdout",
     "output_type": "stream",
     "text": [
      "[1, 2, 4, 2]\n"
     ]
    }
   ],
   "source": [
    "# 값으로 제거 : 리스트.remove(값)\n",
    "# -> 리스트에서 값이 처음 나오는 인덱스 삭제\n",
    "list_a = [1,2,2,4,2]\n",
    "list_a.remove(2)\n",
    "print(list_a)"
   ]
  },
  {
   "cell_type": "code",
   "execution_count": 94,
   "id": "4a11a3c8",
   "metadata": {},
   "outputs": [
    {
     "name": "stdout",
     "output_type": "stream",
     "text": [
      "[]\n"
     ]
    }
   ],
   "source": [
    "list_a.clear() # 리스트의 모든 요소 제거\n",
    "print(list_a)"
   ]
  },
  {
   "cell_type": "code",
   "execution_count": null,
   "id": "ccadbdb5",
   "metadata": {},
   "outputs": [],
   "source": [
    "list_b = [4,5,6]\n",
    "del list_b\n",
    "list_b"
   ]
  },
  {
   "cell_type": "code",
   "execution_count": 102,
   "id": "16011303",
   "metadata": {},
   "outputs": [
    {
     "name": "stdout",
     "output_type": "stream",
     "text": [
      "[55, 23, 10, 7, 5]\n"
     ]
    }
   ],
   "source": [
    "list_a = [10,5,7,23,55]\n",
    "# list_a.index(3)\n",
    "list_a.sort(reverse=True)\n",
    "print(list_a)"
   ]
  },
  {
   "cell_type": "code",
   "execution_count": 103,
   "id": "afc4c6f5",
   "metadata": {},
   "outputs": [
    {
     "name": "stdout",
     "output_type": "stream",
     "text": [
      "[10]\n"
     ]
    }
   ],
   "source": [
    "list_a = []\n",
    "list_a.append(10)\n",
    "print(list_a)"
   ]
  },
  {
   "cell_type": "code",
   "execution_count": 106,
   "id": "8c8a859e",
   "metadata": {},
   "outputs": [
    {
     "name": "stdout",
     "output_type": "stream",
     "text": [
      "True\n",
      "False\n",
      "True\n",
      "True\n"
     ]
    }
   ],
   "source": [
    "# 리스트 내부에 값이 있는지 확인 : 값 in 리스트 -> True 또는 False\n",
    "list_a = [10, 5, 7, 23, 55]\n",
    "print(10 in list_a)\n",
    "print('a' in list_a)\n",
    "print('a' not in list_a)\n",
    "print(not 'a' in list_a)"
   ]
  },
  {
   "cell_type": "code",
   "execution_count": 111,
   "id": "a5542bc3",
   "metadata": {},
   "outputs": [
    {
     "name": "stdout",
     "output_type": "stream",
     "text": [
      "10\n",
      "5\n",
      "7\n",
      "23\n",
      "55\n",
      "리스트의 총합 :  100\n",
      "마지막 자료 :  55\n"
     ]
    }
   ],
   "source": [
    "# 리스트의 각 요소를 출력 : 전체 리스트의 합\n",
    "# for 반복자 in 반복할 수 있는 object:\n",
    "#    처리문\n",
    "list_a = [10, 5, 7, 23, 55]\n",
    "total = 0\n",
    "for element in list_a:\n",
    "    print(element)\n",
    "    total += element\n",
    "\n",
    "print(\"리스트의 총합 : \", total)\n",
    "print(\"마지막 자료 : \", element)"
   ]
  },
  {
   "cell_type": "code",
   "execution_count": 120,
   "id": "1b6ea382",
   "metadata": {},
   "outputs": [
    {
     "name": "stdout",
     "output_type": "stream",
     "text": [
      "H e l l o   p y t h o n "
     ]
    }
   ],
   "source": [
    "for char in 'Hello python':\n",
    "    print(char, end=' ')"
   ]
  },
  {
   "cell_type": "code",
   "execution_count": 121,
   "id": "5d277f55",
   "metadata": {},
   "outputs": [
    {
     "name": "stdout",
     "output_type": "stream",
     "text": [
      "0\n",
      "1\n",
      "2\n",
      "3\n",
      "4\n"
     ]
    }
   ],
   "source": [
    "# range(숫자) : 0부터 숫자-1 까지 증가\n",
    "for i in range(5):\n",
    "    print(i)"
   ]
  },
  {
   "cell_type": "code",
   "execution_count": 125,
   "id": "f0d172e7",
   "metadata": {},
   "outputs": [
    {
     "name": "stdout",
     "output_type": "stream",
     "text": [
      "10\t0\n",
      "5\t1\n",
      "7\t2\n",
      "23\t3\n",
      "55\t4\n"
     ]
    }
   ],
   "source": [
    "list_a\n",
    "for index in range(len(list_a)):\n",
    "    print(list_a[index], index, sep='\\t')"
   ]
  },
  {
   "cell_type": "code",
   "execution_count": null,
   "id": "bd3292a1",
   "metadata": {},
   "outputs": [],
   "source": [
    "# 입력 받을 개수를 숫자로 입력 받아 입력받은 개수만큼 숫자를 입력받아 리스트에 저장\n",
    "# 리스트의 숫자의 총합과 평균을 구하세요\n",
    "# 리스트의 숫자를 오름차순 정렬하여 출력하세요\n",
    "# 1. 입력받을 개수를 키보드로부터 입력\n",
    "# 2. 반복문을 활용하여 1에서 입력받은 수만큼 숫자 입력 후 리스트에 저장\n",
    "# 3. 리스트 데이터의 총합과 평균 구함\n",
    "# 4. 리스트 데이터를 정렬해서 출력\n",
    "\n",
    "cnt = int(input('입력할 자료 갯수를 입력하세요(정수): '))\n",
    "\n",
    "list_a = []\n",
    "total = 0\n",
    "for iter in range(cnt):\n",
    "    num = int(input('입력할 값을 입력하세요: '))\n",
    "    total += num;\n",
    "    list_a.append(num)\n",
    "    \n",
    "print(f'총합: {total}, 평균: {total / cnt}')"
   ]
  },
  {
   "cell_type": "code",
   "execution_count": 150,
   "id": "95b3c7cb",
   "metadata": {},
   "outputs": [
    {
     "name": "stdout",
     "output_type": "stream",
     "text": [
      "입력할 자료 갯수를 입력하세요(정수): a\n",
      "입력할 자료 갯수를 입력하세요(정수): 2\n",
      "1번째 값을 입력하세요: 2\n",
      "2번째 값을 입력하세요: 4\n",
      "총합: 6, 평균:  3.00\n",
      "오름차순: [2, 4]\n"
     ]
    }
   ],
   "source": [
    "# 입력 받을 개수를 숫자로 입력 받아 입력받은 개수만큼 숫자를 입력받아 리스트에 저장\n",
    "# 리스트의 숫자의 총합과 평균을 구하세요\n",
    "# 리스트의 숫자를 오름차순 정렬하여 출력하세요\n",
    "# 1. 입력받을 개수를 키보드로부터 입력\n",
    "# 2. 반복문을 활용하여 1에서 입력받은 수만큼 숫자 입력 후 리스트에 저장\n",
    "# 3. 리스트 데이터의 총합과 평균 구함\n",
    "# 4. 리스트 데이터를 정렬해서 출력\n",
    "\n",
    "flag = True\n",
    "while flag:\n",
    "    str_input = input('입력할 자료 갯수를 입력하세요(정수): ')\n",
    "    flag = not str_input.isdigit()\n",
    "\n",
    "cnt = int(str_input)\n",
    "\n",
    "list_a = []\n",
    "total = 0\n",
    "for iter in range(cnt):\n",
    "    num = int(input(f'{iter + 1}번째 값을 입력하세요: '))\n",
    "    total += num;\n",
    "    list_a.append(num)\n",
    "    \n",
    "print(f'총합: {total}, 평균: {total / cnt : 3.2f}')\n",
    "\n",
    "list_a.sort()\n",
    "print('오름차순:', list_a)"
   ]
  },
  {
   "cell_type": "code",
   "execution_count": 154,
   "id": "9e519497",
   "metadata": {},
   "outputs": [
    {
     "name": "stdout",
     "output_type": "stream",
     "text": [
      "[[1, 2, 3], [4, 5, 6]]\n",
      "[1, 2, 3, 4, 5, 6]\n",
      "[1, 2, 3] 1 2 3\n"
     ]
    }
   ],
   "source": [
    "list_a = [1,2,3]\n",
    "list_b = [4,5,6]\n",
    "\n",
    "# list_a 를 파괴하지 않고 다른 리스트를 생성\n",
    "list_c = [list_a, list_b] # [[1,2,3], [4,5,6]]\n",
    "print(list_c)\n",
    "\n",
    "list_c = [*list_a, *list_b] # *list_a -> 각 요소를 풀어서 전개\n",
    "print(list_c)\n",
    "print(list_a, *list_a)"
   ]
  },
  {
   "cell_type": "code",
   "execution_count": 158,
   "id": "2d572661",
   "metadata": {},
   "outputs": [
    {
     "name": "stdout",
     "output_type": "stream",
     "text": [
      "[1, 2, 3]\n",
      "1\n",
      "2\n",
      "3\n",
      "[4, 5, 6, 7]\n",
      "4\n",
      "5\n",
      "6\n",
      "7\n",
      "[8, 9]\n",
      "8\n",
      "9\n"
     ]
    }
   ],
   "source": [
    "list_of_list = [[1,2,3], [4,5,6,7], [8,9]]\n",
    "for items in list_of_list:\n",
    "    print(items)\n",
    "    for item in items:\n",
    "        print(item)"
   ]
  },
  {
   "cell_type": "markdown",
   "id": "69a78389",
   "metadata": {},
   "source": [
    "- 리스트 : [ 요소, ... ]\n",
    "- 리스트의 요소를 추가 : append(), insert(), extend()\n",
    "- 리스트의 요소를 삭제 : del 리스트[인덱스], 리스트.pop(인덱스), 리스트.remove(값), 리스트.clear()\n",
    "- 리스트 정렬 : 리스트.sort(), 리스트.sort(reverse=True)\n",
    "- 리스트의 요소를 풀어서 사용 : *리스트\n",
    "- range(숫자) : 0부터 숫자 - 1 까지 리턴\n",
    "- for 반복자 in 반복할 수 있는 object :\n",
    " - 리스트 접근 : 리스트[ start:stop:step]\n",
    " "
   ]
  },
  {
   "cell_type": "markdown",
   "id": "ae89fa6e",
   "metadata": {},
   "source": [
    "## chap04 - 2 딕셔너리와 반복문"
   ]
  },
  {
   "cell_type": "code",
   "execution_count": 162,
   "id": "eebbe09a",
   "metadata": {},
   "outputs": [
    {
     "name": "stdout",
     "output_type": "stream",
     "text": [
      "{'name': '어벤저스 게임', 'type': '히어로 무비'}\n",
      "어벤저스 게임\n",
      "어벤저스 게임\n",
      "히어로 무비\n"
     ]
    }
   ],
   "source": [
    "# 딕셔너리 : {키:값, ....}\n",
    "dict_a = {'name':'어벤저스 게임',\n",
    "         'type':'히어로 무비'}\n",
    "\n",
    "print(dict_a)\n",
    "print(dict_a['name'])\n",
    "\n",
    "for key in dict_a:\n",
    "    print(dict_a[key])"
   ]
  },
  {
   "cell_type": "code",
   "execution_count": 163,
   "id": "971c8bbc",
   "metadata": {},
   "outputs": [
    {
     "name": "stdout",
     "output_type": "stream",
     "text": [
      "{'name': '어벤저스 게임', 'type': '히어로'}\n"
     ]
    }
   ],
   "source": [
    "# 값의 변경 : dict[키] = 값\n",
    "dict_a['type'] = '히어로'\n",
    "print(dict_a)"
   ]
  },
  {
   "cell_type": "code",
   "execution_count": 164,
   "id": "0c0f54cb",
   "metadata": {},
   "outputs": [
    {
     "name": "stdout",
     "output_type": "stream",
     "text": [
      "{'name': '어벤저스 게임', 'type': '히어로', 'key': 'new key'}\n"
     ]
    }
   ],
   "source": [
    "# 값을 추가 : dict[새로운키] = 값\n",
    "dict_a['key'] = 'new key'\n",
    "print(dict_a)"
   ]
  },
  {
   "cell_type": "code",
   "execution_count": 165,
   "id": "ec947c9c",
   "metadata": {},
   "outputs": [
    {
     "name": "stdout",
     "output_type": "stream",
     "text": [
      "{'name': '어벤저스 게임', 'type': '히어로'}\n"
     ]
    }
   ],
   "source": [
    "# 값을 삭제 : del dict[키]\n",
    "del dict_a['key']\n",
    "print(dict_a)"
   ]
  },
  {
   "cell_type": "code",
   "execution_count": 169,
   "id": "267c754e",
   "metadata": {},
   "outputs": [
    {
     "name": "stdout",
     "output_type": "stream",
     "text": [
      "해당하는 키의 자료가 없음\n"
     ]
    }
   ],
   "source": [
    "value = dict_a.get('key')\n",
    "\n",
    "if value:\n",
    "    print(value)\n",
    "else:\n",
    "    print(\"해당하는 키의 자료가 없음\")"
   ]
  },
  {
   "cell_type": "code",
   "execution_count": 166,
   "id": "cca21209",
   "metadata": {},
   "outputs": [
    {
     "name": "stdout",
     "output_type": "stream",
     "text": [
      "False\n",
      "True\n"
     ]
    }
   ],
   "source": [
    "# 키 in 딕셔너리\n",
    "print('key' in dict_a)\n",
    "print('type' in dict_a)"
   ]
  },
  {
   "cell_type": "code",
   "execution_count": 173,
   "id": "bd3dbb90",
   "metadata": {},
   "outputs": [
    {
     "name": "stdout",
     "output_type": "stream",
     "text": [
      "입력하고자 하는 자료의 개수 입력: 2\n",
      "이름과 성적 입력: aaa aa\n",
      "성적은 숫자로 입력 필요\n",
      "이름과 성적 입력: aaa 111\n",
      "이름과 성적 입력: bbb 222\n",
      "{'aaa': 111, 'bbb': 222}\n",
      "검색할 이름 입력 : aaa\n",
      "aaa의 성적은 111\n"
     ]
    }
   ],
   "source": [
    "# 입력하고자 하는 자료의 개수 입력\n",
    "# 키보드에서 이름과 성적을 입력 받아 이름을 키로 성적을 값으로 딕셔너리에 저장\n",
    "# 딕셔너리의 자료를 출력\n",
    "# 성적을 검색하고자하는 이름을 입력\n",
    "# 딕셔너리의 성적을 검색해서 출력, 없으면 '자료 없음' 출력\n",
    "\n",
    "flag = True\n",
    "while flag:\n",
    "    str_input = input('입력하고자 하는 자료의 개수 입력: ')\n",
    "    flag = not str_input.isdigit()\n",
    "\n",
    "cnt = int(str_input)\n",
    "\n",
    "student_scores = {}\n",
    "\n",
    "total = 0\n",
    "for n in range(cnt):\n",
    "    flag = True\n",
    "    while flag:\n",
    "        input_data = input('이름과 성적 입력: ').split()\n",
    "        if len(input_data) < 2:\n",
    "            print('입력 데이터 개수가 잘못됨')\n",
    "        elif not input_data[1].isdigit():\n",
    "            print('성적은 숫자로 입력 필요')\n",
    "        else:\n",
    "            flag = False\n",
    "    \n",
    "    student_scores[input_data[0]] = int(input_data[1])\n",
    "print(student_scores)\n",
    "\n",
    "s_name = input('검색할 이름 입력 : ')\n",
    "\n",
    "if s_name in student_scores:\n",
    "    print(f'{s_name}의 성적은 {student_scores[s_name]}')\n",
    "else:\n",
    "    print('자료 없음')"
   ]
  },
  {
   "cell_type": "code",
   "execution_count": 176,
   "id": "a5887fa0",
   "metadata": {},
   "outputs": [
    {
     "name": "stdout",
     "output_type": "stream",
     "text": [
      "{1: 3, 2: 4, 6: 1, 8: 2, 4: 3, 3: 3, 9: 3, 5: 2, 7: 2}\n"
     ]
    }
   ],
   "source": [
    "# 228p 연습문제 3.\n",
    "numbers = [1,2,6,8,4,3,2,1,9,5,4,9,7,2,1,3,5,4,8,9,7,2,3]\n",
    "counter = {}\n",
    "\n",
    "for number in numbers:\n",
    "    if number in counter:\n",
    "        counter[number] += 1\n",
    "    else:\n",
    "        counter[number] = 1\n",
    "print(counter)\n"
   ]
  },
  {
   "cell_type": "code",
   "execution_count": 199,
   "id": "7430a225",
   "metadata": {},
   "outputs": [
    {
     "name": "stdout",
     "output_type": "stream",
     "text": [
      "True\n",
      "True\n",
      "False\n",
      "True\n",
      "name : 기사\n",
      "level : 12\n",
      "sword : 불꽃의 검\n",
      "armor : 풀플레이트\n",
      "skill : 베기\n",
      "skill : 세게 베기\n",
      "skill : 아주 세게 베기\n"
     ]
    }
   ],
   "source": [
    "print(type('') is str)\n",
    "print(type([]) is list)\n",
    "print(type({}) is list)\n",
    "print(type({}) is dict)\n",
    "\n",
    "character = {\n",
    "    \"name\" : \"기사\",\n",
    "    \"level\" : 12,\n",
    "    \"items\" : {\n",
    "        \"sword\" : \"불꽃의 검\",\n",
    "        \"armor\" : \"풀플레이트\"\n",
    "    },\n",
    "    \"skill\" : [\"베기\", \"세게 베기\", \"아주 세게 베기\"]\n",
    "}\n",
    "\n",
    "def printDictCustom(dictCustom):\n",
    "    for key in dictCustom:\n",
    "        if type(dictCustom[key]) is dict:\n",
    "            printDictCustom(dictCustom[key])\n",
    "        elif type(dictCustom[key]) is list:\n",
    "            for element in dictCustom[key]:\n",
    "                print(f'{key} : {element}')\n",
    "        else:\n",
    "            print(f'{key} : {dictCustom[key]}')\n",
    "            \n",
    "printDictCustom(character)"
   ]
  },
  {
   "cell_type": "code",
   "execution_count": 206,
   "id": "4c0f31a6",
   "metadata": {},
   "outputs": [
    {
     "name": "stdout",
     "output_type": "stream",
     "text": [
      "학생 수 입력 :2\n",
      "이름 국어 영어 수학 점수 입력 : aa 22 11 1\n",
      "이름 국어 영어 수학 점수 입력 : bb 12 23 2\n",
      "{'aa': [22, 11, 1, 34], 'bb': [12, 23, 2, 37]}\n",
      "이름\t국어\t영어\t수학\t총점\n",
      "====\t====\t====\t====\t====\n",
      "aa\t22\t11\t1\t34\t\n",
      "bb\t12\t23\t2\t37\t\n"
     ]
    }
   ],
   "source": [
    "# 입력하고자 하는 자료의 개수 입력\n",
    "# 키보드에서 이름과 성적(국어, 영어, 수학 점수)을 입력받아\n",
    "# 이름을 키로 성적을 값(리스트)으로 딕셔너리에 저장\n",
    "# 딕셔너리의 자료 출력\n",
    "# 각 사람의 성적의 합(총점)을 리스트에 추가해서 저장\n",
    "# 각 사람의 이름과 점수, 총점 출력\n",
    "# 이름     국어    영어    수학    총점\n",
    "#======== ======= ======= ======= =======\n",
    "# 홍길동    90      80      70     240\n",
    "# ....\n",
    "students = {}\n",
    "cnt = int(input(\"학생 수 입력 :\"))\n",
    "for i in range(cnt):\n",
    "    student = input(\"이름 국어 영어 수학 점수 입력 : \").split()\n",
    "    scores = []\n",
    "    total = 0\n",
    "    for score in student[1:]:\n",
    "        scores.append(int(score))\n",
    "        total += int(score)\n",
    "    scores.append(total)\n",
    "    students[student[0]] = scores\n",
    "print(students)\n",
    "print('이름\\t국어\\t영어\\t수학\\t총점')\n",
    "print('====\\t====\\t====\\t====\\t====')\n",
    "for student in students:\n",
    "    print(f'{student}',end='\\t')\n",
    "    for score in students[student]:\n",
    "          print(f'{score}', end='\\t')\n",
    "    print()"
   ]
  },
  {
   "cell_type": "code",
   "execution_count": null,
   "id": "d96a2f17",
   "metadata": {},
   "outputs": [],
   "source": [
    "# 키보드에서 이름과 성적을 입력받아 이름을 키로 성적을 값으로 딕셔너리에 저장\n",
    "# 이름에 'q'가 입력되면 입력 종료\n",
    "# "
   ]
  },
  {
   "cell_type": "code",
   "execution_count": null,
   "id": "97291ce6",
   "metadata": {},
   "outputs": [],
   "source": []
  },
  {
   "cell_type": "code",
   "execution_count": null,
   "id": "51db3727",
   "metadata": {},
   "outputs": [],
   "source": []
  },
  {
   "cell_type": "code",
   "execution_count": null,
   "id": "f74dafb7",
   "metadata": {},
   "outputs": [],
   "source": []
  },
  {
   "cell_type": "code",
   "execution_count": null,
   "id": "20d7c654",
   "metadata": {},
   "outputs": [],
   "source": []
  }
 ],
 "metadata": {
  "kernelspec": {
   "display_name": "Python 3 (ipykernel)",
   "language": "python",
   "name": "python3"
  },
  "language_info": {
   "codemirror_mode": {
    "name": "ipython",
    "version": 3
   },
   "file_extension": ".py",
   "mimetype": "text/x-python",
   "name": "python",
   "nbconvert_exporter": "python",
   "pygments_lexer": "ipython3",
   "version": "3.9.15"
  }
 },
 "nbformat": 4,
 "nbformat_minor": 5
}
