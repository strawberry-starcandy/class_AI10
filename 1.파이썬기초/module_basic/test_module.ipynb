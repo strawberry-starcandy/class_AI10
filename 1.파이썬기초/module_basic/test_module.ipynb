{
 "cells": [
  {
   "cell_type": "code",
   "execution_count": 1,
   "id": "693a6484",
   "metadata": {},
   "outputs": [],
   "source": [
    "# test_module.py 파일\n",
    "PI = 3.141592\n",
    "\n",
    "def number_input():\n",
    "    output = input('숫자 입력>')\n",
    "    return float(output)\n",
    "\n",
    "def get_circumference(radius):\n",
    "    return 2 * PI * radius\n",
    "\n",
    "def get_circle_area(radius):\n",
    "    return PI * radius * radius\n",
    "\n",
    "print(' module name -> ', __name__)\n",
    "# 사용 예시 \n",
    "if __name__ == '__main__':\n",
    "    print(\"get_circumference (10) -> \", get_circumfernce(10))\n",
    "    print(\"get_circle_area (10) -> \", get_circle_area(10))"
   ]
  },
  {
   "cell_type": "code",
   "execution_count": 1,
   "id": "25ef67e2",
   "metadata": {},
   "outputs": [
    {
     "name": "stdout",
     "output_type": "stream",
     "text": [
      "get_circumference의 __name__ 출력 ->  test_module\n",
      "get_circumference (10) -> 62.83184\n",
      "get_circle_area의 __name__ 출력 ->  test_module\n",
      "get_circle_area (10) -> 314.1592\n",
      "main의 __name__ 출력 ->  __main__\n",
      "number_input의 __name__ 출력 ->  test_module\n",
      "숫자 입력>111\n",
      "get_circumference의 __name__ 출력 ->  test_module\n",
      "697.4334240000001\n",
      "get_circle_area의 __name__ 출력 ->  test_module\n",
      "38707.555032000004\n"
     ]
    }
   ],
   "source": [
    "# main.py 파일\n",
    "import test_module as test\n",
    "\n",
    "print('main의 __name__ 출력 -> ', __name__)\n",
    "radius = test.number_input()\n",
    "print(test.get_circumference(radius))\n",
    "print(test.get_circle_area(radius))"
   ]
  },
  {
   "cell_type": "code",
   "execution_count": null,
   "id": "a734c614",
   "metadata": {},
   "outputs": [],
   "source": []
  }
 ],
 "metadata": {
  "kernelspec": {
   "display_name": "Python 3 (ipykernel)",
   "language": "python",
   "name": "python3"
  },
  "language_info": {
   "codemirror_mode": {
    "name": "ipython",
    "version": 3
   },
   "file_extension": ".py",
   "mimetype": "text/x-python",
   "name": "python",
   "nbconvert_exporter": "python",
   "pygments_lexer": "ipython3",
   "version": "3.9.13"
  }
 },
 "nbformat": 4,
 "nbformat_minor": 5
}
