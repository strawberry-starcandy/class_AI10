{
 "cells": [
  {
   "cell_type": "code",
   "execution_count": 1,
   "id": "d2c55381",
   "metadata": {},
   "outputs": [],
   "source": [
    "# test_module.py 파일\n",
    "PI = 3.141592\n",
    "\n",
    "def number_input():\n",
    "    print('number_input의 __name__ 출력 -> ', __name__)\n",
    "    output = input('숫자 입력>')\n",
    "    return float(output)\n",
    "\n",
    "def get_circumference(radius):\n",
    "    print('get_circumference의 __name__ 출력 -> ', __name__)\n",
    "    return 2 * PI * radius\n",
    "\n",
    "def get_circle_area(radius):\n",
    "    print('get_circle_area의 __name__ 출력 -> ', __name__)\n",
    "    return PI * radius * radius"
   ]
  },
  {
   "cell_type": "code",
   "execution_count": 2,
   "id": "de504d07",
   "metadata": {},
   "outputs": [
    {
     "name": "stdout",
     "output_type": "stream",
     "text": [
      "main의 __name__ 출력 ->  __main__\n",
      "숫자 입력>10\n",
      "62.83184\n",
      "314.1592\n"
     ]
    }
   ],
   "source": [
    "# main.py 파일\n",
    "import test_module as test\n",
    "\n",
    "print('main의 __name__ 출력 -> ', __name__)\n",
    "radius = test.number_input()\n",
    "print(test.get_circumference(radius))\n",
    "print(test.get_circle_area(radius))"
   ]
  },
  {
   "cell_type": "code",
   "execution_count": null,
   "id": "4bac8fe6",
   "metadata": {},
   "outputs": [],
   "source": []
  }
 ],
 "metadata": {
  "kernelspec": {
   "display_name": "Python 3 (ipykernel)",
   "language": "python",
   "name": "python3"
  },
  "language_info": {
   "codemirror_mode": {
    "name": "ipython",
    "version": 3
   },
   "file_extension": ".py",
   "mimetype": "text/x-python",
   "name": "python",
   "nbconvert_exporter": "python",
   "pygments_lexer": "ipython3",
   "version": "3.9.13"
  }
 },
 "nbformat": 4,
 "nbformat_minor": 5
}
