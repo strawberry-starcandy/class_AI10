{
 "cells": [
  {
   "cell_type": "code",
   "execution_count": 1,
   "id": "b0a0f58d",
   "metadata": {
    "scrolled": true
   },
   "outputs": [
    {
     "name": "stdout",
     "output_type": "stream",
     "text": [
      "# 연습 문제\n",
      "////////\n",
      "--------\n"
     ]
    }
   ],
   "source": [
    "# p.101 - 3.\n",
    "print(\"# 연습 문제\")\n",
    "print(\"////////\")\n",
    "print(\"-\" * 8)\n",
    "\n",
    "# 실행 결과\n",
    "# # 연습 문제\n",
    "# ////////\n",
    "# --------"
   ]
  },
  {
   "cell_type": "code",
   "execution_count": 2,
   "id": "950b8ed1",
   "metadata": {},
   "outputs": [
    {
     "name": "stdout",
     "output_type": "stream",
     "text": [
      "녕\n",
      "하\n",
      "세\n",
      "요\n"
     ]
    },
    {
     "ename": "IndexError",
     "evalue": "string index out of range",
     "output_type": "error",
     "traceback": [
      "\u001b[1;31m---------------------------------------------------------------------------\u001b[0m",
      "\u001b[1;31mIndexError\u001b[0m                                Traceback (most recent call last)",
      "\u001b[1;32m~\\AppData\\Local\\Temp\\ipykernel_5008\\2255688600.py\u001b[0m in \u001b[0;36m<module>\u001b[1;34m\u001b[0m\n\u001b[0;32m      4\u001b[0m \u001b[0mprint\u001b[0m\u001b[1;33m(\u001b[0m\u001b[1;34m\"안녕하세요\"\u001b[0m\u001b[1;33m[\u001b[0m\u001b[1;36m3\u001b[0m\u001b[1;33m]\u001b[0m\u001b[1;33m)\u001b[0m\u001b[1;33m\u001b[0m\u001b[1;33m\u001b[0m\u001b[0m\n\u001b[0;32m      5\u001b[0m \u001b[0mprint\u001b[0m\u001b[1;33m(\u001b[0m\u001b[1;34m\"안녕하세요\"\u001b[0m\u001b[1;33m[\u001b[0m\u001b[1;36m4\u001b[0m\u001b[1;33m]\u001b[0m\u001b[1;33m)\u001b[0m\u001b[1;33m\u001b[0m\u001b[1;33m\u001b[0m\u001b[0m\n\u001b[1;32m----> 6\u001b[1;33m \u001b[0mprint\u001b[0m\u001b[1;33m(\u001b[0m\u001b[1;34m\"안녕하세요\"\u001b[0m\u001b[1;33m[\u001b[0m\u001b[1;36m5\u001b[0m\u001b[1;33m]\u001b[0m\u001b[1;33m)\u001b[0m\u001b[1;33m\u001b[0m\u001b[1;33m\u001b[0m\u001b[0m\n\u001b[0m",
      "\u001b[1;31mIndexError\u001b[0m: string index out of range"
     ]
    }
   ],
   "source": [
    "# p.101 - 4.\n",
    "print(\"안녕하세요\"[1])\n",
    "print(\"안녕하세요\"[2])\n",
    "print(\"안녕하세요\"[3])\n",
    "print(\"안녕하세요\"[4])\n",
    "print(\"안녕하세요\"[5])\n",
    "\n",
    "# IndexError 발생\n",
    "# Index는 0부터 시작하여 \"안녕하세요\"[5]는 잘못된 인덱싱으로 에러"
   ]
  },
  {
   "cell_type": "code",
   "execution_count": 3,
   "id": "e92235b0",
   "metadata": {},
   "outputs": [
    {
     "name": "stdout",
     "output_type": "stream",
     "text": [
      "녕하\n",
      "하세\n",
      "녕하세요\n",
      "안녕하\n"
     ]
    }
   ],
   "source": [
    "# p.101 - 5.\n",
    "print(\"안녕하세요\"[1:3])\n",
    "print(\"안녕하세요\"[2:4])\n",
    "print(\"안녕하세요\"[1:])\n",
    "print(\"안녕하세요\"[:3])\n",
    "\n",
    "# 실행 결과\n",
    "# 녕하\n",
    "# 하세\n",
    "# 녕하세요\n",
    "# 안녕하"
   ]
  },
  {
   "cell_type": "code",
   "execution_count": 5,
   "id": "d84bf43d",
   "metadata": {},
   "outputs": [
    {
     "name": "stdout",
     "output_type": "stream",
     "text": [
      "기본적인 연산\n",
      "15 + 4 = 19\n",
      "15 - 4 = 11\n",
      "15 * 4 = 60\n",
      "15 / 4 = 3.75\n"
     ]
    }
   ],
   "source": [
    "# p.111 - 3.\n",
    "print(\"기본적인 연산\")\n",
    "print(15, \"+\", 4, \"=\", 15 + 4)\n",
    "print(15, \"-\", 4, \"=\", 15 - 4)\n",
    "print(15, \"*\", 4, \"=\", 15 * 4)\n",
    "print(15, \"/\", 4, \"=\", 15 / 4)\n",
    "\n",
    "# 실행 결과\n",
    "# 기본적인 연산\n",
    "# 15 + 4 = 19\n",
    "# 15 - 4 = 11\n",
    "# 15 * 4 = 60\n",
    "# 15 / 4 = 3.75"
   ]
  },
  {
   "cell_type": "code",
   "execution_count": 6,
   "id": "65518c76",
   "metadata": {},
   "outputs": [
    {
     "name": "stdout",
     "output_type": "stream",
     "text": [
      "3462를 17로 나누었을 때의\n",
      "- 몫: 203\n",
      "- 나머지: 11\n"
     ]
    }
   ],
   "source": [
    "# p.111 - 4.\n",
    "print(\"3462를 17로 나누었을 때의\")\n",
    "print(\"- 몫:\", 3462 // 17)\n",
    "print(\"- 나머지:\", 3462 % 17)\n",
    "\n",
    "# 실행 결과\n",
    "# 3462를 17로 나누었을 때의\n",
    "# - 몫: 203\n",
    "# - 나머지: 11"
   ]
  },
  {
   "cell_type": "code",
   "execution_count": 7,
   "id": "a21de77f",
   "metadata": {},
   "outputs": [
    {
     "name": "stdout",
     "output_type": "stream",
     "text": [
      "0.0\n",
      "4.0\n"
     ]
    }
   ],
   "source": [
    "# p.111 - 5.\n",
    "print(2 + 2 - 2 * 2 / 2 * 2)\n",
    "# 0.0\n",
    "print(2 - 2 + 2 / 2 * 2 + 2)\n",
    "# 4.0"
   ]
  },
  {
   "cell_type": "code",
   "execution_count": 10,
   "id": "eb196bfa",
   "metadata": {},
   "outputs": [
    {
     "name": "stdout",
     "output_type": "stream",
     "text": [
      "숫자 입력> 26\n",
      "\n",
      "26.0 inch\n",
      "66.04 cm\n"
     ]
    }
   ],
   "source": [
    "# p.131 - 4.\n",
    "str_input = input(\"숫자 입력> \")\n",
    "num_input = float(str_input)\n",
    "\n",
    "print()\n",
    "print(num_input, \"inch\")\n",
    "print((num_input * 2.54), \"cm\")\n",
    "\n",
    "# 실행 결과 1\n",
    "# 숫자 입력> 1\n",
    "\n",
    "# 1.0 inch\n",
    "# 2.54 cm\n",
    "\n",
    "# 실행 결과 2\n",
    "# 숫자 입력> 26\n",
    "\n",
    "# 26.0 inch\n",
    "# 66.04 cm"
   ]
  },
  {
   "cell_type": "code",
   "execution_count": 12,
   "id": "26729534",
   "metadata": {},
   "outputs": [
    {
     "name": "stdout",
     "output_type": "stream",
     "text": [
      "원의 반지름 입력> 5\n",
      "\n",
      "반지름:  5.0\n",
      "둘레:  31.400000000000002\n",
      "넓이:  78.5\n"
     ]
    }
   ],
   "source": [
    "# p. 132 - 5.\n",
    "str_input = input(\"원의 반지름 입력> \")\n",
    "num_input = float(str_input)\n",
    "print()\n",
    "print(\"반지름: \", num_input)\n",
    "print(\"둘레: \", 2 * 3.14 * num_input)\n",
    "print(\"넓이: \", 3.14 * num_input ** 2)\n",
    "\n",
    "# 실행 결과 1\n",
    "# 원의 반지름 입력> 2\n",
    "\n",
    "# 반지름:  2.0\n",
    "# 둘레:  12.56\n",
    "# 넓이:  12.56\n",
    "\n",
    "#실행 결과 2\n",
    "# 원의 반지름 입력> 5\n",
    "\n",
    "# 반지름:  5.0\n",
    "# 둘레:  31.400000000000002\n",
    "# 넓이:  78.5"
   ]
  },
  {
   "cell_type": "code",
   "execution_count": 14,
   "id": "02ee56ec",
   "metadata": {},
   "outputs": [
    {
     "name": "stdout",
     "output_type": "stream",
     "text": [
      "문자열 입력> 안녕하세요\n",
      "문자열 입력> 아침입니다\n",
      "안녕하세요 아침입니다\n",
      "아침입니다 안녕하세요\n"
     ]
    }
   ],
   "source": [
    "# p.132 - 6.\n",
    "a = input(\"문자열 입력> \")\n",
    "b = input(\"문자열 입력> \")\n",
    "\n",
    "print(a, b)\n",
    "temp = a\n",
    "a = b\n",
    "b = temp\n",
    "print(a, b)\n",
    "\n",
    "# 실행 결과\n",
    "# 문자열 입력> 안녕하세요\n",
    "# 문자열 입력> 아침입니다\n",
    "# 안녕하세요 아침입니다\n",
    "# 아침입니다 안녕하세요"
   ]
  },
  {
   "cell_type": "code",
   "execution_count": 15,
   "id": "1c694171",
   "metadata": {},
   "outputs": [
    {
     "name": "stdout",
     "output_type": "stream",
     "text": [
      "> 1번째 숫자: 100\n",
      "> 2번째 숫자: 200\n",
      "\n",
      "100 + 200 = 300\n"
     ]
    }
   ],
   "source": [
    "# p.151 - 3.\n",
    "a = input(\"> 1번째 숫자: \")\n",
    "b = input(\"> 2번째 숫자: \")\n",
    "print()\n",
    "\n",
    "print(\"{} + {} = {}\".format(a, b, int(a) + int(b)))\n",
    "\n",
    "# 실행 결과\n",
    "# > 1번째 숫자: 100\n",
    "# > 2번째 숫자: 200\n",
    "\n",
    "# 100 + 200 = 300"
   ]
  },
  {
   "cell_type": "code",
   "execution_count": 16,
   "id": "5d6d3b4c",
   "metadata": {},
   "outputs": [
    {
     "name": "stdout",
     "output_type": "stream",
     "text": [
      "A 지점: hello\n",
      "B 지점: HELLO\n"
     ]
    }
   ],
   "source": [
    "# p.151 - 4.\n",
    "string = \"hello\"\n",
    "\n",
    "# string.upper()를 실행하고, string 출력하기\n",
    "string.upper()\n",
    "print(\"A 지점:\", string)\n",
    "\n",
    "# string.upper() 실행하기\n",
    "print(\"B 지점:\", string.upper())\n",
    "\n",
    "# 실행 결과\n",
    "# A 지점: hello\n",
    "# B 지점: HELLO"
   ]
  },
  {
   "cell_type": "code",
   "execution_count": 7,
   "id": "b5360d47",
   "metadata": {},
   "outputs": [
    {
     "name": "stdout",
     "output_type": "stream",
     "text": [
      "구의 반지름을 입력해주세요: 5\n",
      "구의 부피는 523.5986666666666입니다.\n",
      "구의 겉넓이는 314.1592입니다.\n"
     ]
    }
   ],
   "source": [
    "# p.152 - 1.\n",
    "pi = 3.141592\n",
    "r = int(input('구의 반지름을 입력해주세요: '))\n",
    "print(f'구의 부피는 {4/3 * pi * r ** 3}입니다.')\n",
    "print(f'구의 겉넓이는 {4 * pi * r ** 2}입니다.')\n",
    "\n",
    "# 실행 결과\n",
    "# 구의 반지름을 입력해주세요: 5\n",
    "# 구의 부피는 523.5986666666666입니다.\n",
    "# 구의 겉넓이는 314.1592입니다."
   ]
  },
  {
   "cell_type": "code",
   "execution_count": 8,
   "id": "9a116858",
   "metadata": {},
   "outputs": [
    {
     "name": "stdout",
     "output_type": "stream",
     "text": [
      "밑변의 길이를 입력해주세요: 3.0\n",
      "높이의 길이를 입력해주세요: 4.0\n",
      "빗변의 길이는 5.0입니다.\n"
     ]
    }
   ],
   "source": [
    "# p.153 - 2.\n",
    "a = float(input('밑변의 길이를 입력해주세요: '))\n",
    "b = float(input('높이의 길이를 입력해주세요: '))\n",
    "print(f'빗변의 길이는 {(a ** 2 + b ** 2) ** 0.5}입니다.')\n",
    "\n",
    "# 실행 결과\n",
    "# 밑변의 길이를 입력해주세요: 3.0\n",
    "# 높이의 길이를 입력해주세요: 4.0\n",
    "# 빗변의 길이는 5.0입니다."
   ]
  },
  {
   "cell_type": "code",
   "execution_count": 17,
   "id": "bb970881",
   "metadata": {},
   "outputs": [
    {
     "name": "stdout",
     "output_type": "stream",
     "text": [
      "> 1번째 숫자: 100\n",
      "> 2번째 숫자: 10\n",
      "\n",
      "처음 입력했던 100.0가 10.0보다 더 큽니다\n"
     ]
    }
   ],
   "source": [
    "# p.175 - 4.\n",
    "a = float(input(\"> 1번째 숫자: \"))\n",
    "b = float(input(\"> 2번째 숫자: \"))\n",
    "print()\n",
    "\n",
    "if a > b:\n",
    "    print(\"처음 입력했던 {}가 {}보다 더 큽니다\".format(a, b))\n",
    "if b > a:\n",
    "    print(\"두 번째로 입력했던 {}가 {}보다 더 큽니다\".format(b, a))\n",
    "    \n",
    "# 실행 결과\n",
    "# > 1번째 숫자: 100\n",
    "# > 2번째 숫자: 10\n",
    "\n",
    "# 처음 입력했던 100.0가 10.0보다 더 큽니다"
   ]
  },
  {
   "cell_type": "code",
   "execution_count": null,
   "id": "bd5a3036",
   "metadata": {},
   "outputs": [],
   "source": []
  }
 ],
 "metadata": {
  "kernelspec": {
   "display_name": "Python 3 (ipykernel)",
   "language": "python",
   "name": "python3"
  },
  "language_info": {
   "codemirror_mode": {
    "name": "ipython",
    "version": 3
   },
   "file_extension": ".py",
   "mimetype": "text/x-python",
   "name": "python",
   "nbconvert_exporter": "python",
   "pygments_lexer": "ipython3",
   "version": "3.9.13"
  }
 },
 "nbformat": 4,
 "nbformat_minor": 5
}
