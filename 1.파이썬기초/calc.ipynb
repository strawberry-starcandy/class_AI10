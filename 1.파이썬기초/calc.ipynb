{
 "cells": [
  {
   "cell_type": "code",
   "execution_count": 10,
   "id": "bbb75c32",
   "metadata": {},
   "outputs": [
    {
     "name": "stdout",
     "output_type": "stream",
     "text": [
      "수식을 입력하세요: 5 / 2\n",
      "5 / 2 = 2.5\n",
      "수식을 입력하세요: q\n",
      "프로그램을 종료합니다.\n",
      "\n"
     ]
    }
   ],
   "source": [
    "# 계산기 프로그램 작성\n",
    "# 1. 계산식 입력, +, -, *, / 만 허용\n",
    "# 2. 처음 자료에 'q'가 입력되면 계산기 프로그램 종료\n",
    "# 3. 입력된 자료가 숫자 부호 숫자 형식으로만 입력\n",
    "# 4. 입력된 자료의 수는 3개인지 check\n",
    "# 5. 처음 자료와 마지막 자료가 숫자인지 확인\n",
    "# 6. 부호가 +, -, *, / 중에 있는지 확인\n",
    "# 7. 위의 조건이 모두 맞으면 계산식 출력\n",
    "# 8.             아니면 다시 입력\n",
    "\n",
    "while True:\n",
    "    str_input = input('수식을 입력하세요: ').split()\n",
    "    if len(str_input) < 1:\n",
    "        print('입력이 필요합니다.\\n')\n",
    "        continue\n",
    "    if str_input[0][0] == 'q':\n",
    "        print('프로그램을 종료합니다.\\n')\n",
    "        break\n",
    "    if len(str_input) != 3:\n",
    "        print('입력 항목이 잘못되었습니다.\\n')\n",
    "        continue\n",
    "    \n",
    "    if (not str_input[0].isdigit()) and (not str_input[2].isdigit()):\n",
    "        print('처음과 마지막 자료는 숫자여야 합니다.\\n')\n",
    "    elif (len(str_input[1]) != 1) or (str_input[1] not in '+-*/'):\n",
    "        print('두번째 자료는 부호여야 합니다(+-*/).\\n')\n",
    "    else:\n",
    "        num1 = int(str_input[0])\n",
    "        num2 = int(str_input[2])\n",
    "        op = str_input[1]\n",
    "        if op == '+':\n",
    "            ans = num1 + num2\n",
    "        elif op == '-':\n",
    "            ans = num1 - num2\n",
    "        elif op == '*':\n",
    "            ans = num1 * num2\n",
    "        elif op == '/':\n",
    "            ans = num1 / num2\n",
    "        print(f'{num1} {op} {num2} = {ans}\\n')"
   ]
  },
  {
   "cell_type": "code",
   "execution_count": null,
   "id": "039fc21d",
   "metadata": {},
   "outputs": [],
   "source": [
    "# 1. 출력하고자 하는 구구단을 입력받아 해당 숫자의 구구단 출력\n",
    "#   1.1 'q' 가 입력되면 구구단 입력 종료\n",
    "# 2. 숫자를 입력 받아 리스트에 실수형으로 저장한 후 입력된 자료의 갯수와 평균을 구하세요\n",
    "#   2.1 'q' 가 입력되면 입력 종료\n",
    "# 3. 이름과 성적을 입력받아 이름을 키로 성적을 값으로 딕셔너리에 저장한 후\n",
    "#   3.1 이름에 'q' 가 입력되면 입력 종료\n",
    "#   3.2 검색하고자 하는 이름을 입력\n",
    "#     3.2.1 기존에 입력된 자료에 검색하고자 하는 이름이 있으면 입력된 성적 출력\n",
    "#             아니면 '검색하고자 하는 이름 없음' 출력"
   ]
  },
  {
   "cell_type": "code",
   "execution_count": 14,
   "id": "aef53bf3",
   "metadata": {},
   "outputs": [
    {
     "name": "stdout",
     "output_type": "stream",
     "text": [
      "단 수를 입력하세요: 5\n",
      "5 * 1 =  5\n",
      "5 * 2 = 10\n",
      "5 * 3 = 15\n",
      "5 * 4 = 20\n",
      "5 * 5 = 25\n",
      "5 * 6 = 30\n",
      "5 * 7 = 35\n",
      "5 * 8 = 40\n",
      "5 * 9 = 45\n",
      "\n",
      "단 수를 입력하세요: q\n",
      "프로그램을 종료합니다.\n",
      "\n"
     ]
    }
   ],
   "source": [
    "# 1. 출력하고자 하는 구구단을 입력받아 해당 숫자의 구구단 출력\n",
    "#   1.1 'q' 가 입력되면 구구단 입력 종료\n",
    "while True:\n",
    "    str_input = input('단 수를 입력하세요: ')\n",
    "    if len(str_input) < 1:\n",
    "        print('입력이 필요합니다.\\n')\n",
    "        continue\n",
    "    if str_input[0] == 'q':\n",
    "        print('프로그램을 종료합니다.\\n')\n",
    "        break\n",
    "    if len(str_input) > 1:\n",
    "        print('한 자리 숫자를 입력하세요.\\n')\n",
    "        continue\n",
    "        \n",
    "    num = int(str_input)\n",
    "    for n in range(1,10):\n",
    "        print(f'{num} * {n} = {num * n:2g}')\n",
    "    print()"
   ]
  },
  {
   "cell_type": "code",
   "execution_count": 15,
   "id": "9e554600",
   "metadata": {},
   "outputs": [
    {
     "name": "stdout",
     "output_type": "stream",
     "text": [
      "숫자를 입력하세요: 5\n",
      "숫자를 입력하세요: 4\n",
      "숫자를 입력하세요: 3\n",
      "숫자를 입력하세요: 2\n",
      "숫자를 입력하세요: q\n",
      "프로그램을 종료합니다.\n",
      "\n",
      "입력된 자료의 갯수: 4, 평균: 3.5\n"
     ]
    }
   ],
   "source": [
    "# 2. 숫자를 입력 받아 리스트에 실수형으로 저장한 후 입력된 자료의 갯수와 평균을 구하세요\n",
    "#   2.1 'q' 가 입력되면 입력 종료\n",
    "cnt = 0\n",
    "total = 0\n",
    "while True:\n",
    "    str_input = input('숫자를 입력하세요: ')\n",
    "    if len(str_input) < 1:\n",
    "        print('입력이 필요합니다.\\n')\n",
    "        continue\n",
    "    if str_input[0] == 'q':\n",
    "        print('프로그램을 종료합니다.\\n')\n",
    "        break\n",
    "    if not str_input.isdigit():\n",
    "        print('숫자를 입력하세요.\\n')\n",
    "        continue\n",
    "        \n",
    "    num = float(str_input)\n",
    "    cnt += 1\n",
    "    total += num\n",
    "print(f'입력된 자료의 갯수: {cnt}, 평균: {total / cnt}')"
   ]
  },
  {
   "cell_type": "code",
   "execution_count": 19,
   "id": "6412a607",
   "metadata": {},
   "outputs": [
    {
     "name": "stdout",
     "output_type": "stream",
     "text": [
      "이름과 성적을 입력하세요: qwe 123\n",
      "이름과 성적을 입력하세요: 123 123\n",
      "이름과 성적을 입력하세요: 456 456\n",
      "이름과 성적을 입력하세요: q\n",
      "입력을 종료합니다.\n",
      "\n",
      "이름을 입력하세요: 456\n",
      "456의 성적은 456.0입니다.\n",
      "이름을 입력하세요: 654\n",
      "검색하고자 하는 이름 없음\n",
      "이름을 입력하세요: qqq\n",
      "검색하고자 하는 이름 없음\n",
      "이름을 입력하세요: qwe\n",
      "qwe의 성적은 123.0입니다.\n",
      "이름을 입력하세요: q\n",
      "프로그램을 종료합니다.\n",
      "\n"
     ]
    }
   ],
   "source": [
    "# 3. 이름과 성적을 입력받아 이름을 키로 성적을 값으로 딕셔너리에 저장한 후\n",
    "#   3.1 이름에 'q' 가 입력되면 입력 종료\n",
    "#   3.2 검색하고자 하는 이름을 입력\n",
    "#     3.2.1 기존에 입력된 자료에 검색하고자 하는 이름이 있으면 입력된 성적 출력\n",
    "#             아니면 '검색하고자 하는 이름 없음' 출력\n",
    "scores ={}\n",
    "while True:\n",
    "    str_input = input('이름과 성적을 입력하세요: ').split()\n",
    "    if len(str_input) < 1:\n",
    "        print('입력 항목이 잘못되었습니다.\\n')\n",
    "        continue\n",
    "    if str_input[0] == 'q':\n",
    "        print('입력을 종료합니다.\\n')\n",
    "        break\n",
    "    if len(str_input) < 2:\n",
    "        print('입력 항목이 잘못되었습니다.\\n')\n",
    "        continue\n",
    "    if not str_input[1].isdigit():\n",
    "        print('성적은 숫자로 입력하세요.\\n')\n",
    "        continue\n",
    "    scores[str_input[0]] = float(str_input[1])\n",
    "    \n",
    "while True:\n",
    "    str_input = input('이름을 입력하세요: ')\n",
    "    if len(str_input) < 1:\n",
    "        print('입력 항목이 잘못되었습니다.\\n')\n",
    "        continue\n",
    "    if str_input == 'q':\n",
    "        print('프로그램을 종료합니다.\\n')\n",
    "        break\n",
    "    \n",
    "    if str_input in scores:\n",
    "        print(f'{str_input}의 성적은 {scores[str_input]}입니다.')\n",
    "    else:\n",
    "        print('검색하고자 하는 이름 없음')"
   ]
  },
  {
   "cell_type": "code",
   "execution_count": null,
   "id": "46845377",
   "metadata": {},
   "outputs": [],
   "source": []
  }
 ],
 "metadata": {
  "kernelspec": {
   "display_name": "Python 3 (ipykernel)",
   "language": "python",
   "name": "python3"
  },
  "language_info": {
   "codemirror_mode": {
    "name": "ipython",
    "version": 3
   },
   "file_extension": ".py",
   "mimetype": "text/x-python",
   "name": "python",
   "nbconvert_exporter": "python",
   "pygments_lexer": "ipython3",
   "version": "3.9.13"
  }
 },
 "nbformat": 4,
 "nbformat_minor": 5
}
