{
 "cells": [
  {
   "cell_type": "code",
   "execution_count": null,
   "id": "f86981c6",
   "metadata": {},
   "outputs": [],
   "source": [
    "# p.505 - 1\n",
    "class Student:\n",
    "    def __init__(self, name, score):\n",
    "        self.name = name\n",
    "        self.score = score\n",
    "        \n",
    "class StudentList:\n",
    "    def __init__(self):\n",
    "        self.students = []\n",
    "    def append(self, student):\n",
    "        self.students.append(student)\n",
    "    def get_average(self):\n",
    "        return sum(filter(lambda x:student.score, self.students)) / len(self.students)\n",
    "    def get_first_by_score(self):\n",
    "        return max(self.students, key=lambda x:student)"
   ]
  }
 ],
 "metadata": {
  "kernelspec": {
   "display_name": "Python 3 (ipykernel)",
   "language": "python",
   "name": "python3"
  },
  "language_info": {
   "codemirror_mode": {
    "name": "ipython",
    "version": 3
   },
   "file_extension": ".py",
   "mimetype": "text/x-python",
   "name": "python",
   "nbconvert_exporter": "python",
   "pygments_lexer": "ipython3",
   "version": "3.9.13"
  }
 },
 "nbformat": 4,
 "nbformat_minor": 5
}
