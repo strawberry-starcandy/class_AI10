{
 "cells": [
  {
   "cell_type": "code",
   "execution_count": 1,
   "id": "5a180b3a",
   "metadata": {},
   "outputs": [],
   "source": [
    "import pandas as pd"
   ]
  },
  {
   "cell_type": "code",
   "execution_count": null,
   "id": "7551b2d9",
   "metadata": {},
   "outputs": [],
   "source": []
  },
  {
   "cell_type": "code",
   "execution_count": null,
   "id": "fc105f77",
   "metadata": {},
   "outputs": [],
   "source": []
  },
  {
   "cell_type": "code",
   "execution_count": 2,
   "id": "721df56e",
   "metadata": {},
   "outputs": [
    {
     "name": "stdout",
     "output_type": "stream",
     "text": [
      "국어    100\n",
      "영어     90\n",
      "수학     80\n",
      "dtype: int64\n",
      "국어    200\n",
      "영어    190\n",
      "수학    180\n",
      "dtype: int64\n",
      "국어    0.50\n",
      "영어    0.45\n",
      "수학    0.40\n",
      "dtype: float64\n"
     ]
    }
   ],
   "source": [
    "# 4 산술연산\n",
    "# 4-1 시리즈 연산\n",
    "# 시리즈 연산자 숫자 : 시리즈 + - * / 숫자 -> 시리즈의 각 요소에 연산자 적용\n",
    "student1 = pd.Series({'국어':100, '영어':90, '수학':80})\n",
    "print(student1)\n",
    "\n",
    "print(student1 + 100)\n",
    "print(student1 / 200)"
   ]
  },
  {
   "cell_type": "code",
   "execution_count": 4,
   "id": "a2be291b",
   "metadata": {},
   "outputs": [
    {
     "name": "stdout",
     "output_type": "stream",
     "text": [
      "국어    100\n",
      "영어     90\n",
      "수학     80\n",
      "dtype: int64\n",
      "수학    80\n",
      "국어    90\n",
      "영어    80\n",
      "dtype: int64\n",
      "국어    190\n",
      "수학    160\n",
      "영어    170\n",
      "dtype: int64\n"
     ]
    }
   ],
   "source": [
    "# 시리즈 연산자(+, -, *, /) 시리즈\n",
    "student2 = pd.Series({'수학':80, '국어':90, '영어':80})\n",
    "print(student1)    # 국어, 영어, 수학\n",
    "print(student2)    # 수학, 국어, 영어\n",
    "\n",
    "# 학생의 과목별 합계를 구함\n",
    "hap = student1 + student2\n",
    "cha = student1 - student2\n",
    "mul = student1 * student2\n",
    "div = student1 / student2\n",
    "print(hap)"
   ]
  },
  {
   "cell_type": "code",
   "execution_count": 7,
   "id": "c96e1c97",
   "metadata": {},
   "outputs": [
    {
     "data": {
      "text/html": [
       "<div>\n",
       "<style scoped>\n",
       "    .dataframe tbody tr th:only-of-type {\n",
       "        vertical-align: middle;\n",
       "    }\n",
       "\n",
       "    .dataframe tbody tr th {\n",
       "        vertical-align: top;\n",
       "    }\n",
       "\n",
       "    .dataframe thead th {\n",
       "        text-align: right;\n",
       "    }\n",
       "</style>\n",
       "<table border=\"1\" class=\"dataframe\">\n",
       "  <thead>\n",
       "    <tr style=\"text-align: right;\">\n",
       "      <th></th>\n",
       "      <th>국어</th>\n",
       "      <th>수학</th>\n",
       "      <th>영어</th>\n",
       "    </tr>\n",
       "  </thead>\n",
       "  <tbody>\n",
       "    <tr>\n",
       "      <th>+</th>\n",
       "      <td>190.000000</td>\n",
       "      <td>160.0</td>\n",
       "      <td>170.000</td>\n",
       "    </tr>\n",
       "    <tr>\n",
       "      <th>-</th>\n",
       "      <td>10.000000</td>\n",
       "      <td>0.0</td>\n",
       "      <td>10.000</td>\n",
       "    </tr>\n",
       "    <tr>\n",
       "      <th>*</th>\n",
       "      <td>9000.000000</td>\n",
       "      <td>6400.0</td>\n",
       "      <td>7200.000</td>\n",
       "    </tr>\n",
       "    <tr>\n",
       "      <th>/</th>\n",
       "      <td>1.111111</td>\n",
       "      <td>1.0</td>\n",
       "      <td>1.125</td>\n",
       "    </tr>\n",
       "  </tbody>\n",
       "</table>\n",
       "</div>"
      ],
      "text/plain": [
       "            국어      수학        영어\n",
       "+   190.000000   160.0   170.000\n",
       "-    10.000000     0.0    10.000\n",
       "*  9000.000000  6400.0  7200.000\n",
       "/     1.111111     1.0     1.125"
      ]
     },
     "execution_count": 7,
     "metadata": {},
     "output_type": "execute_result"
    }
   ],
   "source": [
    "result = pd.DataFrame([hap, cha, mul, div], index=['+', '-', '*', '/'])\n",
    "result"
   ]
  },
  {
   "cell_type": "code",
   "execution_count": 8,
   "id": "01bc5ac6",
   "metadata": {},
   "outputs": [],
   "source": [
    "import numpy as np\n",
    "student1 = pd.Series({'국어':np.nan, '영어':80, '수학':90})\n",
    "student2 = pd.Series({'수학':90, '국어':80})"
   ]
  },
  {
   "cell_type": "code",
   "execution_count": null,
   "id": "3ac76817",
   "metadata": {},
   "outputs": [],
   "source": []
  },
  {
   "cell_type": "code",
   "execution_count": null,
   "id": "75ac4ac9",
   "metadata": {},
   "outputs": [],
   "source": []
  },
  {
   "cell_type": "code",
   "execution_count": null,
   "id": "16d06b0d",
   "metadata": {},
   "outputs": [],
   "source": []
  }
 ],
 "metadata": {
  "kernelspec": {
   "display_name": "Python 3 (ipykernel)",
   "language": "python",
   "name": "python3"
  },
  "language_info": {
   "codemirror_mode": {
    "name": "ipython",
    "version": 3
   },
   "file_extension": ".py",
   "mimetype": "text/x-python",
   "name": "python",
   "nbconvert_exporter": "python",
   "pygments_lexer": "ipython3",
   "version": "3.9.13"
  }
 },
 "nbformat": 4,
 "nbformat_minor": 5
}
