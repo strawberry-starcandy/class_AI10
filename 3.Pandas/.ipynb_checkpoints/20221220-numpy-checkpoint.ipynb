{
 "cells": [
  {
   "cell_type": "code",
   "execution_count": 1,
   "id": "49131c98",
   "metadata": {},
   "outputs": [],
   "source": [
    "import numpy as np"
   ]
  },
  {
   "cell_type": "code",
   "execution_count": 5,
   "id": "ea89165d",
   "metadata": {},
   "outputs": [
    {
     "name": "stdout",
     "output_type": "stream",
     "text": [
      "[ 0  1  2  3  4  5  6  7  8  9 10 11 12 13 14] <class 'numpy.ndarray'>\n",
      "[0, 1, 2, 3, 4, 5, 6, 7, 8, 9, 10, 11, 12, 13, 14] <class 'list'>\n"
     ]
    }
   ],
   "source": [
    "# create array\n",
    "# 메소드와 멤버: dtype, ndim, shape, size\n",
    "arr = np.arange(15)\n",
    "print(arr, type(arr))\n",
    "\n",
    "list_a = list(range(15))\n",
    "print(list_a, type(list_a))"
   ]
  },
  {
   "cell_type": "code",
   "execution_count": 8,
   "id": "90880cff",
   "metadata": {},
   "outputs": [
    {
     "name": "stdout",
     "output_type": "stream",
     "text": [
      "[[ 0  1  2  3  4]\n",
      " [ 5  6  7  8  9]\n",
      " [10 11 12 13 14]] <class 'numpy.ndarray'>\n",
      "배열의 차원 :  2\n",
      "배열의 (행,열) :  (3, 5)\n",
      "배열의 size :  15\n",
      "배열의 각 요소의 데이터 타입 :  int32 int32 4\n"
     ]
    }
   ],
   "source": [
    "arr = np.arange(15).reshape(3,5)\n",
    "print(arr, type(arr))\n",
    "print('배열의 차원 : ', arr.ndim)\n",
    "print('배열의 (행,열) : ', arr.shape)\n",
    "print('배열의 size : ', arr.size)\n",
    "print('배열의 각 요소의 데이터 타입 : ', arr.dtype, arr.dtype.name, arr.dtype.itemsize)"
   ]
  },
  {
   "cell_type": "code",
   "execution_count": 18,
   "id": "fb2afc0b",
   "metadata": {},
   "outputs": [
    {
     "name": "stdout",
     "output_type": "stream",
     "text": [
      "[1. 2. 3.] <class 'numpy.ndarray'> 1 (3,) float64\n",
      "\n",
      "[[1. 2. 3.]\n",
      " [1. 2. 3.]] <class 'numpy.ndarray'> 2 (2, 3) float64\n",
      "\n"
     ]
    }
   ],
   "source": [
    "# list로 배열 생성\n",
    "a1 = np.array([1.0, 2.0, 3.0])\n",
    "print(a1, type(a1), a1.ndim, a1.shape, a1.dtype)\n",
    "print()\n",
    "a2 = np.array([[1.0, 2.0, 3.0], [1.0, 2.0, 3.0]])\n",
    "print(a2, type(a2), a2.ndim, a2.shape, a2.dtype)\n",
    "print()"
   ]
  },
  {
   "cell_type": "code",
   "execution_count": 29,
   "id": "5c88ed17",
   "metadata": {},
   "outputs": [
    {
     "name": "stdout",
     "output_type": "stream",
     "text": [
      "[[0. 0. 0.]\n",
      " [0. 0. 0.]]\n",
      "\n",
      "[[0 0]\n",
      " [0 0]\n",
      " [0 0]\n",
      " [0 0]\n",
      " [0 0]] int32\n",
      "\n",
      "['' '' '' '' ''] <U4\n",
      "\n",
      "[[[1 1 1 1]\n",
      "  [1 1 1 1]\n",
      "  [1 1 1 1]]\n",
      "\n",
      " [[1 1 1 1]\n",
      "  [1 1 1 1]\n",
      "  [1 1 1 1]]] int64\n",
      "\n",
      "[[1. 1. 1.]\n",
      " [1. 1. 1.]] float32\n",
      "\n",
      "[[9.89505955e-312 2.47032823e-322 0.00000000e+000]\n",
      " [0.00000000e+000 1.89146896e-307 1.04082753e-047]\n",
      " [6.25884973e-091 1.16345884e+165 8.31435566e-072]\n",
      " [3.69553448e-033 3.99910963e+252 2.25286340e+184]] float64\n",
      "\n"
     ]
    }
   ],
   "source": [
    "a = np.zeros(5)\n",
    "b = np.zeros((2, 3))\n",
    "print(b)\n",
    "print()\n",
    "c = np.zeros((5, 2), dtype=\"i\")\n",
    "print(c, c.dtype)\n",
    "print()\n",
    "d = np.zeros(5, dtype=\"U4\")\n",
    "print(d, d.dtype)\n",
    "print()\n",
    "e = np.ones((2, 3, 4), dtype=\"i8\")\n",
    "print(e, e.dtype)\n",
    "print()\n",
    "f = np.ones_like(b, dtype=\"f\")\n",
    "print(f, f.dtype)\n",
    "print()\n",
    "g = np.empty((4, 3))\n",
    "print(g, g.dtype)\n",
    "print()"
   ]
  },
  {
   "cell_type": "code",
   "execution_count": 32,
   "id": "ed2c6a99",
   "metadata": {},
   "outputs": [],
   "source": [
    "x1 = np.array([1.0, 2.0, 3.0])\n",
    "y1 = np.array([5.0, 10.0, 15.0])\n",
    "x2 = np.array([[1.0, 2.0], [3.0, 4.0]])\n",
    "y2 = np.array([[5.0, 10.0], [15.0, 20.0]])\n",
    "z1 = np.array([-1.0, -2.0])\n",
    "z2 = np.array([[5.0], [10.0], [15.0]])"
   ]
  },
  {
   "cell_type": "code",
   "execution_count": 40,
   "id": "1e97514f",
   "metadata": {},
   "outputs": [
    {
     "name": "stdout",
     "output_type": "stream",
     "text": [
      "[ 6. 12. 18.]\n",
      "[ -4.  -8. -12.]\n",
      "[ 5. 20. 45.]\n",
      "[0.2 0.2 0.2]\n",
      "[[ 6. 12.]\n",
      " [18. 24.]]\n",
      "[[0. 0.]\n",
      " [2. 2.]]\n",
      "[[-1. -4.]\n",
      " [-3. -8.]]\n",
      "[1. 4. 9.]\n",
      "[False  True  True]\n"
     ]
    }
   ],
   "source": [
    "# array 기본 연산\n",
    "print(x1 + y1)     # [ 6. 12. 18.]\n",
    "print(x1 - y1)     # [ -4.  -8. -12.]\n",
    "print(x1 * y1)     # [ 5. 20. 45.]\n",
    "print(x1 / y1)     # [0.2 0.2 0.2]\n",
    "print(x2 + y2)     # [[ 6. 12.]\n",
    "                   #  [18. 24.]]\n",
    "\n",
    "# 행과 열의 갯수가 다른 경우 : broadcast\n",
    "print(x2 + z1)\n",
    "print(x2 * z1)\n",
    "print(x1 ** 2)\n",
    "print(x1 >= 2)"
   ]
  },
  {
   "cell_type": "code",
   "execution_count": 52,
   "id": "5bdb225c",
   "metadata": {},
   "outputs": [
    {
     "name": "stdout",
     "output_type": "stream",
     "text": [
      "[[1. 2.]\n",
      " [3. 4.]]\n",
      "[1. 2. 3. 4.]\n",
      "(4,)\n",
      "[[1. 2.]\n",
      " [3. 4.]]\n"
     ]
    }
   ],
   "source": [
    "# shape 변경 -> 1차원으로 평탄화\n",
    "print(x2)\n",
    "print(x2.flatten())\n",
    "x3 = x2.reshape(x2.size)\n",
    "print(x3.shape)\n",
    "print(x3.reshape((2,2)))"
   ]
  },
  {
   "cell_type": "code",
   "execution_count": 53,
   "id": "78901bbe",
   "metadata": {},
   "outputs": [
    {
     "data": {
      "text/plain": [
       "array([1., 2., 3., 4.])"
      ]
     },
     "execution_count": 53,
     "metadata": {},
     "output_type": "execute_result"
    }
   ],
   "source": [
    "x2.reshape(-1,)"
   ]
  },
  {
   "cell_type": "code",
   "execution_count": 58,
   "id": "21b38622",
   "metadata": {},
   "outputs": [
    {
     "name": "stdout",
     "output_type": "stream",
     "text": [
      "[ 0  1  4  9 16 25 36 49 64 81]\n",
      "4\n",
      "[ 9 16]\n",
      "[ 81  64  49  36  25 -16   9  -4   1   0]\n",
      "1\n",
      "2\n",
      "-3\n",
      "10\n",
      "-15\n",
      "26\n",
      "37\n",
      "50\n",
      "65\n",
      "82\n"
     ]
    }
   ],
   "source": [
    "a = np.arange(10) ** 2\n",
    "print(a)\n",
    "print(a[2])\n",
    "print(a[3:5])\n",
    "a[0:6:2] = -a[0:6:2]\n",
    "print(a[::-1])\n",
    "for i in a:\n",
    "    print(i + 1)"
   ]
  },
  {
   "cell_type": "code",
   "execution_count": 61,
   "id": "43f29e14",
   "metadata": {},
   "outputs": [
    {
     "name": "stdout",
     "output_type": "stream",
     "text": [
      "[[ 1  2  3  4  5]\n",
      " [ 6  7  8  9 10]\n",
      " [11 12 13 14 15]\n",
      " [16 17 18 19 20]]\n",
      "14\n",
      "[ 2  7 12 17]\n",
      "[ 6  7  8  9 10]\n",
      "[16 17 18 19 20]\n"
     ]
    }
   ],
   "source": [
    "a = np.arange(1,21,1).reshape(4,5)\n",
    "print(a)\n",
    "print(a[2,3])\n",
    "print(a[0:4,1])\n",
    "print(a[1,])\n",
    "print(a[-1,])"
   ]
  },
  {
   "cell_type": "code",
   "execution_count": 73,
   "id": "ed5096dd",
   "metadata": {},
   "outputs": [
    {
     "name": "stdout",
     "output_type": "stream",
     "text": [
      "[0 1 2 3 4 5]\n",
      "[ 0.          0.84147098  0.90929743  0.14112001 -0.7568025  -0.95892427]\n",
      "[ 1.          0.54030231 -0.41614684 -0.9899925  -0.65364362  0.28366219]\n",
      "[0.         0.76159416 0.96402758 0.99505475 0.9993293  0.9999092 ]\n",
      "[  1.           2.71828183   7.3890561   20.08553692  54.59815003\n",
      " 148.4131591 ]\n"
     ]
    }
   ],
   "source": [
    "a=np.arange(6)\n",
    "print(a)\n",
    "print(np.sin(a))\n",
    "print(np.cos(a))\n",
    "print(np.tanh(a))\n",
    "print(np.exp(a))"
   ]
  },
  {
   "cell_type": "code",
   "execution_count": 244,
   "id": "54a023d4",
   "metadata": {},
   "outputs": [
    {
     "name": "stdout",
     "output_type": "stream",
     "text": [
      "[-4.60517019 -2.81341072 -2.20727491 -1.83258146 -1.56064775 -1.34707365\n",
      " -1.17118298 -1.02165125 -0.89159812 -0.77652879 -0.67334455 -0.5798185\n",
      " -0.49429632 -0.41551544 -0.34249031 -0.27443685 -0.21072103 -0.15082289\n",
      " -0.09431068 -0.04082199]\n",
      "[2 5 4]\n",
      "[1 3 2]\n",
      "9\n",
      "[82 53 32 64 12]\n",
      "[2 2 2]\n",
      "[[0.23360705 0.27759677 0.2094996 ]\n",
      " [0.32132004 0.87814538 0.4615363 ]]\n",
      "[[ 1.2811603   0.71938527 -2.12516368]\n",
      " [ 0.71796237 -0.01655682  0.86347126]]\n",
      "9\n"
     ]
    }
   ],
   "source": [
    "a = np.arange(0.01, 1, 0.05)\n",
    "print(np.log(a))\n",
    "a1 = np.array([2,3,4])\n",
    "a2 = np.array([1,5,2])\n",
    "print(np.maximum(a1,a2))\n",
    "print(np.minimum(a1,a2))\n",
    "print(np.sum(a1))\n",
    "print(np.random.choice(100, 5))\n",
    "print(np.random.choice(5, 3, p=[0.1, 0, 0.3, 0.6, 0]))    # p의 값은 모두 더하면 1\n",
    "print(np.random.rand(2,3))\n",
    "print(np.random.randn(2,3))\n",
    "print(np.random.randint(10))"
   ]
  },
  {
   "cell_type": "code",
   "execution_count": 251,
   "id": "71253dfa",
   "metadata": {},
   "outputs": [
    {
     "name": "stdout",
     "output_type": "stream",
     "text": [
      "[6 2 3 1 4 5]\n",
      "0 6\n",
      "3\n"
     ]
    }
   ],
   "source": [
    "a = np.array([6,2,3,1,4,5])\n",
    "print(a)\n",
    "print(np.argmax(a), a[np.argmax(a)])\n",
    "print(np.argmin(a))"
   ]
  },
  {
   "cell_type": "code",
   "execution_count": 258,
   "id": "b290478b",
   "metadata": {},
   "outputs": [
    {
     "name": "stdout",
     "output_type": "stream",
     "text": [
      "[[0.1 0.8 0.2]\n",
      " [0.3 0.2 0.5]\n",
      " [0.9 0.5 0.3]]\n",
      "6\n",
      "[2 0 1]\n",
      "[1 2 0]\n"
     ]
    }
   ],
   "source": [
    "a = np.array([[0.1,0.8,0.2],[0.3,0.2,0.5],[0.9,0.5,0.3]])\n",
    "print(a)\n",
    "print(np.argmax(a))\n",
    "print(np.argmax(a, axis=0))\n",
    "print(np.argmax(a, axis=1))"
   ]
  },
  {
   "cell_type": "code",
   "execution_count": 259,
   "id": "7a5c5d1a",
   "metadata": {},
   "outputs": [],
   "source": [
    "# 기술 통계 함수\n",
    "x = np.array([18, 5, 10, 23, 19, -8, 10, 0, 0, 5, 2, 15, 8, 2, 5, 4, 15, -1, 4, -7, -24, 7, 9, -6, 23, -13])"
   ]
  },
  {
   "cell_type": "code",
   "execution_count": 260,
   "id": "0d7d0cea",
   "metadata": {},
   "outputs": [
    {
     "name": "stdout",
     "output_type": "stream",
     "text": [
      "26\n",
      "평균 ->  4.8076923076923075\n",
      "분산 ->  115.23224852071006\n",
      "표준편차 ->  10.734628476137871\n",
      "최대값 ->  23\n",
      "최소값 ->  -24\n",
      "중앙값 ->  5.0\n",
      "사분위수 ->  0.0\n",
      "사분위수 ->  10.0\n"
     ]
    }
   ],
   "source": [
    "print(len(x))\n",
    "print('평균 -> ', np.mean(x))\n",
    "print('분산 -> ', np.var(x))\n",
    "print('표준편차 -> ', np.std(x))\n",
    "print('최대값 -> ', np.max(x))\n",
    "print('최소값 -> ', np.min(x))\n",
    "print('중앙값 -> ', np.median(x))\n",
    "print('사분위수 -> ', np.percentile(x, 25))\n",
    "print('사분위수 -> ', np.percentile(x, 75))"
   ]
  },
  {
   "cell_type": "code",
   "execution_count": 264,
   "id": "36f55d6e",
   "metadata": {},
   "outputs": [
    {
     "data": {
      "text/plain": [
       "array([0.5488135 , 0.71518937, 0.60276338, 0.54488318, 0.4236548 ])"
      ]
     },
     "execution_count": 264,
     "metadata": {},
     "output_type": "execute_result"
    }
   ],
   "source": [
    "np.random.seed(0)\n",
    "np.random.rand(5)"
   ]
  },
  {
   "cell_type": "code",
   "execution_count": 266,
   "id": "e9b7c005",
   "metadata": {},
   "outputs": [],
   "source": [
    "x = np.arange(10)"
   ]
  },
  {
   "cell_type": "code",
   "execution_count": 268,
   "id": "6229fd88",
   "metadata": {},
   "outputs": [
    {
     "data": {
      "text/plain": [
       "array([0, 2, 6, 3, 9, 8, 5, 4, 1, 7])"
      ]
     },
     "execution_count": 268,
     "metadata": {},
     "output_type": "execute_result"
    }
   ],
   "source": [
    "np.random.shuffle(x)\n",
    "x"
   ]
  },
  {
   "cell_type": "code",
   "execution_count": 273,
   "id": "1c792b59",
   "metadata": {},
   "outputs": [
    {
     "data": {
      "text/plain": [
       "array([2, 6, 0, 4, 7, 5, 1, 3, 9, 8])"
      ]
     },
     "execution_count": 273,
     "metadata": {},
     "output_type": "execute_result"
    }
   ],
   "source": [
    "np.random.choice(x, x.size, replace=False)"
   ]
  },
  {
   "cell_type": "code",
   "execution_count": 274,
   "id": "3664b1bb",
   "metadata": {},
   "outputs": [
    {
     "data": {
      "text/plain": [
       "array([3, 3, 3, 0, 3, 0, 3, 3, 3, 3])"
      ]
     },
     "execution_count": 274,
     "metadata": {},
     "output_type": "execute_result"
    }
   ],
   "source": [
    "# 샘플링 : choice 함수 사용\n",
    "np.random.choice(5, 5, replace=False)\n",
    "np.random.choice(5, 3, replace=False)\n",
    "np.random.choice(5, 10)\n",
    "np.random.choice(5, 10, p = [0.1, 0, 0.2, 0.7,0])"
   ]
  },
  {
   "cell_type": "code",
   "execution_count": 277,
   "id": "39d96236",
   "metadata": {},
   "outputs": [
    {
     "data": {
      "text/plain": [
       "array([[16, 15, 13, 11, 18],\n",
       "       [10, 14, 19, 16, 15],\n",
       "       [17, 18, 18, 19, 12]])"
      ]
     },
     "execution_count": 277,
     "metadata": {},
     "output_type": "execute_result"
    }
   ],
   "source": [
    "np.random.randint(10, size=10)\n",
    "np.random.randint(10, 20, size=10)\n",
    "np.random.randint(10, 20, size=(3,5))"
   ]
  },
  {
   "cell_type": "code",
   "execution_count": 280,
   "id": "8b9c7929",
   "metadata": {},
   "outputs": [],
   "source": [
    "x = np.array([ 1,  2,  3,  4,  5,  6,  7,  8,  9, 10, 11, 12, 13, 14, 15, 16, 17, 18, 19, 20])"
   ]
  },
  {
   "cell_type": "code",
   "execution_count": 298,
   "id": "f560299e",
   "metadata": {},
   "outputs": [
    {
     "name": "stdout",
     "output_type": "stream",
     "text": [
      "[ 3  6  9 12 15 18]\n"
     ]
    }
   ],
   "source": [
    "x1 = (x % 3) == 0\n",
    "x11 = x[x1]\n",
    "print(x11)"
   ]
  },
  {
   "cell_type": "code",
   "execution_count": 299,
   "id": "ff2101f6",
   "metadata": {},
   "outputs": [
    {
     "name": "stdout",
     "output_type": "stream",
     "text": [
      "[ 1  5  9 13 17]\n"
     ]
    }
   ],
   "source": [
    "x2 = (x % 4) == 1\n",
    "x22 = x[x2]\n",
    "print(x22)"
   ]
  },
  {
   "cell_type": "code",
   "execution_count": 302,
   "id": "349f3c50",
   "metadata": {},
   "outputs": [
    {
     "name": "stdout",
     "output_type": "stream",
     "text": [
      "[9]\n"
     ]
    }
   ],
   "source": [
    "x3 = x1 & x2\n",
    "x33 = x[x3]\n",
    "print(x33)"
   ]
  },
  {
   "cell_type": "code",
   "execution_count": null,
   "id": "9e92179c",
   "metadata": {},
   "outputs": [],
   "source": []
  }
 ],
 "metadata": {
  "kernelspec": {
   "display_name": "Python 3 (ipykernel)",
   "language": "python",
   "name": "python3"
  },
  "language_info": {
   "codemirror_mode": {
    "name": "ipython",
    "version": 3
   },
   "file_extension": ".py",
   "mimetype": "text/x-python",
   "name": "python",
   "nbconvert_exporter": "python",
   "pygments_lexer": "ipython3",
   "version": "3.9.13"
  }
 },
 "nbformat": 4,
 "nbformat_minor": 5
}
