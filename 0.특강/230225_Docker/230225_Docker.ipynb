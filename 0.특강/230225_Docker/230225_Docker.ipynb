{
 "cells": [
  {
   "attachments": {},
   "cell_type": "markdown",
   "metadata": {},
   "source": [
    "# Docker"
   ]
  },
  {
   "attachments": {},
   "cell_type": "markdown",
   "metadata": {},
   "source": [
    "## 설치"
   ]
  },
  {
   "attachments": {},
   "cell_type": "markdown",
   "metadata": {},
   "source": [
    "- WSL 을 사용하지 말 것"
   ]
  },
  {
   "attachments": {},
   "cell_type": "markdown",
   "metadata": {},
   "source": [
    "## 실행"
   ]
  },
  {
   "attachments": {},
   "cell_type": "markdown",
   "metadata": {},
   "source": [
    "- 터미널에서 `docker` 입력하면 커맨드 도움말 확인 가능\n"
   ]
  },
  {
   "attachments": {},
   "cell_type": "markdown",
   "metadata": {},
   "source": [
    "- docker version  \n",
    "  - 현재 사용중인 버전 확인\n",
    "- docker system info\n",
    "  - system 정보 확인\n",
    "- docker system df\n",
    "  - 현재 상태 확인"
   ]
  },
  {
   "attachments": {},
   "cell_type": "markdown",
   "metadata": {},
   "source": [
    "## web server container 생성"
   ]
  },
  {
   "attachments": {},
   "cell_type": "markdown",
   "metadata": {},
   "source": [
    "- docker pull nginx\n",
    "  - nginx 이미지 설치\n",
    "- docker system df\n",
    "  - nginx 이미지가 설치되어 용량이 늘어난 것을 확인할 수 있음\n",
    "- docker container run --name webserver -d -p 80:80 nginx\n",
    "  - nginx container 를 실행함\n",
    "- docker ps\n",
    "  - 실행중인 container 정보 확인\n",
    "- docker stop webserver\n",
    "  - webserver container를 중지시킴\n",
    "- docker start webserver\n",
    " - webserver container를 시작함\n",
    "\n"
   ]
  },
  {
   "attachments": {},
   "cell_type": "markdown",
   "metadata": {},
   "source": [
    "## 이미지 관리"
   ]
  },
  {
   "attachments": {},
   "cell_type": "markdown",
   "metadata": {},
   "source": [
    "- docker image ls\n",
    "  - 현재 설치된 이미지 리스트 확인\n",
    "- docker image gcr.io.tensorflow/v2\n",
    "  - http://gcr.io.tensorflow/v2 에서 이미지 다운(http:// 생략)\n",
    "- docker image inspect centos:7\n",
    "  - 특정 이미지의 상세 정보를 json 형태로 확인\n",
    "- docker image inspect --format=\"{{.ContainerConfig.Cmd}}\" nginx\n",
    "  - 상세 정보 중 특정 항목에 대한 정보 확인\n",
    "- docker image tag ubuntu id/ubuntu:1.0\n",
    "  - 이미지의 새로운 이름과 태그를 지정 (docker hub id로 입력해야 업로드 가능)\n",
    "- docker search ubuntu\n",
    "  - ubuntu 이미지 검색 (docker hub)\n",
    "- docker image rm name\n",
    "  - image 삭제\n",
    "- docker image rm name -f\n",
    "  - 강제 삭제\n",
    "------\n",
    "- docker image push id/name:tag\n",
    "  - docker hub에 이미지 업로드"
   ]
  },
  {
   "attachments": {},
   "cell_type": "markdown",
   "metadata": {},
   "source": [
    "## docker 로그인"
   ]
  },
  {
   "attachments": {},
   "cell_type": "markdown",
   "metadata": {},
   "source": [
    "- docker login\n",
    "  - command 창에서 로그인"
   ]
  },
  {
   "attachments": {},
   "cell_type": "markdown",
   "metadata": {},
   "source": [
    "## docker container"
   ]
  },
  {
   "attachments": {},
   "cell_type": "markdown",
   "metadata": {},
   "source": [
    "- docker container run [옵션] 이미지명:태그 [인수]\n",
    "  - 컨테이너 실행\n",
    "  - 해당 이미지가 없을 경우 허브에서 다운로드하여 실행함"
   ]
  },
  {
   "attachments": {},
   "cell_type": "markdown",
   "metadata": {},
   "source": [
    "- docker container run -d -p 8080:80 nginx\n",
    "  - 8080 port 를 사용하여 서버 오픈"
   ]
  },
  {
   "attachments": {},
   "cell_type": "markdown",
   "metadata": {},
   "source": [
    "- docker container run -d --dns 192.168.0.6 nginx\n",
    "  - DNS 서버 지정"
   ]
  },
  {
   "attachments": {},
   "cell_type": "markdown",
   "metadata": {},
   "source": [
    "- docker container run -d --mac-address='14:7d:da:9b:b0:d1' nginx\n",
    "  - mac 어드레스 지정"
   ]
  },
  {
   "attachments": {},
   "cell_type": "markdown",
   "metadata": {},
   "source": [
    "- docker container ps\n",
    "  - 현재 컨테이너들 정보 확인"
   ]
  },
  {
   "attachments": {},
   "cell_type": "markdown",
   "metadata": {},
   "source": [
    "- docker container inspect `container ID`\n",
    "  - `container ID` 의 정보를 json으로 확인"
   ]
  },
  {
   "attachments": {},
   "cell_type": "markdown",
   "metadata": {},
   "source": [
    "- docker container run -it --add-host test.com:192.168.0.6 centos\n",
    "  "
   ]
  },
  {
   "attachments": {},
   "cell_type": "markdown",
   "metadata": {},
   "source": [
    "- docker network create -d bridge webap-net\n",
    "  - 네트워크 생성"
   ]
  },
  {
   "attachments": {},
   "cell_type": "markdown",
   "metadata": {},
   "source": [
    "- docker container run --net=webap-net -it centos\n",
    "  - container에 net 지정"
   ]
  },
  {
   "attachments": {},
   "cell_type": "markdown",
   "metadata": {},
   "source": [
    "- docker container run [자원 옵션] 이미지명[:태그명] [인수]\n",
    "  - docker container run -c=512 -m=1g centos\n",
    "    - c: cpu, m: memory\n",
    "  - docker container run -v /Users/YGL/webap:/usr/share/nginx/html nginx"
   ]
  },
  {
   "attachments": {},
   "cell_type": "markdown",
   "metadata": {},
   "source": [
    "- docker container run -it -e encore=23 centos /bin/bash\n",
    "  - 컨테이너를 생성 및 시작하는 환경을 지정\n",
    "  - 환경변수를 설정하고 시작함"
   ]
  },
  {
   "attachments": {},
   "cell_type": "markdown",
   "metadata": {},
   "source": [
    "- docker container ls\n",
    "  - 현재 가동중인 container 목록 확인\n",
    "- docker container ls -a\n",
    "  - 모든 container 목록 확인"
   ]
  },
  {
   "attachments": {},
   "cell_type": "markdown",
   "metadata": {},
   "source": [
    "- docker container stats [`컨테이너 식별자`]\n",
    "  - 컨테이너의 가동 확인\n",
    "- docker container top [`컨테이너 식별자`]\n",
    "  - ?"
   ]
  },
  {
   "attachments": {},
   "cell_type": "markdown",
   "metadata": {},
   "source": [
    "## 컨테이너 시작/정지"
   ]
  },
  {
   "attachments": {},
   "cell_type": "markdown",
   "metadata": {},
   "source": [
    "### 컨테이너 시작\n",
    "- docker container start [option]"
   ]
  },
  {
   "attachments": {},
   "cell_type": "markdown",
   "metadata": {},
   "source": [
    "### 컨테이너 정지\n",
    "- docker container stop [option]"
   ]
  },
  {
   "attachments": {},
   "cell_type": "markdown",
   "metadata": {},
   "source": [
    "### 컨테이너 재시작\n",
    "- docker container restart [option]"
   ]
  },
  {
   "attachments": {},
   "cell_type": "markdown",
   "metadata": {},
   "source": [
    "### 컨테이너 삭제\n",
    "- docker container rm [option]\n",
    "- docker container prune\n",
    "  - 활성이 아닌 컨테이너 삭제"
   ]
  },
  {
   "attachments": {},
   "cell_type": "markdown",
   "metadata": {},
   "source": [
    "### 컨테이너 프로세스 중단/재개\n",
    "- docker container pause\n",
    "- docker container unpause"
   ]
  },
  {
   "attachments": {},
   "cell_type": "markdown",
   "metadata": {},
   "source": [
    "## 컨테이너 네트워크"
   ]
  },
  {
   "attachments": {},
   "cell_type": "markdown",
   "metadata": {},
   "source": [
    "### 네트워크 연결\n",
    "- container?"
   ]
  },
  {
   "attachments": {},
   "cell_type": "markdown",
   "metadata": {},
   "source": [
    "## 가동중인 컨테이너"
   ]
  },
  {
   "attachments": {},
   "cell_type": "markdown",
   "metadata": {},
   "source": [
    "### 가동 컨테이너 연결\n",
    "- docker ps\n",
    "  - 현재 가동중인 container 확인\n",
    "- docker container attach [`컨테이너 식별자`]\n",
    "  - ctrl+P -> ctrl+Q 입력해서 분리\n",
    "  - exit 등 사용하면 동작중인 컨테이너가 종료될 수 있음"
   ]
  },
  {
   "attachments": {},
   "cell_type": "markdown",
   "metadata": {},
   "source": []
  }
 ],
 "metadata": {
  "kernelspec": {
   "display_name": "base",
   "language": "python",
   "name": "python3"
  },
  "language_info": {
   "name": "python",
   "version": "3.9.15"
  },
  "orig_nbformat": 4,
  "vscode": {
   "interpreter": {
    "hash": "c26f353c27931f725c93fcbadc2e7e31e7e5899f3a4467db104b676492b983cb"
   }
  }
 },
 "nbformat": 4,
 "nbformat_minor": 2
}
