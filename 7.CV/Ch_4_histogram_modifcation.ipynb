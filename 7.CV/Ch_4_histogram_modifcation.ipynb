{
 "cells": [
  {
   "cell_type": "markdown",
   "id": "8f60d2f7",
   "metadata": {},
   "source": [
    "# 히스토그램 변환  (Histogram modification)"
   ]
  },
  {
   "cell_type": "markdown",
   "id": "12fb9283",
   "metadata": {},
   "source": [
    "## 영상의 명암비 조절"
   ]
  },
  {
   "cell_type": "code",
   "execution_count": null,
   "id": "d1c104b5",
   "metadata": {},
   "outputs": [],
   "source": [
    "# cv2.normalize(src, dst=None, alpha=None, beta=None, norm_type=None, dtype=None, mask=None) -> dst\n",
    "# src: 입력영상\n",
    "# dst: 결과영상\n",
    "# alpha: 정규화 최소값 (예, 0)\n",
    "# beta: 정규화 최댓값 (예, 155)\n",
    "# norm_type: cv2.NORM_MINMAX\n",
    "# dtype =  -1, src와 같은 type"
   ]
  },
  {
   "cell_type": "code",
   "execution_count": 34,
   "id": "a6bf5969",
   "metadata": {},
   "outputs": [],
   "source": [
    "import sys\n",
    "import numpy as np\n",
    "import cv2\n",
    "\n",
    "\n",
    "src = cv2.imread('fig/manjang.jpg', cv2.IMREAD_REDUCED_GRAYSCALE_2)\n",
    "# src = cv2.imread('fig/puppy_shrink.png', cv2.IMREAD_REDUCED_GRAYSCALE_2)\n",
    "\n",
    "if src is None:\n",
    "    print('Image load failed!')\n",
    "    sys.exit()\n",
    "\n",
    "# minMaxLoc(src[, mask]) -> minVal, maxVal, minLoc, maxLoc\n",
    "smin, smax, _, _ = cv2.minMaxLoc(src)\n",
    "\n",
    "dst_norm = cv2.normalize(src, None, 0, 255, cv2.NORM_MINMAX, -1)\n",
    "# dst = np.clip(255*(src-smin)/(smax-smin) + 0, 0, 255).astype(np.uint8)\n",
    "\n",
    "dst_equal = cv2.equalizeHist(src)\n",
    "\n",
    "\n",
    "cv2.imshow('src', src)\n",
    "cv2.imshow('dst_norm', dst_norm)\n",
    "cv2.imshow('dst_equal', dst_equal)\n",
    "\n",
    "cv2.waitKey()\n",
    "\n",
    "cv2.destroyAllWindows()\n"
   ]
  },
  {
   "cell_type": "markdown",
   "id": "e8c5427b",
   "metadata": {},
   "source": [
    "## 칼라영상 히스토그램 평활화"
   ]
  },
  {
   "cell_type": "code",
   "execution_count": null,
   "id": "88462ac3",
   "metadata": {},
   "outputs": [],
   "source": [
    "# equalizeHist(src, dst=None) -> dst\n",
    "# src: 입력영상,gray scale 영상만 가능"
   ]
  },
  {
   "cell_type": "code",
   "execution_count": 31,
   "id": "3ecc2758",
   "metadata": {},
   "outputs": [],
   "source": [
    "import sys\n",
    "import numpy as np\n",
    "import cv2\n",
    "\n",
    "\n",
    "# 컬러 영상의 히스토그램 평활화\n",
    "src = cv2.imread('fig/spring_in_park.jpg', cv2.IMREAD_REDUCED_COLOR_2)\n",
    "\n",
    "if src is None:\n",
    "    print('Image load failed!')\n",
    "    sys.exit()\n",
    "\n",
    "src_hsv = cv2.cvtColor(src, cv2.COLOR_BGR2HSV)\n",
    "h, s, v = cv2.split(src_hsv) # list ret\n",
    "\n",
    "# 밝기 성분에 대해서만 히스토그램 평활화 수행\n",
    "v_equal = cv2.equalizeHist(v)\n",
    "v_norm = cv2.normalize(v, None, 0, 255, cv2.NORM_MINMAX, -1)\n",
    "\n",
    "dst_equal = cv2.merge((h, s, v_equal))\n",
    "dst_norm = cv2.merge((h, s, v_norm))\n",
    "\n",
    "\n",
    "dst_equal = cv2.cvtColor(dst_equal, cv2.COLOR_HSV2BGR)\n",
    "dst_norm = cv2.cvtColor(dst_norm, cv2.COLOR_HSV2BGR)\n",
    "\n",
    "\n",
    "cv2.imshow('src', src)\n",
    "cv2.imshow('dst_equal', dst_equal)\n",
    "cv2.imshow('dst_norm', dst_norm)\n",
    "\n",
    "cv2.waitKey()\n",
    "\n",
    "cv2.destroyAllWindows()\n",
    "\n",
    "## 히스토그램 평활화를 통해서 개선할 수 있는 영상을 찾고 평활화 수행"
   ]
  },
  {
   "cell_type": "markdown",
   "id": "30bcfd48",
   "metadata": {},
   "source": [
    "## 특정 색상 영역 찾아 내기"
   ]
  },
  {
   "cell_type": "code",
   "execution_count": null,
   "id": "5f9c7bbb",
   "metadata": {},
   "outputs": [],
   "source": [
    "# inRange(src, lowerb, upperb[, dst]) -> dst\n",
    "# src: 입력영상\n",
    "# lowerb: 하한값 (0, 0, 0)\n",
    "# upperb: 상한값 (255, 255, 255)"
   ]
  },
  {
   "cell_type": "code",
   "execution_count": 42,
   "id": "6c8ff11e",
   "metadata": {},
   "outputs": [],
   "source": [
    "# src = cv2.imread('fig/palette.png')\n",
    "\n",
    "# src_hsv = cv2.cvtColor(src, cv2.COLOR_BGR2HSV)\n",
    "# src_hsv[:,:,2] = src_hsv[:,:,2] - 100\n",
    "\n",
    "# src = cv2.cvtColor(src_hsv, cv2.COLOR_HSV2BGR)\n",
    "# cv2.imwrite('palette_dark.png', src)\n",
    "\n",
    "# cv2.imshow('image', src)\n",
    "# cv2.waitKey()\n",
    "# cv2.destroyAllWindows()"
   ]
  },
  {
   "cell_type": "code",
   "execution_count": 44,
   "id": "3d86c584",
   "metadata": {},
   "outputs": [],
   "source": [
    "import sys\n",
    "import numpy as np\n",
    "import cv2\n",
    "\n",
    "# src = cv2.imread('fig/palette.png')\n",
    "src = cv2.imread('fig/palette_dark.png')\n",
    "\n",
    "\n",
    "if src is None:\n",
    "    print('Image load failed!')\n",
    "    sys.exit()\n",
    "\n",
    "src_hsv = cv2.cvtColor(src, cv2.COLOR_BGR2HSV)\n",
    "\n",
    "dst1 = cv2.inRange(src, (0, 128, 0), (100, 255, 100)) # b, g, r\n",
    "dst2 = cv2.inRange(src_hsv, (40, 150, 0), (70, 255, 255)) # h, s, v\n",
    "\n",
    "cv2.imshow('src', src)\n",
    "cv2.imshow('dst1', dst1)\n",
    "cv2.imshow('dst2', dst2)\n",
    "\n",
    "cv2.waitKey()\n",
    "\n",
    "cv2.destroyAllWindows()"
   ]
  },
  {
   "cell_type": "code",
   "execution_count": 1,
   "id": "77c7c0e9",
   "metadata": {},
   "outputs": [
    {
     "ename": "error",
     "evalue": "OpenCV(4.6.0) D:\\a\\opencv-python\\opencv-python\\opencv\\modules\\highgui\\src\\window.cpp:862: error: (-215:Assertion failed) trackbar in function 'cv::getTrackbarPos'\n",
     "output_type": "error",
     "traceback": [
      "\u001b[1;31m---------------------------------------------------------------------------\u001b[0m",
      "\u001b[1;31merror\u001b[0m                                     Traceback (most recent call last)",
      "Input \u001b[1;32mIn [1]\u001b[0m, in \u001b[0;36mon_trackbar\u001b[1;34m(pos)\u001b[0m\n\u001b[0;32m     16\u001b[0m \u001b[38;5;28;01mdef\u001b[39;00m \u001b[38;5;21mon_trackbar\u001b[39m(pos):\n\u001b[0;32m     17\u001b[0m     hmin \u001b[38;5;241m=\u001b[39m cv2\u001b[38;5;241m.\u001b[39mgetTrackbarPos(\u001b[38;5;124m'\u001b[39m\u001b[38;5;124mH_min\u001b[39m\u001b[38;5;124m'\u001b[39m, \u001b[38;5;124m'\u001b[39m\u001b[38;5;124mdst\u001b[39m\u001b[38;5;124m'\u001b[39m)\n\u001b[1;32m---> 18\u001b[0m     hmax \u001b[38;5;241m=\u001b[39m \u001b[43mcv2\u001b[49m\u001b[38;5;241;43m.\u001b[39;49m\u001b[43mgetTrackbarPos\u001b[49m\u001b[43m(\u001b[49m\u001b[38;5;124;43m'\u001b[39;49m\u001b[38;5;124;43mH_max\u001b[39;49m\u001b[38;5;124;43m'\u001b[39;49m\u001b[43m,\u001b[49m\u001b[43m \u001b[49m\u001b[38;5;124;43m'\u001b[39;49m\u001b[38;5;124;43mdst\u001b[39;49m\u001b[38;5;124;43m'\u001b[39;49m\u001b[43m)\u001b[49m\n\u001b[0;32m     19\u001b[0m \u001b[38;5;66;03m#     sat = cv2.getTrackbarPos('sat', 'dst')\u001b[39;00m\n\u001b[0;32m     21\u001b[0m     dst \u001b[38;5;241m=\u001b[39m cv2\u001b[38;5;241m.\u001b[39minRange(src_hsv, (hmin, \u001b[38;5;241m150\u001b[39m, \u001b[38;5;241m0\u001b[39m), (hmax, \u001b[38;5;241m255\u001b[39m, \u001b[38;5;241m255\u001b[39m))\n",
      "\u001b[1;31merror\u001b[0m: OpenCV(4.6.0) D:\\a\\opencv-python\\opencv-python\\opencv\\modules\\highgui\\src\\window.cpp:862: error: (-215:Assertion failed) trackbar in function 'cv::getTrackbarPos'\n"
     ]
    }
   ],
   "source": [
    "## 트랙바를 이용해서 색상 찾기\n",
    "\n",
    "import sys\n",
    "import numpy as np\n",
    "import cv2\n",
    "\n",
    "\n",
    "src = cv2.imread('fig/palette_dark.png')\n",
    "\n",
    "if src is None:\n",
    "    print('Image load failed!')\n",
    "    sys.exit()\n",
    "\n",
    "src_hsv = cv2.cvtColor(src, cv2.COLOR_BGR2HSV)\n",
    "\n",
    "def on_trackbar(pos):\n",
    "    hmin = cv2.getTrackbarPos('H_min', 'dst')\n",
    "    hmax = cv2.getTrackbarPos('H_max', 'dst')\n",
    "#     sat = cv2.getTrackbarPos('sat', 'dst')\n",
    "    \n",
    "    dst = cv2.inRange(src_hsv, (hmin, 150, 0), (hmax, 255, 255))\n",
    "#     dst = cv2.inRange(src_hsv, (hmin, sat, 0), (hmax, 255, 255))\n",
    "    cv2.imshow('dst', dst)\n",
    "\n",
    "\n",
    "cv2.imshow('src', src)\n",
    "cv2.namedWindow('dst')\n",
    "\n",
    "cv2.createTrackbar('H_min', 'dst', 50, 179, on_trackbar)\n",
    "cv2.createTrackbar('H_max', 'dst', 80, 179, on_trackbar)\n",
    "# cv2.createTrackbar('sat', 'dst', 150, 255, call_trackbar)\n",
    "\n",
    "on_trackbar(0)\n",
    "\n",
    "cv2.waitKey()\n",
    "\n",
    "cv2.destroyAllWindows()"
   ]
  },
  {
   "cell_type": "markdown",
   "id": "7533102a",
   "metadata": {},
   "source": [
    "## 히스토그램 역투영"
   ]
  },
  {
   "cell_type": "code",
   "execution_count": null,
   "id": "57ffef6d",
   "metadata": {},
   "outputs": [],
   "source": [
    "# selectROI(windowName, img[, showCrosshair[, fromCenter]]) -> retval\n",
    "    # retval:  x(왼쪽 상단), y(왼쪽상단), w (넓이), h(높이)\n",
    "\n",
    "# calcBackProject(images, channels, hist, ranges, scale[, dst]) -> dst"
   ]
  },
  {
   "cell_type": "code",
   "execution_count": 2,
   "id": "0811cffe",
   "metadata": {},
   "outputs": [],
   "source": [
    "import sys\n",
    "import numpy as np\n",
    "import cv2\n",
    "\n",
    "\n",
    "src = cv2.imread('./fig/green.png', cv2.IMREAD_REDUCED_COLOR_2)\n",
    "\n",
    "if src is None:\n",
    "    print('image read failed')\n",
    "    sys.exit()\n",
    "\n",
    "x, y, w, h = cv2.selectROI(src)\n",
    "src_ycrcb = cv2.cvtColor(src, cv2.COLOR_BGR2YCrCb) \n",
    "crop = src_ycrcb[y:y+h, x:x+w]\n",
    "\n",
    "# 0 번은 조명/밝기 정보, [1,2] = Cr, Cb channel\n",
    "channels = [1, 2]\n",
    "# histSize\n",
    "cr_bins = 256 \n",
    "cb_bins = 256\n",
    "histSize = [cr_bins, cb_bins]\n",
    "\n",
    "## range: [0, 256, 0, 256]\n",
    "cr_range = [0, 256]\n",
    "cb_range = [0, 256]\n",
    "ranges = cr_range + cb_range\n",
    "\n",
    "hist = cv2.calcHist([crop], channels, None, histSize, ranges)\n",
    "\n",
    "# calcBackProject(images, channels, hist, ranges, scale[, dst]) -> dst\n",
    "# dst: mask image\n",
    "backproj = cv2.calcBackProject([src_ycrcb], channels, hist, ranges, 1)\n",
    "dst = cv2.copyTo(src, backproj)\n",
    "\n",
    "\n",
    "cv2.imshow('src', src)\n",
    "cv2.imshow('dst', dst)\n",
    "cv2.imshow('hist', hist)\n",
    "cv2.imshow('backproj', backproj)\n",
    "\n",
    "cv2.waitKey()\n",
    "\n",
    "cv2.destroyAllWindows()"
   ]
  }
 ],
 "metadata": {
  "kernelspec": {
   "display_name": "Python 3 (ipykernel)",
   "language": "python",
   "name": "python3"
  },
  "language_info": {
   "codemirror_mode": {
    "name": "ipython",
    "version": 3
   },
   "file_extension": ".py",
   "mimetype": "text/x-python",
   "name": "python",
   "nbconvert_exporter": "python",
   "pygments_lexer": "ipython3",
   "version": "3.9.15"
  }
 },
 "nbformat": 4,
 "nbformat_minor": 5
}
